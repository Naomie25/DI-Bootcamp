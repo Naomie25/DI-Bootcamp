{
  "nbformat": 4,
  "nbformat_minor": 0,
  "metadata": {
    "colab": {
      "provenance": [],
      "authorship_tag": "ABX9TyN72JtmPb3nmVu5vGtI/QWQ",
      "include_colab_link": true
    },
    "kernelspec": {
      "name": "python3",
      "display_name": "Python 3"
    },
    "language_info": {
      "name": "python"
    }
  },
  "cells": [
    {
      "cell_type": "markdown",
      "metadata": {
        "id": "view-in-github",
        "colab_type": "text"
      },
      "source": [
        "<a href=\"https://colab.research.google.com/github/Naomie25/DI-Bootcamp/blob/main/Week5_Day1_ExerciceXP.ipynb\" target=\"_parent\"><img src=\"https://colab.research.google.com/assets/colab-badge.svg\" alt=\"Open In Colab\"/></a>"
      ]
    },
    {
      "cell_type": "markdown",
      "source": [
        "Exercise 1 : Defining the Problem and Data Collection for Loan Default Prediction"
      ],
      "metadata": {
        "id": "8HHnZcpp3-M0"
      }
    },
    {
      "cell_type": "markdown",
      "source": [
        "\n",
        "\n",
        "## **Loan Default Prediction: Problem Statement & Data Collection Plan**\n",
        "\n",
        "### **1. Problem Statement**\n",
        "\n",
        "Financial institutions face significant losses due to loan defaults. To reduce this risk and improve lending decisions, it is essential to identify potential defaulters before loans are approved. This project aims to build a machine learning model that predicts whether a borrower is likely to default on a loan based on historical and applicant data.\n",
        "\n",
        "**Objective:**\n",
        "Develop a predictive model to classify loan applicants as *likely to default* or *not likely to default*, using various financial, personal, and behavioral indicators.\n",
        "\n",
        "**Output:**\n",
        "A binary classification:\n",
        "\n",
        "* `1` — Likely to default\n",
        "* `0` — Not likely to default\n",
        "\n",
        "**Success Criteria:**\n",
        "\n",
        "* High accuracy, precision, and recall\n",
        "* Robustness to data imbalance\n",
        "* Interpretability for real-world decision-making\n",
        "* Compliance with data privacy and financial regulations\n",
        "\n",
        "---\n",
        "\n",
        "### **2. Data Collection Plan**\n",
        "\n",
        "#### **A. Types of Data Needed**\n",
        "\n",
        "| Category                  | Data Attributes                                                                     |\n",
        "| ------------------------- | ----------------------------------------------------------------------------------- |\n",
        "| **Personal Details**      | Age, gender, marital status, education, dependents, residential status              |\n",
        "| **Financial Information** | Annual income, monthly expenses, credit score, existing debts, debt-to-income ratio |\n",
        "| **Employment Details**    | Employment status, job title, industry, years employed, employment type             |\n",
        "| **Loan Information**      | Loan amount, term, interest rate, purpose, collateral                               |\n",
        "| **Repayment History**     | Previous defaults, missed/late payments, repayment timeliness, delinquency          |\n",
        "| **Transaction Data**      | Bank balances, recent transactions, overdraft frequency, payment-to-income ratio    |\n",
        "| **Other Data**            | Location, loan application channel                                                  |\n",
        "\n",
        "---\n",
        "\n",
        "#### **B. Data Sources**\n",
        "\n",
        "| Data Type                   | Possible Data Sources                                                                   |\n",
        "| --------------------------- | --------------------------------------------------------------------------------------- |\n",
        "| **Internal Records**        | Financial institution’s loan management systems, customer profiles, transaction logs    |\n",
        "| **Credit Bureaus**          | Experian, Equifax, TransUnion — for credit scores, credit history, delinquencies        |\n",
        "| **Employment Verification** | Income verification services, payroll providers, employment databases                   |\n",
        "| **Bank Statements**         | Directly from customer-provided documents or consent-based API access (e.g., Plaid)     |\n",
        "| **Public/Third-party Data** | Government databases (for income norms, inflation), alternative credit scoring services |\n",
        "| **Application Forms**       | Online or offline loan application documents filled by the customer                     |\n",
        "\n",
        "---\n",
        "\n",
        "### **3. Considerations**\n",
        "\n",
        "* **Privacy & Compliance**: Ensure GDPR, CCPA, or local data protection laws are followed. Use anonymization and encryption where needed.\n",
        "* **Data Quality**: Validate completeness, accuracy, and consistency before model training.\n",
        "* **Imbalance Handling**: Default cases are typically rare; techniques like SMOTE or stratified sampling may be required.\n",
        "* **Ethical Use**: Avoid bias in data and ensure fairness in predictions.\n",
        "\n",
        "---\n",
        "\n",
        "### **4. Next Steps**\n",
        "\n",
        "1. Define data access and permissions with stakeholders.\n",
        "2. Gather and explore data from all available internal systems.\n",
        "3. Integrate external data sources (e.g., credit bureau APIs).\n",
        "4. Perform data cleaning, feature engineering, and exploratory data analysis.\n",
        "5. Train, evaluate, and deploy predictive model.\n",
        "\n"
      ],
      "metadata": {
        "id": "klYROwYQ37mP"
      }
    },
    {
      "cell_type": "markdown",
      "source": [
        "Exercise 2 : Feature Selection and Model Choice for Loan Default Prediction\n"
      ],
      "metadata": {
        "id": "TpFDE7Vu4zXP"
      }
    },
    {
      "cell_type": "markdown",
      "source": [
        "\n",
        "\n",
        "### 🔑 **Most Relevant Features and Justifications:**\n",
        "\n",
        "1. **Credit\\_History**\n",
        "\n",
        "   * **Justification:** This is typically the most important factor in predicting loan defaults. A good credit history (e.g., timely repayments, no defaults) strongly correlates with lower default risk.\n",
        "\n",
        "2. **ApplicantIncome & CoapplicantIncome**\n",
        "\n",
        "   * **Justification:** Higher income levels often indicate a better ability to repay loans. Both primary and secondary (coapplicant) incomes are relevant to assess total household earning capacity.\n",
        "\n",
        "3. **LoanAmount**\n",
        "\n",
        "   * **Justification:** Larger loan amounts imply greater financial burden. A high loan amount relative to income may increase default risk.\n",
        "\n",
        "4. **Loan\\_Amount\\_Term**\n",
        "\n",
        "   * **Justification:** The length of the loan term affects monthly repayment amounts. Shorter terms may increase monthly payments and affect repayment ability.\n",
        "\n",
        "5. **Education**\n",
        "\n",
        "   * **Justification:** Generally, graduates may have more stable and higher-paying jobs, lowering their default risk.\n",
        "\n",
        "6. **Married**\n",
        "\n",
        "   * **Justification:** Married applicants may have dual income sources or more stable financial support, which could influence repayment capacity.\n",
        "\n",
        "7. **Self\\_Employed**\n",
        "\n",
        "   * **Justification:** Self-employed individuals often have irregular income patterns, which may increase risk.\n",
        "\n",
        "8. **Property\\_Area**\n",
        "\n",
        "   * **Justification:** Location can affect income stability, job availability, and living costs — all of which relate to default risk.\n",
        "\n",
        "---\n",
        "\n",
        "### ⚠️ **Less Relevant / Indirect Features:**\n",
        "\n",
        "* **Loan\\_ID**: This is an identifier and does not provide predictive value.\n",
        "* **Gender**: May have some correlation, but using it for prediction raises fairness and ethical concerns.\n",
        "* **Dependents**: Could have minor relevance (more dependents may mean more financial burden), but effect size may be small.\n"
      ],
      "metadata": {
        "id": "mEsc-aWV4z8Q"
      }
    },
    {
      "cell_type": "code",
      "execution_count": null,
      "metadata": {
        "id": "VFsZim5N3swl"
      },
      "outputs": [],
      "source": [
        "\n",
        "\n",
        "### **Most Relevant Features and Justifications:**\n",
        "\n",
        "1. **Credit\\_History**\n",
        "\n",
        "   * **Justification:** This is typically the most important factor in predicting loan defaults because good credit history strongly correlates with lower default risk.\n",
        "\n",
        "2. **ApplicantIncome & CoapplicantIncome**\n",
        "\n",
        "   * **Justification:** Higher income levels often indicate a better ability to repay loans. Both primary and secondary (coapplicant) incomes are relevant to assess total household earning capacity.\n",
        "\n",
        "3. **LoanAmount**\n",
        "\n",
        "   * **Justification:** Larger loan amounts imply greater financial burden. A high loan amount relative to income may increase default risk.\n",
        "\n",
        "4. **Loan\\_Amount\\_Term**\n",
        "\n",
        "   * **Justification:** The length of the loan term affects monthly repayment amounts. Shorter terms may increase monthly payments and affect repayment ability.\n",
        "\n",
        "5. **Education**\n",
        "\n",
        "   * **Justification:** Generally, graduates may have more stable and higher-paying jobs, lowering their default risk.\n",
        "\n",
        "6. **Married**\n",
        "\n",
        "   * **Justification:** Married applicants may have dual income sources or more stable financial support, which could influence repayment capacity.\n",
        "\n",
        "7. **Self\\_Employed**\n",
        "\n",
        "   * **Justification:** Self-employed individuals often have irregular income patterns, which may increase risk.\n",
        "\n",
        "8. **Property\\_Area**\n",
        "\n",
        "   * **Justification:** Location can affect income stability, job availability, and living costs — all of which relate to default risk.\n",
        "\n",
        "---\n",
        "\n",
        "### Less Relevant\n",
        "\n",
        "* **Loan\\_ID**: This is an identifier and does not provide predictive value.\n",
        "* **Gender**: May have some correlation, but using it for prediction raises fairness and ethical concerns.\n",
        "* **Dependents**: Could have minor relevance (more dependents may mean more financial burden), but effect size may be small.\n"
      ]
    },
    {
      "cell_type": "markdown",
      "source": [
        "Exercise 3 : Training, Evaluating, and Optimizing the Model:\n",
        "\n",
        "Loan default prediction is a classification problem where you already have labeled data — meaning each past loan record includes whether the borrower defaulted or not. It's mean that it's Supervised Learning.\n",
        "\n"
      ],
      "metadata": {
        "id": "3tgG3MJH71LY"
      }
    },
    {
      "cell_type": "markdown",
      "source": [
        "Exercise 4 : Designing Machine Learning Solutions for Specific Problems"
      ],
      "metadata": {
        "id": "RBkzXiCf7CZj"
      }
    },
    {
      "cell_type": "markdown",
      "source": [
        "- Predicting Stock Prices : predict future prices: Supervised Learning because it involves forecasting continuous numeric values (future prices) based on historical data (past prices, indicators, etc.).\n",
        "- Organizing a Library of Books : group books into genres or categories based on similarities: Unserpivised Learning because if you don't have predefined labels for the genres or categories of the books and want to automatically group them based on features like title, author, keywords, or text content, unsupervised learning is the right approach.\n",
        "- Program a robot to navigate and find the shortest path in a maze: Reiforcement Learning because it involves an agent (robot) interacting with an environment\n",
        "(maze) and learning to take actions (move in directions) that maximize a reward (finding the shortest path).\n"
      ],
      "metadata": {
        "id": "9l8iFNCm7DDo"
      }
    },
    {
      "cell_type": "markdown",
      "source": [
        "Exercise 5 : Designing an Evaluation Strategy for Different ML Models"
      ],
      "metadata": {
        "id": "UNUeVaNV9Whz"
      }
    },
    {
      "cell_type": "markdown",
      "source": [
        "1. Supervised Learning (Classification)\n",
        "Metrics: Accuracy, Precision, Recall, F1-score, ROC-AUC\n",
        "\n",
        "Methods: k-fold Cross-validation, Confusion Matrix, ROC Curve\n",
        "\n",
        "Challenges: Handling imbalanced data, avoiding overfitting, choosing classification threshold\n",
        "\n",
        "2. Unsupervised Learning (Clustering)\n",
        "Metrics: Silhouette Score, Elbow Method, Davies-Bouldin Index\n",
        "\n",
        "Methods: Analyze metric scores, use domain knowledge to validate clusters\n",
        "\n",
        "Challenges: No ground truth labels, metric conflicts, high-dimensional data effects\n",
        "\n",
        "3. Reinforcement Learning\n",
        "Metrics: Cumulative reward, convergence behavior, episode length, exploration-exploitation balance\n",
        "\n",
        "Methods: Track rewards over episodes, test final policy, run multiple trials\n",
        "\n",
        "Challenges: Sparse/delayed rewards, high variance due to exploration, designing reward function\n",
        "\n"
      ],
      "metadata": {
        "id": "f1iBkXs79W5W"
      }
    },
    {
      "cell_type": "code",
      "source": [],
      "metadata": {
        "id": "YjBJW8o89YTm"
      },
      "execution_count": null,
      "outputs": []
    }
  ]
}