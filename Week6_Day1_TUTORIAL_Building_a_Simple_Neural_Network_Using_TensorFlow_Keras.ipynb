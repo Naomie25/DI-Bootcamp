{
  "nbformat": 4,
  "nbformat_minor": 0,
  "metadata": {
    "colab": {
      "provenance": [],
      "include_colab_link": true
    },
    "kernelspec": {
      "name": "python3",
      "display_name": "Python 3"
    },
    "language_info": {
      "name": "python"
    }
  },
  "cells": [
    {
      "cell_type": "markdown",
      "metadata": {
        "id": "view-in-github",
        "colab_type": "text"
      },
      "source": [
        "<a href=\"https://colab.research.google.com/github/Naomie25/DI-Bootcamp/blob/main/Week6_Day1_TUTORIAL_Building_a_Simple_Neural_Network_Using_TensorFlow_Keras.ipynb\" target=\"_parent\"><img src=\"https://colab.research.google.com/assets/colab-badge.svg\" alt=\"Open In Colab\"/></a>"
      ]
    },
    {
      "cell_type": "code",
      "execution_count": null,
      "metadata": {
        "id": "dOJOKHi5RS7A"
      },
      "outputs": [],
      "source": [
        "import tensorflow as tf\n",
        "from tensorflow import keras"
      ]
    },
    {
      "cell_type": "code",
      "source": [
        "(x_train_data, y_train_data), (x_val_data, y_val_data) = keras.datasets.fashion_mnist.load_data()"
      ],
      "metadata": {
        "id": "H9nz5oWyRi2e"
      },
      "execution_count": null,
      "outputs": []
    },
    {
      "cell_type": "code",
      "source": [
        "def preprocessing_function(x_new, y_new):\n",
        "  x_new = tf.cast(x_new, tf.float32) / 255.0  # Normalize pixel values\n",
        "  y_new = tf.cast(y_new, tf.int64)            # Convert labels to integers\n",
        "  return x_new, y_new\n",
        "\n",
        "def func_creating_dataset(xs_data, ys_data, num_classes=10):\n",
        "  ys_data = tf.one_hot(ys_data, depth=num_classes)  # One-hot encode labels\n",
        "  return tf.data.Dataset.from_tensor_slices((xs_data, ys_data)) \\\n",
        "    .map(preprocessing_function) \\\n",
        "    .shuffle(buffer_size=1000) \\\n",
        "    .batch(32)\n",
        "\n",
        "# Create the training and validation datasets using func_creating_dataset\n",
        "dataset_training = func_creating_dataset(x_train_data, y_train_data) # Creating the training dataset\n",
        "dataset_val = func_creating_dataset(x_val_data, y_val_data)       # Creating the validation dataset"
      ],
      "metadata": {
        "id": "12kVP1FJRkQo"
      },
      "execution_count": null,
      "outputs": []
    },
    {
      "cell_type": "code",
      "source": [
        "My_model = keras.Sequential([\n",
        "    keras.layers.Reshape(target_shape=(28 * 28,), input_shape=(28, 28)),  # Flatten the input\n",
        "    keras.layers.Dense(units=256, activation='relu'),                    # Hidden layer 1 : A layer with 256 neurons and the ReLU activation function.\n",
        "    keras.layers.Dense(units=192, activation='relu'),                    # Hidden layer 2\n",
        "    keras.layers.Dense(units=128, activation='relu'),                    # Hidden layer 3 : A layer with 128 neurons for more learning power.\n",
        "    keras.layers.Dense(units=10, activation='softmax')                   # Output layer :  Outputs 10 probabilities (one for each class).\n",
        "])"
      ],
      "metadata": {
        "colab": {
          "base_uri": "https://localhost:8080/"
        },
        "id": "A5naSjhoRlNw",
        "outputId": "29a2c56f-2e32-4b05-ee7f-c5506001ad2d"
      },
      "execution_count": null,
      "outputs": [
        {
          "output_type": "stream",
          "name": "stderr",
          "text": [
            "/usr/local/lib/python3.11/dist-packages/keras/src/layers/reshaping/reshape.py:39: UserWarning: Do not pass an `input_shape`/`input_dim` argument to a layer. When using Sequential models, prefer using an `Input(shape)` object as the first layer in the model instead.\n",
            "  super().__init__(**kwargs)\n"
          ]
        }
      ]
    },
    {
      "cell_type": "code",
      "source": [
        "My_model.compile(optimizer='adam',\n",
        "              loss=tf.losses.CategoricalCrossentropy(from_logits=True),\n",
        "              metrics=['accuracy'])"
      ],
      "metadata": {
        "id": "DpkyIZmlRmhx"
      },
      "execution_count": null,
      "outputs": []
    },
    {
      "cell_type": "code",
      "source": [
        "history = My_model.fit(\n",
        "    dataset_training.repeat(),\n",
        "    epochs=10,\n",
        "    steps_per_epoch=500,\n",
        "    validation_data=dataset_val.repeat(),\n",
        "    validation_steps=2\n",
        ")"
      ],
      "metadata": {
        "colab": {
          "base_uri": "https://localhost:8080/"
        },
        "id": "bfh2Dfs8Rno-",
        "outputId": "1555adb6-4c63-4e0b-b51f-247cc2e4ab82"
      },
      "execution_count": null,
      "outputs": [
        {
          "output_type": "stream",
          "name": "stdout",
          "text": [
            "Epoch 1/10\n"
          ]
        },
        {
          "output_type": "stream",
          "name": "stderr",
          "text": [
            "/usr/local/lib/python3.11/dist-packages/keras/src/backend/tensorflow/nn.py:666: UserWarning: \"`categorical_crossentropy` received `from_logits=True`, but the `output` argument was produced by a Softmax activation and thus does not represent logits. Was this intended?\n",
            "  output, from_logits = _get_logits(\n"
          ]
        },
        {
          "output_type": "stream",
          "name": "stdout",
          "text": [
            "\u001b[1m500/500\u001b[0m \u001b[32m━━━━━━━━━━━━━━━━━━━━\u001b[0m\u001b[37m\u001b[0m \u001b[1m9s\u001b[0m 7ms/step - accuracy: 0.7000 - loss: 0.8389 - val_accuracy: 0.8281 - val_loss: 0.4870\n",
            "Epoch 2/10\n",
            "\u001b[1m500/500\u001b[0m \u001b[32m━━━━━━━━━━━━━━━━━━━━\u001b[0m\u001b[37m\u001b[0m \u001b[1m5s\u001b[0m 11ms/step - accuracy: 0.8267 - loss: 0.4892 - val_accuracy: 0.8906 - val_loss: 0.2887\n",
            "Epoch 3/10\n",
            "\u001b[1m500/500\u001b[0m \u001b[32m━━━━━━━━━━━━━━━━━━━━\u001b[0m\u001b[37m\u001b[0m \u001b[1m5s\u001b[0m 9ms/step - accuracy: 0.8511 - loss: 0.4217 - val_accuracy: 0.9219 - val_loss: 0.2885\n",
            "Epoch 4/10\n",
            "\u001b[1m500/500\u001b[0m \u001b[32m━━━━━━━━━━━━━━━━━━━━\u001b[0m\u001b[37m\u001b[0m \u001b[1m5s\u001b[0m 10ms/step - accuracy: 0.8492 - loss: 0.4121 - val_accuracy: 0.7812 - val_loss: 0.5305\n",
            "Epoch 5/10\n",
            "\u001b[1m500/500\u001b[0m \u001b[32m━━━━━━━━━━━━━━━━━━━━\u001b[0m\u001b[37m\u001b[0m \u001b[1m4s\u001b[0m 8ms/step - accuracy: 0.8577 - loss: 0.3748 - val_accuracy: 0.8750 - val_loss: 0.3894\n",
            "Epoch 6/10\n",
            "\u001b[1m500/500\u001b[0m \u001b[32m━━━━━━━━━━━━━━━━━━━━\u001b[0m\u001b[37m\u001b[0m \u001b[1m4s\u001b[0m 7ms/step - accuracy: 0.8689 - loss: 0.3654 - val_accuracy: 0.8281 - val_loss: 0.4371\n",
            "Epoch 7/10\n",
            "\u001b[1m500/500\u001b[0m \u001b[32m━━━━━━━━━━━━━━━━━━━━\u001b[0m\u001b[37m\u001b[0m \u001b[1m5s\u001b[0m 10ms/step - accuracy: 0.8768 - loss: 0.3528 - val_accuracy: 0.8125 - val_loss: 0.5317\n",
            "Epoch 8/10\n",
            "\u001b[1m500/500\u001b[0m \u001b[32m━━━━━━━━━━━━━━━━━━━━\u001b[0m\u001b[37m\u001b[0m \u001b[1m4s\u001b[0m 8ms/step - accuracy: 0.8666 - loss: 0.3568 - val_accuracy: 0.8750 - val_loss: 0.5101\n",
            "Epoch 9/10\n",
            "\u001b[1m500/500\u001b[0m \u001b[32m━━━━━━━━━━━━━━━━━━━━\u001b[0m\u001b[37m\u001b[0m \u001b[1m4s\u001b[0m 7ms/step - accuracy: 0.8750 - loss: 0.3355 - val_accuracy: 0.8906 - val_loss: 0.2433\n",
            "Epoch 10/10\n",
            "\u001b[1m500/500\u001b[0m \u001b[32m━━━━━━━━━━━━━━━━━━━━\u001b[0m\u001b[37m\u001b[0m \u001b[1m3s\u001b[0m 7ms/step - accuracy: 0.8830 - loss: 0.3100 - val_accuracy: 0.8438 - val_loss: 0.4745\n"
          ]
        }
      ]
    },
    {
      "cell_type": "code",
      "source": [
        "Make_predictions = My_model.predict(dataset_val)\n",
        "print(Make_predictions)"
      ],
      "metadata": {
        "colab": {
          "base_uri": "https://localhost:8080/"
        },
        "id": "UjU5Ijq-RorI",
        "outputId": "e67c7d45-f10f-4017-c68c-c3de70574a80"
      },
      "execution_count": null,
      "outputs": [
        {
          "output_type": "stream",
          "name": "stdout",
          "text": [
            "\u001b[1m313/313\u001b[0m \u001b[32m━━━━━━━━━━━━━━━━━━━━\u001b[0m\u001b[37m\u001b[0m \u001b[1m2s\u001b[0m 5ms/step\n",
            "[[9.29693878e-01 2.45939409e-05 1.25096156e-03 ... 1.55245434e-08\n",
            "  4.64681762e-05 4.08923825e-07]\n",
            " [4.12663639e-01 2.33034792e-04 1.15261953e-02 ... 5.54322287e-06\n",
            "  8.34416307e-04 8.04429419e-06]\n",
            " [1.35968067e-02 3.77135158e-01 4.22668690e-03 ... 3.18444567e-03\n",
            "  2.82224640e-02 1.08889155e-01]\n",
            " ...\n",
            " [2.87822727e-15 4.72800628e-25 1.11120781e-19 ... 5.30966256e-16\n",
            "  1.10003884e-13 1.56736010e-14]\n",
            " [4.43443716e-01 2.30015479e-02 4.89781313e-02 ... 1.44179026e-03\n",
            "  2.14118101e-02 2.88978824e-03]\n",
            " [1.65508054e-02 1.44842476e-01 4.55399463e-03 ... 3.78886034e-04\n",
            "  3.20076421e-02 3.84466513e-03]]\n"
          ]
        }
      ]
    },
    {
      "cell_type": "code",
      "source": [
        "test_loss, test_accuracy = My_model.evaluate(dataset_val)\n",
        "print(f\"Test Accuracy: {test_accuracy:.2f}\")"
      ],
      "metadata": {
        "colab": {
          "base_uri": "https://localhost:8080/"
        },
        "id": "cEmzgkKjRp0T",
        "outputId": "c37408a2-01a8-4d8a-eea3-9f8079ecb187"
      },
      "execution_count": null,
      "outputs": [
        {
          "output_type": "stream",
          "name": "stdout",
          "text": [
            "\u001b[1m313/313\u001b[0m \u001b[32m━━━━━━━━━━━━━━━━━━━━\u001b[0m\u001b[37m\u001b[0m \u001b[1m1s\u001b[0m 3ms/step - accuracy: 0.8576 - loss: 0.3908\n",
            "Test Accuracy: 0.85\n"
          ]
        }
      ]
    }
  ]
}