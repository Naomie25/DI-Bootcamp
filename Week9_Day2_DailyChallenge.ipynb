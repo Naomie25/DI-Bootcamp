{
  "cells": [
    {
      "cell_type": "markdown",
      "metadata": {
        "id": "view-in-github",
        "colab_type": "text"
      },
      "source": [
        "<a href=\"https://colab.research.google.com/github/Naomie25/DI-Bootcamp/blob/main/Week9_Day2_DailyChallenge.ipynb\" target=\"_parent\"><img src=\"https://colab.research.google.com/assets/colab-badge.svg\" alt=\"Open In Colab\"/></a>"
      ]
    },
    {
      "cell_type": "markdown",
      "id": "308a6904",
      "metadata": {
        "id": "308a6904"
      },
      "source": [
        "# 🚑 AI Agent Design: Emergency Medical Dispatch Assistant"
      ]
    },
    {
      "cell_type": "markdown",
      "id": "31e3c5ee",
      "metadata": {
        "id": "31e3c5ee"
      },
      "source": [
        "## 1. Environment Definition\n",
        "\n",
        "**Inputs the agent will perceive:**\n",
        "\n",
        "- Caller input (via voice-to-text transcript)\n",
        "- Caller location (GPS or address)\n",
        "- Caller identity and medical history (if available)\n",
        "- Timestamp of call and previous interactions (if repeat call)"
      ]
    },
    {
      "cell_type": "markdown",
      "id": "2a20dc47",
      "metadata": {
        "id": "2a20dc47"
      },
      "source": [
        "## 2. 🔧 Tool List & Interfaces\n",
        "\n",
        "| Tool | Input | Output |\n",
        "|------|-------|--------|\n",
        "| **Symptom Checker API (e.g., Infermedica)** | Symptoms in natural language | Structured data (diagnosis suggestions, risk level, triage level) |\n",
        "| **Medical Triage Model (custom LLM)** | Parsed symptoms | Urgency score: 0 (low) to 100 (critical) |\n",
        "| **Ambulance Dispatch System (Dispatch API)** | Caller location, urgency level, resource availability | Dispatch confirmation + ETA |\n",
        "| **GIS / Location Services API** | Caller address or coordinates | Distance to nearest hospital/clinic/urgent care |"
      ]
    },
    {
      "cell_type": "markdown",
      "id": "39348d72",
      "metadata": {
        "id": "39348d72"
      },
      "source": [
        "## 3. State Management\n",
        "\n",
        "```json\n",
        "{\n",
        "  \"caller_id\": \"123456\",\n",
        "  \"name\": \"Jane Doe\",\n",
        "  \"location\": {\n",
        "    \"gps\": \"32.0853, 34.7818\",\n",
        "    \"address\": \"123 Main St, Tel Aviv\"\n",
        "  },\n",
        "  \"symptom_history\": [\n",
        "    {\"symptom\": \"chest pain\", \"severity\": \"high\", \"timestamp\": \"2025-07-29T14:05:00Z\"}\n",
        "  ],\n",
        "  \"urgency_score\": 92,\n",
        "  \"actions_taken\": [\n",
        "    {\"action\": \"Ambulance dispatched\", \"timestamp\": \"2025-07-29T14:06:00Z\"}\n",
        "  ]\n",
        "}\n",
        "```"
      ]
    },
    {
      "cell_type": "markdown",
      "id": "e6feaef3",
      "metadata": {
        "id": "e6feaef3"
      },
      "source": [
        "## 4. Decision-Making Flow\n",
        "\n",
        "### Pseudocode\n",
        "```python\n",
        "def handle_emergency_call(call_data):\n",
        "    transcript = transcribe(call_data.audio)\n",
        "    symptoms = extract_symptoms(transcript)\n",
        "    structured_symptoms = query_symptom_checker(symptoms)\n",
        "\n",
        "    urgency_score = query_triage_model(structured_symptoms)\n",
        "    log_state(\"urgency_score\", urgency_score)\n",
        "\n",
        "    if urgency_score >= 85:\n",
        "        dispatch_ambulance(call_data.location)\n",
        "        return \"🚨 Emergency: Ambulance dispatched\"\n",
        "    elif urgency_score >= 50:\n",
        "        suggest_nearest_urgent_care(call_data.location)\n",
        "        return \"⚠️ Moderate: Visit urgent care\"\n",
        "    else:\n",
        "        provide_self_care_instructions(symptoms)\n",
        "        return \"ℹ️ Mild: Follow self-care steps\"\n",
        "```"
      ]
    },
    {
      "cell_type": "markdown",
      "id": "287bbdf2",
      "metadata": {
        "id": "287bbdf2"
      },
      "source": [
        "## 5. Agent Classification\n",
        "\n",
        "### **Chosen Type: Hybrid Agent**\n",
        "\n",
        "- **Uses memory**: Maintains persistent call state including symptoms, identity, and decisions.\n",
        "- **Plans ahead**: Combines immediate reaction (e.g., dispatch) with longer-term reasoning (e.g., querying medical history).\n",
        "- **Justification**: A hybrid agent is ideal because it needs to **react quickly to critical symptoms**, while also **reasoning about medical history**, and **planning optimal responses**."
      ]
    },
    {
      "cell_type": "markdown",
      "id": "0b64f691",
      "metadata": {
        "id": "0b64f691"
      },
      "source": [
        "## 6. Comparison to Reactive Agent\n",
        "\n",
        "| Aspect | Hybrid Agent | Reactive Agent |\n",
        "|--------|--------------|----------------|\n",
        "| **Memory** | Maintains full caller state and symptom history | Stateless or very short memory |\n",
        "| **Planning** | Uses LLM to assess urgency and optimize decisions | Only reacts to current inputs |\n",
        "| **Tool usage** | Integrates multiple APIs intelligently | One-off API calls based on current data |\n",
        "| **Speed** | Slightly slower due to reasoning | Faster initial response |\n",
        "| **Reliability** | High – context-aware decisions | Risk of poor decision if input is unclear |\n",
        "| **Intelligence** | High – combines reasoning and reaction | Medium – relies on fixed rules or shallow ML |"
      ]
    },
    {
      "cell_type": "markdown",
      "id": "636b8571",
      "metadata": {
        "id": "636b8571"
      },
      "source": [
        "## 7. Reflections\n",
        "\n",
        "### What fails if the agent does not maintain state?\n",
        "\n",
        "Without state management, the agent would:\n",
        "- Lose track of **previous symptoms or caller identity** across a multi-turn conversation.\n",
        "- Risk making **redundant or contradictory decisions** (e.g., dispatching multiple ambulances).\n",
        "- Fail to **log critical actions for auditing or medical traceability**, compromising safety and compliance.\n",
        "\n",
        "### Why are external tools essential?\n",
        "\n",
        "- Medical triage requires **accurate, evidence-based symptom analysis** that a static rule-based system cannot handle alone.\n",
        "- **Symptom checker APIs** offer reliable diagnostic support based on large medical knowledge bases.\n",
        "- **GIS APIs** are needed for real-time proximity decisions (ambulance routing).\n",
        "- **Dispatch APIs** interface directly with logistics infrastructure for fast deployment—something the agent cannot do independently.\n"
      ]
    },
    {
      "cell_type": "code",
      "source": [
        "import pandas as pd"
      ],
      "metadata": {
        "id": "W2zUkG0fdP1R"
      },
      "id": "W2zUkG0fdP1R",
      "execution_count": 1,
      "outputs": []
    }
  ],
  "metadata": {
    "colab": {
      "provenance": [],
      "include_colab_link": true
    },
    "language_info": {
      "name": "python"
    },
    "kernelspec": {
      "name": "python3",
      "display_name": "Python 3"
    }
  },
  "nbformat": 4,
  "nbformat_minor": 5
}