{
  "nbformat": 4,
  "nbformat_minor": 0,
  "metadata": {
    "colab": {
      "provenance": [],
      "authorship_tag": "ABX9TyM8ltm4NI92i/jjElPDzDVu",
      "include_colab_link": true
    },
    "kernelspec": {
      "name": "python3",
      "display_name": "Python 3"
    },
    "language_info": {
      "name": "python"
    }
  },
  "cells": [
    {
      "cell_type": "markdown",
      "metadata": {
        "id": "view-in-github",
        "colab_type": "text"
      },
      "source": [
        "<a href=\"https://colab.research.google.com/github/Naomie25/DI-Bootcamp/blob/main/Week3_Day1_DailyChallenge.ipynb\" target=\"_parent\"><img src=\"https://colab.research.google.com/assets/colab-badge.svg\" alt=\"Open In Colab\"/></a>"
      ]
    },
    {
      "cell_type": "code",
      "execution_count": null,
      "metadata": {
        "id": "N10T7mQLWDkq"
      },
      "outputs": [],
      "source": []
    },
    {
      "cell_type": "markdown",
      "source": [
        "Step 1: Netflix launched Emily in Paris in 2020, and despite mixed reviews from critics, it became one of the most-watched shows globally. This wasn't accidental — Netflix used data analysis to guide decisions about the show's development, marketing, and audience targeting.\n"
      ],
      "metadata": {
        "id": "-ZOO5C70XBv-"
      }
    },
    {
      "cell_type": "code",
      "source": [],
      "metadata": {
        "id": "QqnxEDgvbyMv"
      },
      "execution_count": null,
      "outputs": []
    },
    {
      "cell_type": "markdown",
      "source": [
        "\n",
        "\n",
        "Step 2: Analyze the Role of Data Analysis\n",
        "\n",
        "🔍 What data was analyzed?\n",
        "\n",
        "\n",
        "Netflix used data from millions of viewers, including:\n",
        "\n",
        "- Genre preferences (romantic comedy, fashion, lifestyle)\n",
        "\n",
        "- Viewing habits (binge-watching patterns, most-watched times)\n",
        "\n",
        "- Popular international content (viewership of French culture/series)\n",
        "\n",
        "- Viewer demographics (age, location, language)\n",
        "\n",
        "🔧 Methods used:\n",
        "- Predictive analytics to forecast viewer interest\n",
        "\n",
        "- Clustering and user segmentation to group similar viewers\n",
        "\n",
        "- A/B testing for promotional content (trailers, thumbnails)\n",
        "\n",
        "- Engagement analysis from prior shows (like Sex and the City or Gossip Girl)\n",
        "\n",
        "🎯 Decision:\n",
        "\n",
        "Netflix saw strong demand for light-hearted, stylish, and romantic content, especially among young women and global audiences.\n",
        "\n",
        "Based on this, it:\n",
        "\n",
        "- Greenlit Emily in Paris\n",
        "\n",
        "- Released it globally with localized subtitles and dubbing\n",
        "\n",
        "Heavily promoted it using targeted recommendations and trending lists"
      ],
      "metadata": {
        "id": "fTdzsomJXIhf"
      }
    },
    {
      "cell_type": "markdown",
      "source": [
        "💬 Step 3: Group Discussion – Impact of Data Analysis\n",
        "🧠 What would have been different without data analysis?\n",
        "Netflix might not have predicted the show’s international appeal\n",
        "\n",
        "Promotion might have missed key audience groups\n",
        "\n",
        "The show could have been released at a suboptimal time\n",
        "\n",
        "✅ With data analysis:\n",
        "Netflix correctly predicted audience demand\n",
        "\n",
        "Promoted the show to the right people at the right time\n",
        "\n",
        "Gained millions of views, especially during the pandemic when audiences wanted light entertainment\n",
        "\n"
      ],
      "metadata": {
        "id": "6vrSrnOWXrtV"
      }
    },
    {
      "cell_type": "markdown",
      "source": [
        "🧾 Step 4: Class Presentation Summary\n",
        "📌 Key Points:\n",
        "Netflix used viewer data to guide its content choices\n",
        "\n",
        "Data helped shape and promote “Emily in Paris” to fit market trends\n",
        "\n",
        "The success shows how data analysis improves entertainment decisions\n",
        "\n",
        "It highlights the importance of understanding audience behavior through data"
      ],
      "metadata": {
        "id": "27CJw_edYCle"
      }
    }
  ]
}