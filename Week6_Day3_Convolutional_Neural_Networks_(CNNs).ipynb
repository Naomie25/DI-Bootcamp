{
  "nbformat": 4,
  "nbformat_minor": 0,
  "metadata": {
    "colab": {
      "provenance": [],
      "include_colab_link": true
    },
    "kernelspec": {
      "name": "python3",
      "display_name": "Python 3"
    },
    "language_info": {
      "name": "python"
    }
  },
  "cells": [
    {
      "cell_type": "markdown",
      "metadata": {
        "id": "view-in-github",
        "colab_type": "text"
      },
      "source": [
        "<a href=\"https://colab.research.google.com/github/Naomie25/DI-Bootcamp/blob/main/Week6_Day3_Convolutional_Neural_Networks_(CNNs).ipynb\" target=\"_parent\"><img src=\"https://colab.research.google.com/assets/colab-badge.svg\" alt=\"Open In Colab\"/></a>"
      ]
    },
    {
      "cell_type": "code",
      "execution_count": null,
      "metadata": {
        "id": "Ze0IQWbZpxlb"
      },
      "outputs": [],
      "source": [
        "import tensorflow as tf\n",
        "from tensorflow.keras.models import Sequential\n",
        "from tensorflow.keras.layers import Conv2D, MaxPooling2D, Flatten, Dense\n",
        "from tensorflow.keras.datasets import cifar10\n",
        "from tensorflow.keras.preprocessing.image import ImageDataGenerator"
      ]
    },
    {
      "cell_type": "code",
      "source": [
        "# Load CIFAR-10 dataset\n",
        "(x_train, y_train), (x_test, y_test) = cifar10.load_data()\n",
        "\n",
        "# Normalize the images (scale pixel values between 0 and 1)\n",
        "x_train, x_test = x_train / 255.0, x_test / 255.0"
      ],
      "metadata": {
        "colab": {
          "base_uri": "https://localhost:8080/"
        },
        "id": "Nugrg6w2p1NY",
        "outputId": "bca84a5e-dbfc-4af1-e89b-260744a7dfaf"
      },
      "execution_count": null,
      "outputs": [
        {
          "output_type": "stream",
          "name": "stdout",
          "text": [
            "Downloading data from https://www.cs.toronto.edu/~kriz/cifar-10-python.tar.gz\n",
            "\u001b[1m170498071/170498071\u001b[0m \u001b[32m━━━━━━━━━━━━━━━━━━━━\u001b[0m\u001b[37m\u001b[0m \u001b[1m4s\u001b[0m 0us/step\n"
          ]
        }
      ]
    },
    {
      "cell_type": "code",
      "source": [
        "train_datagen = ImageDataGenerator(\n",
        "    rescale=1./255,\n",
        "    shear_range=0.2,\n",
        "    zoom_range=0.2,\n",
        "    horizontal_flip=True\n",
        ")\n",
        "\n",
        "test_datagen = ImageDataGenerator(rescale=1./255)\n",
        "\n",
        "# Generate batches of tensor image data\n",
        "train_generator = train_datagen.flow(x_train, y_train, batch_size=32)\n",
        "test_generator = test_datagen.flow(x_test, y_test, batch_size=32)"
      ],
      "metadata": {
        "id": "WiUFFeOKp46r"
      },
      "execution_count": null,
      "outputs": []
    },
    {
      "cell_type": "code",
      "source": [
        "# Initialize the CNN\n",
        "model = Sequential()\n",
        "\n",
        "# Step 1 - First Convolutional Layer\n",
        "model.add(Conv2D(32, (3, 3), activation='relu', input_shape=(32, 32, 3)))\n",
        "\n",
        "# Step 2 - First Pooling Layer\n",
        "model.add(MaxPooling2D(pool_size=(2, 2)))\n",
        "\n",
        "# Step 3 - Second Convolutional Layer\n",
        "model.add(Conv2D(32, (3, 3), activation='relu'))\n",
        "\n",
        "# Step 4 - Second Pooling Layer\n",
        "model.add(MaxPooling2D(pool_size=(2, 2)))\n",
        "\n",
        "# Step 5 - Flattening\n",
        "model.add(Flatten())\n",
        "\n",
        "# Step 6 - Fully Connected Layers\n",
        "model.add(Dense(units=128, activation='relu'))  # Hidden layer with 128 neurons\n",
        "model.add(Dense(units=10, activation='softmax'))  # Output layer with 10 neurons for 10 classes\n",
        "\n",
        "# Compile the model\n",
        "model.compile(optimizer='adam', loss='sparse_categorical_crossentropy', metrics=['accuracy'])\n",
        "\n",
        "# Train the model\n",
        "history = model.fit(train_generator, validation_data=test_generator, epochs=10, batch_size=32)\n",
        "\n",
        "# Evaluate model performance on test data\n",
        "test_loss, test_accuracy = model.evaluate(test_generator)\n",
        "print(f\"Test Accuracy: {test_accuracy:.4f}\")\n",
        "\n",
        "# Evaluate model performance on test data\n",
        "test_loss, test_accuracy = model.evaluate(test_generator)\n",
        "print(f\"Test Accuracy: {test_accuracy:.4f}\")"
      ],
      "metadata": {
        "colab": {
          "base_uri": "https://localhost:8080/"
        },
        "id": "kGuQCIMlp-CJ",
        "outputId": "df8157b2-4b94-4642-bc39-cd8f06e55728"
      },
      "execution_count": null,
      "outputs": [
        {
          "output_type": "stream",
          "name": "stdout",
          "text": [
            "Epoch 1/10\n",
            "\u001b[1m1563/1563\u001b[0m \u001b[32m━━━━━━━━━━━━━━━━━━━━\u001b[0m\u001b[37m\u001b[0m \u001b[1m73s\u001b[0m 46ms/step - accuracy: 0.1206 - loss: 2.2753 - val_accuracy: 0.2571 - val_loss: 2.0501\n",
            "Epoch 2/10\n",
            "\u001b[1m1563/1563\u001b[0m \u001b[32m━━━━━━━━━━━━━━━━━━━━\u001b[0m\u001b[37m\u001b[0m \u001b[1m70s\u001b[0m 45ms/step - accuracy: 0.2590 - loss: 2.0440 - val_accuracy: 0.2891 - val_loss: 1.9662\n",
            "Epoch 3/10\n",
            "\u001b[1m1563/1563\u001b[0m \u001b[32m━━━━━━━━━━━━━━━━━━━━\u001b[0m\u001b[37m\u001b[0m \u001b[1m78s\u001b[0m 50ms/step - accuracy: 0.2887 - loss: 1.9611 - val_accuracy: 0.3174 - val_loss: 1.8994\n",
            "Epoch 4/10\n",
            "\u001b[1m1563/1563\u001b[0m \u001b[32m━━━━━━━━━━━━━━━━━━━━\u001b[0m\u001b[37m\u001b[0m \u001b[1m81s\u001b[0m 52ms/step - accuracy: 0.3104 - loss: 1.9080 - val_accuracy: 0.3389 - val_loss: 1.8407\n",
            "Epoch 5/10\n",
            "\u001b[1m1563/1563\u001b[0m \u001b[32m━━━━━━━━━━━━━━━━━━━━\u001b[0m\u001b[37m\u001b[0m \u001b[1m80s\u001b[0m 51ms/step - accuracy: 0.3290 - loss: 1.8604 - val_accuracy: 0.3550 - val_loss: 1.8096\n",
            "Epoch 6/10\n",
            "\u001b[1m1563/1563\u001b[0m \u001b[32m━━━━━━━━━━━━━━━━━━━━\u001b[0m\u001b[37m\u001b[0m \u001b[1m80s\u001b[0m 51ms/step - accuracy: 0.3403 - loss: 1.8340 - val_accuracy: 0.3587 - val_loss: 1.8018\n",
            "Epoch 7/10\n",
            "\u001b[1m1563/1563\u001b[0m \u001b[32m━━━━━━━━━━━━━━━━━━━━\u001b[0m\u001b[37m\u001b[0m \u001b[1m79s\u001b[0m 51ms/step - accuracy: 0.3510 - loss: 1.8123 - val_accuracy: 0.3731 - val_loss: 1.7664\n",
            "Epoch 8/10\n",
            "\u001b[1m1563/1563\u001b[0m \u001b[32m━━━━━━━━━━━━━━━━━━━━\u001b[0m\u001b[37m\u001b[0m \u001b[1m79s\u001b[0m 51ms/step - accuracy: 0.3606 - loss: 1.7894 - val_accuracy: 0.3797 - val_loss: 1.7528\n",
            "Epoch 9/10\n",
            "\u001b[1m1563/1563\u001b[0m \u001b[32m━━━━━━━━━━━━━━━━━━━━\u001b[0m\u001b[37m\u001b[0m \u001b[1m80s\u001b[0m 51ms/step - accuracy: 0.3628 - loss: 1.7839 - val_accuracy: 0.3841 - val_loss: 1.7430\n",
            "Epoch 10/10\n",
            "\u001b[1m1563/1563\u001b[0m \u001b[32m━━━━━━━━━━━━━━━━━━━━\u001b[0m\u001b[37m\u001b[0m \u001b[1m80s\u001b[0m 51ms/step - accuracy: 0.3622 - loss: 1.7807 - val_accuracy: 0.3839 - val_loss: 1.7354\n",
            "\u001b[1m313/313\u001b[0m \u001b[32m━━━━━━━━━━━━━━━━━━━━\u001b[0m\u001b[37m\u001b[0m \u001b[1m4s\u001b[0m 11ms/step - accuracy: 0.3831 - loss: 1.7361\n",
            "Test Accuracy: 0.3839\n",
            "\u001b[1m313/313\u001b[0m \u001b[32m━━━━━━━━━━━━━━━━━━━━\u001b[0m\u001b[37m\u001b[0m \u001b[1m4s\u001b[0m 12ms/step - accuracy: 0.3849 - loss: 1.7360\n",
            "Test Accuracy: 0.3839\n"
          ]
        }
      ]
    },
    {
      "cell_type": "code",
      "source": [
        "import tensorflow as tf\n",
        "from tensorflow.keras.models import Sequential\n",
        "from tensorflow.keras.layers import Conv2D, MaxPooling2D, Flatten, Dense, BatchNormalization, Dropout\n",
        "from tensorflow.keras.datasets import cifar10\n",
        "from tensorflow.keras.preprocessing.image import ImageDataGenerator\n",
        "\n",
        "# Load and normalize data\n",
        "(x_train, y_train), (x_test, y_test) = cifar10.load_data()\n",
        "x_train = x_train / 255.0\n",
        "x_test = x_test / 255.0\n",
        "\n",
        "# Data augmentation\n",
        "train_datagen = ImageDataGenerator(\n",
        "    shear_range=0.2,\n",
        "    zoom_range=0.2,\n",
        "    horizontal_flip=True\n",
        ")\n",
        "test_datagen = ImageDataGenerator()\n",
        "\n",
        "train_generator = train_datagen.flow(x_train, y_train, batch_size=64)\n",
        "test_generator = test_datagen.flow(x_test, y_test, batch_size=64)\n",
        "\n",
        "# Build the improved CNN model\n",
        "model = Sequential()\n",
        "\n",
        "# Conv Block 1\n",
        "model.add(Conv2D(64, (3, 3), padding='same', activation='relu', input_shape=(32, 32, 3)))\n",
        "model.add(BatchNormalization())\n",
        "model.add(Conv2D(64, (3, 3), padding='same', activation='relu'))\n",
        "model.add(BatchNormalization())\n",
        "model.add(MaxPooling2D(pool_size=(2, 2)))\n",
        "model.add(Dropout(0.25))\n",
        "\n",
        "# Conv Block 2\n",
        "model.add(Conv2D(128, (3, 3), padding='same', activation='relu'))\n",
        "model.add(BatchNormalization())\n",
        "model.add(Conv2D(128, (3, 3), padding='same', activation='relu'))\n",
        "model.add(BatchNormalization())\n",
        "model.add(MaxPooling2D(pool_size=(2, 2)))\n",
        "model.add(Dropout(0.25))\n",
        "\n",
        "# Conv Block 3 (optional deeper block)\n",
        "model.add(Conv2D(256, (3, 3), padding='same', activation='relu'))\n",
        "model.add(BatchNormalization())\n",
        "model.add(Conv2D(256, (3, 3), padding='same', activation='relu'))\n",
        "model.add(BatchNormalization())\n",
        "model.add(MaxPooling2D(pool_size=(2, 2)))\n",
        "model.add(Dropout(0.4))\n",
        "\n",
        "# Fully Connected Layers\n",
        "model.add(Flatten())\n",
        "model.add(Dense(256, activation='relu'))\n",
        "model.add(Dropout(0.5))\n",
        "model.add(Dense(10, activation='softmax'))\n",
        "\n",
        "# Compile the model\n",
        "model.compile(\n",
        "    optimizer='adam',\n",
        "    loss='sparse_categorical_crossentropy',\n",
        "    metrics=['accuracy']\n",
        ")\n",
        "\n",
        "# Train the model\n",
        "history = model.fit(\n",
        "    train_generator,\n",
        "    validation_data=test_generator,\n",
        "    epochs=50,\n",
        "    batch_size=64\n",
        ")\n",
        "\n",
        "# Evaluate the model\n",
        "test_loss, test_accuracy = model.evaluate(test_generator)\n",
        "print(f\"Test Accuracy: {test_accuracy:.4f}\")\n"
      ],
      "metadata": {
        "colab": {
          "base_uri": "https://localhost:8080/"
        },
        "id": "HfEkngZEtzGt",
        "outputId": "a2d3915e-18d6-419f-bc25-4eea8b9741b6"
      },
      "execution_count": null,
      "outputs": [
        {
          "output_type": "stream",
          "name": "stdout",
          "text": [
            "Epoch 1/50\n",
            "\u001b[1m782/782\u001b[0m \u001b[32m━━━━━━━━━━━━━━━━━━━━\u001b[0m\u001b[37m\u001b[0m \u001b[1m1313s\u001b[0m 2s/step - accuracy: 0.3054 - loss: 2.0811 - val_accuracy: 0.4856 - val_loss: 1.4145\n",
            "Epoch 2/50\n",
            "\u001b[1m782/782\u001b[0m \u001b[32m━━━━━━━━━━━━━━━━━━━━\u001b[0m\u001b[37m\u001b[0m \u001b[1m1258s\u001b[0m 2s/step - accuracy: 0.4989 - loss: 1.4037 - val_accuracy: 0.6055 - val_loss: 1.1168\n",
            "Epoch 3/50\n",
            "\u001b[1m782/782\u001b[0m \u001b[32m━━━━━━━━━━━━━━━━━━━━\u001b[0m\u001b[37m\u001b[0m \u001b[1m1215s\u001b[0m 2s/step - accuracy: 0.5983 - loss: 1.1575 - val_accuracy: 0.6271 - val_loss: 1.1193\n",
            "Epoch 4/50\n",
            "\u001b[1m782/782\u001b[0m \u001b[32m━━━━━━━━━━━━━━━━━━━━\u001b[0m\u001b[37m\u001b[0m \u001b[1m1267s\u001b[0m 2s/step - accuracy: 0.6491 - loss: 1.0089 - val_accuracy: 0.7227 - val_loss: 0.8007\n",
            "Epoch 5/50\n",
            "\u001b[1m782/782\u001b[0m \u001b[32m━━━━━━━━━━━━━━━━━━━━\u001b[0m\u001b[37m\u001b[0m \u001b[1m1346s\u001b[0m 2s/step - accuracy: 0.6906 - loss: 0.9150 - val_accuracy: 0.6820 - val_loss: 1.0028\n",
            "Epoch 6/50\n",
            "\u001b[1m782/782\u001b[0m \u001b[32m━━━━━━━━━━━━━━━━━━━━\u001b[0m\u001b[37m\u001b[0m \u001b[1m1401s\u001b[0m 2s/step - accuracy: 0.7204 - loss: 0.8420 - val_accuracy: 0.6645 - val_loss: 1.0817\n",
            "Epoch 7/50\n",
            "\u001b[1m782/782\u001b[0m \u001b[32m━━━━━━━━━━━━━━━━━━━━\u001b[0m\u001b[37m\u001b[0m \u001b[1m1382s\u001b[0m 2s/step - accuracy: 0.7412 - loss: 0.7821 - val_accuracy: 0.7743 - val_loss: 0.6861\n",
            "Epoch 8/50\n",
            "\u001b[1m782/782\u001b[0m \u001b[32m━━━━━━━━━━━━━━━━━━━━\u001b[0m\u001b[37m\u001b[0m \u001b[1m1399s\u001b[0m 2s/step - accuracy: 0.7583 - loss: 0.7231 - val_accuracy: 0.7692 - val_loss: 0.7053\n",
            "Epoch 9/50\n",
            "\u001b[1m782/782\u001b[0m \u001b[32m━━━━━━━━━━━━━━━━━━━━\u001b[0m\u001b[37m\u001b[0m \u001b[1m1352s\u001b[0m 2s/step - accuracy: 0.7765 - loss: 0.6798 - val_accuracy: 0.7196 - val_loss: 0.8746\n",
            "Epoch 10/50\n",
            "\u001b[1m782/782\u001b[0m \u001b[32m━━━━━━━━━━━━━━━━━━━━\u001b[0m\u001b[37m\u001b[0m \u001b[1m1367s\u001b[0m 2s/step - accuracy: 0.7933 - loss: 0.6325 - val_accuracy: 0.7949 - val_loss: 0.6392\n",
            "Epoch 11/50\n",
            "\u001b[1m782/782\u001b[0m \u001b[32m━━━━━━━━━━━━━━━━━━━━\u001b[0m\u001b[37m\u001b[0m \u001b[1m1413s\u001b[0m 2s/step - accuracy: 0.7979 - loss: 0.6121 - val_accuracy: 0.8201 - val_loss: 0.5596\n",
            "Epoch 12/50\n",
            "\u001b[1m782/782\u001b[0m \u001b[32m━━━━━━━━━━━━━━━━━━━━\u001b[0m\u001b[37m\u001b[0m \u001b[1m1380s\u001b[0m 2s/step - accuracy: 0.8081 - loss: 0.5853 - val_accuracy: 0.8349 - val_loss: 0.5117\n",
            "Epoch 13/50\n",
            "\u001b[1m782/782\u001b[0m \u001b[32m━━━━━━━━━━━━━━━━━━━━\u001b[0m\u001b[37m\u001b[0m \u001b[1m1423s\u001b[0m 2s/step - accuracy: 0.8168 - loss: 0.5544 - val_accuracy: 0.8380 - val_loss: 0.5005\n",
            "Epoch 14/50\n",
            "\u001b[1m782/782\u001b[0m \u001b[32m━━━━━━━━━━━━━━━━━━━━\u001b[0m\u001b[37m\u001b[0m \u001b[1m1395s\u001b[0m 2s/step - accuracy: 0.8217 - loss: 0.5422 - val_accuracy: 0.7915 - val_loss: 0.6473\n",
            "Epoch 15/50\n",
            "\u001b[1m782/782\u001b[0m \u001b[32m━━━━━━━━━━━━━━━━━━━━\u001b[0m\u001b[37m\u001b[0m \u001b[1m1234s\u001b[0m 2s/step - accuracy: 0.8318 - loss: 0.5164 - val_accuracy: 0.8249 - val_loss: 0.5768\n",
            "Epoch 16/50\n",
            "\u001b[1m782/782\u001b[0m \u001b[32m━━━━━━━━━━━━━━━━━━━━\u001b[0m\u001b[37m\u001b[0m \u001b[1m1341s\u001b[0m 2s/step - accuracy: 0.8402 - loss: 0.4882 - val_accuracy: 0.8179 - val_loss: 0.5796\n",
            "Epoch 17/50\n",
            "\u001b[1m782/782\u001b[0m \u001b[32m━━━━━━━━━━━━━━━━━━━━\u001b[0m\u001b[37m\u001b[0m \u001b[1m1399s\u001b[0m 2s/step - accuracy: 0.8470 - loss: 0.4652 - val_accuracy: 0.8300 - val_loss: 0.5284\n",
            "Epoch 18/50\n",
            "\u001b[1m782/782\u001b[0m \u001b[32m━━━━━━━━━━━━━━━━━━━━\u001b[0m\u001b[37m\u001b[0m \u001b[1m1377s\u001b[0m 2s/step - accuracy: 0.8484 - loss: 0.4580 - val_accuracy: 0.8387 - val_loss: 0.5197\n",
            "Epoch 19/50\n",
            "\u001b[1m782/782\u001b[0m \u001b[32m━━━━━━━━━━━━━━━━━━━━\u001b[0m\u001b[37m\u001b[0m \u001b[1m1292s\u001b[0m 2s/step - accuracy: 0.8530 - loss: 0.4405 - val_accuracy: 0.8438 - val_loss: 0.5035\n",
            "Epoch 20/50\n",
            "\u001b[1m782/782\u001b[0m \u001b[32m━━━━━━━━━━━━━━━━━━━━\u001b[0m\u001b[37m\u001b[0m \u001b[1m1225s\u001b[0m 2s/step - accuracy: 0.8525 - loss: 0.4410 - val_accuracy: 0.8392 - val_loss: 0.5271\n",
            "Epoch 21/50\n",
            "\u001b[1m782/782\u001b[0m \u001b[32m━━━━━━━━━━━━━━━━━━━━\u001b[0m\u001b[37m\u001b[0m \u001b[1m1226s\u001b[0m 2s/step - accuracy: 0.8607 - loss: 0.4261 - val_accuracy: 0.8485 - val_loss: 0.4784\n",
            "Epoch 22/50\n",
            "\u001b[1m782/782\u001b[0m \u001b[32m━━━━━━━━━━━━━━━━━━━━\u001b[0m\u001b[37m\u001b[0m \u001b[1m1230s\u001b[0m 2s/step - accuracy: 0.8648 - loss: 0.4081 - val_accuracy: 0.8661 - val_loss: 0.4180\n",
            "Epoch 23/50\n",
            "\u001b[1m782/782\u001b[0m \u001b[32m━━━━━━━━━━━━━━━━━━━━\u001b[0m\u001b[37m\u001b[0m \u001b[1m1261s\u001b[0m 2s/step - accuracy: 0.8670 - loss: 0.3932 - val_accuracy: 0.8525 - val_loss: 0.4606\n",
            "Epoch 24/50\n",
            "\u001b[1m782/782\u001b[0m \u001b[32m━━━━━━━━━━━━━━━━━━━━\u001b[0m\u001b[37m\u001b[0m \u001b[1m1353s\u001b[0m 2s/step - accuracy: 0.8772 - loss: 0.3726 - val_accuracy: 0.8579 - val_loss: 0.4416\n",
            "Epoch 25/50\n",
            "\u001b[1m367/782\u001b[0m \u001b[32m━━━━━━━━━\u001b[0m\u001b[37m━━━━━━━━━━━\u001b[0m \u001b[1m10:45\u001b[0m 2s/step - accuracy: 0.8817 - loss: 0.3544"
          ]
        }
      ]
    },
    {
      "cell_type": "code",
      "source": [
        "import os\n",
        "\n",
        "# Rename the first uploaded zip file\n",
        "uploaded_filename = next(iter(uploaded))\n",
        "os.rename(uploaded_filename, \"cats_vs_dogs.zip\")\n",
        "\n",
        "# Proceed with extraction\n",
        "with zipfile.ZipFile(\"cats_vs_dogs.zip\", 'r') as zip_ref:\n",
        "    zip_ref.extractall(\".\")\n"
      ],
      "metadata": {
        "id": "rKu3HkCuiFIF"
      },
      "execution_count": null,
      "outputs": []
    },
    {
      "cell_type": "code",
      "source": [
        "import torch  # Import the core PyTorch library for tensor operations and automatic differentiation.\n",
        "import torchvision  # Import torchvision, a library for computer vision tasks in PyTorch, including datasets and model architectures.\n",
        "import torchvision.transforms as transforms  # Import the transforms module from torchvision for image preprocessing and data augmentation.\n",
        "import torch.nn as nn  # Import the neural network module from PyTorch for building neural network layers and models.\n",
        "import torch.nn.functional as F  # Import the functional module from torch.nn, providing functions for neural network operations (e.g., activation functions, pooling).\n",
        "import torch.optim as optim  # Import the optimization module from PyTorch for implementing various optimization algorithms (e.g., Adam, SGD).\n",
        "\n",
        "transform = transforms.Compose([\n",
        "    transforms.ToTensor(),  # Convert images from PIL Image or NumPy ndarray to PyTorch tensors.\n",
        "    transforms.Normalize((0.5, 0.5, 0.5), (0.5, 0.5, 0.5))  # Normalize the tensor images with mean and standard deviation (for each channel).\n",
        "])\n",
        "# The mean and standard deviation of (0.5, 0.5, 0.5) are commonly used for CIFAR-10.\n",
        "\n",
        "trainset = torchvision.datasets.CIFAR10(root='./data', train=True, download=True, transform=transform)\n",
        "# Load the CIFAR-10 training dataset from './data'.\n",
        "# 'train=True' indicates it's the training set.\n",
        "# 'download=True' will download the dataset if it's not already present.\n",
        "# 'transform=transform' applies the defined transformations to the images.\n",
        "\n",
        "trainloader = torch.utils.data.DataLoader(trainset, batch_size=32, shuffle=True, num_workers=2)\n",
        "# Create a data loader for the training set.\n",
        "# 'trainset' is the dataset to load.\n",
        "# 'batch_size=32' loads the data in batches of 32 images.\n",
        "# 'shuffle=True' shuffles the data at each epoch to improve training.\n",
        "# 'num_workers=2' uses 2 subprocesses for data loading (speeds up loading).\n",
        "\n",
        "testset = torchvision.datasets.CIFAR10(root='./data', train=False, download=True, transform=transform)\n",
        "# Load the CIFAR-10 test dataset from './data'.\n",
        "# 'train=False' indicates it's the test set.\n",
        "# 'download=True' will download the dataset if it's not already present.\n",
        "# 'transform=transform' applies the same transformations to the test images.\n",
        "\n",
        "testloader = torch.utils.data.DataLoader(testset, batch_size=32, shuffle=False, num_workers=2)\n",
        "# Create a data loader for the test set.\n",
        "# 'testset' is the dataset to load.\n",
        "# 'batch_size=32' loads the data in batches of 32 images.\n",
        "# 'shuffle=False' does not shuffle the test data (order typically doesn't matter for evaluation).\n",
        "# 'num_workers=2' uses 2 subprocesses for data loading.\n",
        "\n",
        "class Net(nn.Module):  # Define a class 'Net' that inherits from nn.Module (the base class for all neural network modules in PyTorch).\n",
        "    def __init__(self):  # Define the constructor for the class.\n",
        "        super(Net, self).__init__()  # Call the constructor of the parent class (nn.Module).\n",
        "        self.conv1 = nn.Conv2d(3, 32, 3)  # Define the first convolutional layer:\n",
        "                                           # - Input channels: 3 (RGB images).\n",
        "                                           # - Output channels: 32 (number of filters).\n",
        "                                           # - Kernel size: 3x3.\n",
        "        self.pool = nn.MaxPool2d(2, 2)  # Define a 2x2 max pooling layer.\n",
        "        self.conv2 = nn.Conv2d(32, 32, 3) # Define the second convolutional layer:\n",
        "                                           # - Input channels: 32 (output from the first conv layer).\n",
        "                                           # - Output channels: 32.\n",
        "                                           # - Kernel size: 3x3.\n",
        "        self.fc1 = nn.Linear(32 * 6 * 6, 128) # Define the first fully connected (linear) layer:\n",
        "                                               # - Input features: 32 * 6 * 6 (calculated based on the output of the convolutional layers and pooling).\n",
        "                                               # - Output features: 128.\n",
        "        self.fc2 = nn.Linear(128, 10) # Define the second fully connected layer (output layer):\n",
        "                                        # - Input features: 128.\n",
        "                                        # - Output features: 10 (number of classes in CIFAR-10).\n",
        "\n",
        "    def forward(self, x):  # Define the forward pass of the network.\n",
        "        x = self.pool(F.relu(self.conv1(x)))  # Apply the first convolutional layer, ReLU activation, and max pooling.\n",
        "        x = self.pool(F.relu(self.conv2(x)))  # Apply the second convolutional layer, ReLU activation, and max pooling.\n",
        "        x = x.view(-1, 32 * 6 * 6)  # Flatten the feature maps to prepare them for the fully connected layers:\n",
        "                                     # - '-1' infers the batch size.\n",
        "                                     # - '32 * 6 * 6' is the number of features.\n",
        "        x = F.relu(self.fc1(x))  # Apply the first fully connected layer and ReLU activation.\n",
        "        x = self.fc2(x)  # Apply the second fully connected layer (output layer).\n",
        "        return x  # Return the output of the network.\n",
        "\n",
        "net = Net()  # Create an instance of the 'Net' class, which is our neural network model.\n",
        "\n",
        "\n",
        "criterion = nn.CrossEntropyLoss()  # Define the loss function as CrossEntropyLoss, which is commonly used for multi-class classification problems.\n",
        "\n",
        "optimizer = optim.Adam(net.parameters())  # Define the optimizer as Adam:\n",
        "                                           # - optim.Adam is the Adam optimization algorithm.\n",
        "                                           # - net.parameters() provides the parameters (weights and biases) of the neural network 'net' that need to be optimized.\n",
        "\n",
        "for epoch in range(10):  # Loop over the dataset multiple times (10 epochs in this case).\n",
        "    running_loss = 0.0  # Initialize the running loss for each epoch.\n",
        "    for i, data in enumerate(trainloader, 0):  # Loop over the batches of data from the training data loader.\n",
        "        inputs, labels = data  # Extract the input images and their corresponding labels from the current batch.\n",
        "        optimizer.zero_grad()  # Zero the gradients of the optimizer, clearing any previously accumulated gradients.\n",
        "        outputs = net(inputs)  # Pass the input images through the neural network to get the predicted outputs.\n",
        "        loss = criterion(outputs, labels)  # Calculate the loss between the predicted outputs and the true labels using the defined loss function (CrossEntropyLoss)."
      ],
      "metadata": {
        "id": "J7E1rWFqwwpg"
      },
      "execution_count": null,
      "outputs": []
    },
    {
      "cell_type": "code",
      "source": [],
      "metadata": {
        "id": "znUE9nYQywS4"
      },
      "execution_count": null,
      "outputs": []
    }
  ]
}