{
  "nbformat": 4,
  "nbformat_minor": 0,
  "metadata": {
    "colab": {
      "provenance": [],
      "authorship_tag": "ABX9TyNHPDf3SBWj5YhAJNmVOx0b",
      "include_colab_link": true
    },
    "kernelspec": {
      "name": "python3",
      "display_name": "Python 3"
    },
    "language_info": {
      "name": "python"
    }
  },
  "cells": [
    {
      "cell_type": "markdown",
      "metadata": {
        "id": "view-in-github",
        "colab_type": "text"
      },
      "source": [
        "<a href=\"https://colab.research.google.com/github/Naomie25/DI-Bootcamp/blob/main/Week4_Day1_ExerciceXP.ipynb\" target=\"_parent\"><img src=\"https://colab.research.google.com/assets/colab-badge.svg\" alt=\"Open In Colab\"/></a>"
      ]
    },
    {
      "cell_type": "markdown",
      "source": [
        "Exercise 1 : Array Creation and Manipulation"
      ],
      "metadata": {
        "id": "IxJ-o9SIY5n1"
      }
    },
    {
      "cell_type": "code",
      "execution_count": 3,
      "metadata": {
        "colab": {
          "base_uri": "https://localhost:8080/"
        },
        "id": "U2wgjLNpYp2t",
        "outputId": "dedb6567-c6d4-40bd-dfd1-36bbb4a9a5f2"
      },
      "outputs": [
        {
          "output_type": "execute_result",
          "data": {
            "text/plain": [
              "array([0, 1, 2, 3, 4, 5, 6, 7, 8, 9])"
            ]
          },
          "metadata": {},
          "execution_count": 3
        }
      ],
      "source": [
        "import numpy as np\n",
        "import random\n",
        "array_1=np.array([0,1,2,3,4,5,6,7,8,9])\n",
        "array_1"
      ]
    },
    {
      "cell_type": "markdown",
      "source": [
        "Exercise 2 : Type Conversion and Array Operations"
      ],
      "metadata": {
        "id": "l0ZVGANnZjYc"
      }
    },
    {
      "cell_type": "code",
      "source": [
        "our_list=[3.14, 2.17, 0, 1, 2]\n",
        "our_array=np.array(our_list,dtype=int)\n",
        "our_array"
      ],
      "metadata": {
        "colab": {
          "base_uri": "https://localhost:8080/"
        },
        "id": "XipLES7LZmcQ",
        "outputId": "ee6f0ffc-0ba3-456f-82e1-85ca53c8165d"
      },
      "execution_count": 7,
      "outputs": [
        {
          "output_type": "execute_result",
          "data": {
            "text/plain": [
              "array([3, 2, 0, 1, 2])"
            ]
          },
          "metadata": {},
          "execution_count": 7
        }
      ]
    },
    {
      "cell_type": "markdown",
      "source": [
        "Exercise 3 : Working with Multi-Dimensional Arrays"
      ],
      "metadata": {
        "id": "4e_rTi-uaB_t"
      }
    },
    {
      "cell_type": "code",
      "source": [
        "array_3D=np.array([[1, 2, 3],[4, 5, 6],[7, 8, 9]])\n",
        "array_3D"
      ],
      "metadata": {
        "colab": {
          "base_uri": "https://localhost:8080/"
        },
        "id": "oRK-NlZOaHAc",
        "outputId": "32e2ccd2-e833-4564-f1a3-6ad44c885503"
      },
      "execution_count": 9,
      "outputs": [
        {
          "output_type": "execute_result",
          "data": {
            "text/plain": [
              "array([[1, 2, 3],\n",
              "       [4, 5, 6],\n",
              "       [7, 8, 9]])"
            ]
          },
          "metadata": {},
          "execution_count": 9
        }
      ]
    },
    {
      "cell_type": "markdown",
      "source": [
        "Exercise 4 : Creating Multi-Dimensional Array with Random Numbers"
      ],
      "metadata": {
        "id": "RUMIQ3xtabuh"
      }
    },
    {
      "cell_type": "code",
      "source": [
        "import random\n",
        "data = np.random.rand(4, 5)\n",
        "data"
      ],
      "metadata": {
        "colab": {
          "base_uri": "https://localhost:8080/"
        },
        "id": "_iANamEUacFv",
        "outputId": "9b80223c-b59a-480b-9594-1ec830897bb7"
      },
      "execution_count": 23,
      "outputs": [
        {
          "output_type": "execute_result",
          "data": {
            "text/plain": [
              "array([[0.79718201, 0.12010246, 0.69951791, 0.89044258, 0.92173813],\n",
              "       [0.80380643, 0.77963293, 0.80162526, 0.26036314, 0.6230872 ],\n",
              "       [0.17143723, 0.22457345, 0.61796874, 0.8600542 , 0.21412418],\n",
              "       [0.08138171, 0.71410786, 0.98463689, 0.9160799 , 0.63817458]])"
            ]
          },
          "metadata": {},
          "execution_count": 23
        }
      ]
    },
    {
      "cell_type": "markdown",
      "source": [
        "Exercise 5 : Indexing Arrays"
      ],
      "metadata": {
        "id": "1SIYh9SLa9rx"
      }
    },
    {
      "cell_type": "code",
      "source": [
        "array = np.array([[21,22,23,22,22],[20, 21, 22, 23, 24],[21,22,23,22,22]])\n",
        "second_row=array[1]\n",
        "second_row"
      ],
      "metadata": {
        "colab": {
          "base_uri": "https://localhost:8080/"
        },
        "id": "TCBn0scTa-By",
        "outputId": "8d6961a3-c95b-434c-b24e-9f70acd5c1d2"
      },
      "execution_count": 25,
      "outputs": [
        {
          "output_type": "execute_result",
          "data": {
            "text/plain": [
              "array([20, 21, 22, 23, 24])"
            ]
          },
          "metadata": {},
          "execution_count": 25
        }
      ]
    },
    {
      "cell_type": "markdown",
      "source": [
        "Exercise 6 : Reversing elements"
      ],
      "metadata": {
        "id": "-HF0rBBzbOFs"
      }
    },
    {
      "cell_type": "code",
      "source": [
        "our_array=np.array([0,1,2,3,4,5,6,7,8,9])\n",
        "reversed_arr = our_array[::-1]\n",
        "reversed_arr"
      ],
      "metadata": {
        "colab": {
          "base_uri": "https://localhost:8080/"
        },
        "id": "2aQJFg64bP1y",
        "outputId": "834899ba-a14a-4aaf-9995-517ad1681e44"
      },
      "execution_count": 27,
      "outputs": [
        {
          "output_type": "execute_result",
          "data": {
            "text/plain": [
              "array([9, 8, 7, 6, 5, 4, 3, 2, 1, 0])"
            ]
          },
          "metadata": {},
          "execution_count": 27
        }
      ]
    },
    {
      "cell_type": "markdown",
      "source": [
        "Exercise 7 : Identity Matrix"
      ],
      "metadata": {
        "id": "Rw0ybS05cQls"
      }
    },
    {
      "cell_type": "code",
      "source": [
        "identity_matrix = np.identity(4)\n",
        "print(identity_matrix)"
      ],
      "metadata": {
        "colab": {
          "base_uri": "https://localhost:8080/"
        },
        "id": "KL337J8DcQ9w",
        "outputId": "9aabf8c7-6820-4aee-c309-cc659d684dec"
      },
      "execution_count": 28,
      "outputs": [
        {
          "output_type": "stream",
          "name": "stdout",
          "text": [
            "[[1. 0. 0. 0.]\n",
            " [0. 1. 0. 0.]\n",
            " [0. 0. 1. 0.]\n",
            " [0. 0. 0. 1.]]\n"
          ]
        }
      ]
    },
    {
      "cell_type": "markdown",
      "source": [
        "Exercise 8 : Simple Aggregate Funcs"
      ],
      "metadata": {
        "id": "aFZvwSDmdZy0"
      }
    },
    {
      "cell_type": "code",
      "source": [
        "our_array=np.array([0,1,2,3,4,5,6,7,8,9])\n",
        "print(our_array.sum())\n",
        "print(our_array.mean())"
      ],
      "metadata": {
        "colab": {
          "base_uri": "https://localhost:8080/"
        },
        "id": "3LgkWwZ0daUE",
        "outputId": "2539d24e-3bc8-4a22-d71b-a9799a6053d9"
      },
      "execution_count": 30,
      "outputs": [
        {
          "output_type": "stream",
          "name": "stdout",
          "text": [
            "45\n",
            "4.5\n"
          ]
        }
      ]
    },
    {
      "cell_type": "markdown",
      "source": [
        "Exercise 9 : Create Array and Change its Structure"
      ],
      "metadata": {
        "id": "vJnYmtXBdz71"
      }
    },
    {
      "cell_type": "code",
      "source": [
        "arr = np.arange(1, 21)  # Start at 1, stop before 21\n",
        "print(arr)\n",
        "\n",
        "print(\"Array after reshaping: \",arr.reshape(4,5))"
      ],
      "metadata": {
        "colab": {
          "base_uri": "https://localhost:8080/"
        },
        "id": "UqrM-HgseoC3",
        "outputId": "df0eaae2-7ad5-4e1b-ee8a-aae3c963238d"
      },
      "execution_count": 33,
      "outputs": [
        {
          "output_type": "stream",
          "name": "stdout",
          "text": [
            "[ 1  2  3  4  5  6  7  8  9 10 11 12 13 14 15 16 17 18 19 20]\n",
            "Array after reshaping:  [[ 1  2  3  4  5]\n",
            " [ 6  7  8  9 10]\n",
            " [11 12 13 14 15]\n",
            " [16 17 18 19 20]]\n"
          ]
        }
      ]
    },
    {
      "cell_type": "markdown",
      "source": [
        "Exercise 10 : Conditional Selection of Values"
      ],
      "metadata": {
        "id": "0Fzo9H5Ge02x"
      }
    },
    {
      "cell_type": "code",
      "source": [
        "arr = np.array([1, 2, 3, 4, 5, 6, 7, 8, 9, 10])\n",
        "\n",
        "# Extract odd numbers\n",
        "odd_numbers = arr[arr % 2 == 1]\n",
        "\n",
        "print(odd_numbers)"
      ],
      "metadata": {
        "colab": {
          "base_uri": "https://localhost:8080/"
        },
        "id": "T1n8OtVUe0nq",
        "outputId": "2fcb391b-745e-478f-d04f-154685aa84ff"
      },
      "execution_count": 34,
      "outputs": [
        {
          "output_type": "stream",
          "name": "stdout",
          "text": [
            "[1 3 5 7 9]\n"
          ]
        }
      ]
    }
  ]
}