{
  "nbformat": 4,
  "nbformat_minor": 0,
  "metadata": {
    "colab": {
      "provenance": [],
      "authorship_tag": "ABX9TyPf48zN6gTk1zCd1hLVhPYt",
      "include_colab_link": true
    },
    "kernelspec": {
      "name": "python3",
      "display_name": "Python 3"
    },
    "language_info": {
      "name": "python"
    }
  },
  "cells": [
    {
      "cell_type": "markdown",
      "metadata": {
        "id": "view-in-github",
        "colab_type": "text"
      },
      "source": [
        "<a href=\"https://colab.research.google.com/github/Naomie25/DI-Bootcamp/blob/main/Week5_Day1_DailyChallenge.ipynb\" target=\"_parent\"><img src=\"https://colab.research.google.com/assets/colab-badge.svg\" alt=\"Open In Colab\"/></a>"
      ]
    },
    {
      "cell_type": "markdown",
      "source": [
        "\n",
        "\n",
        "## **Introduction to Machine Learning**\n",
        "\n",
        "**Machine Learning (ML)** is a subset of artificial intelligence that allows computers to learn from data without being explicitly programmed. Instead of following fixed rules, ML algorithms identify patterns and improve performance on a task over time by training on data.\n",
        "\n",
        "### **Why It’s Important for Data Analysts**\n",
        "\n",
        "ML helps data analysts move beyond basic statistical summaries to building predictive and pattern-recognizing systems. It enables deeper insights, automates decision-making, and handles large volumes of complex data efficiently.\n",
        "\n",
        "---\n",
        "\n",
        "## **Applications of Machine Learning Across Industries**\n",
        "\n",
        "1. **Healthcare:**\n",
        "\n",
        "   * Predicting disease risk (e.g., diabetes, cancer) using patient data.\n",
        "2. **Finance:**\n",
        "\n",
        "   * Fraud detection and credit scoring based on transaction patterns.\n",
        "3. **Retail and E-commerce:**\n",
        "\n",
        "   * Personalized product recommendations using customer behavior data.\n",
        "\n",
        "---\n",
        "\n",
        "## **Types of Machine Learning**\n",
        "\n",
        "| Type                       | Definition                                                                  | Example Scenario                                                  |\n",
        "| -------------------------- | --------------------------------------------------------------------------- | ----------------------------------------------------------------- |\n",
        "| **Supervised Learning**    | Learns from labeled data (input-output pairs) to predict outcomes.          | Predicting house prices based on features like size and location. |\n",
        "| **Unsupervised Learning**  | Finds hidden patterns or groupings in unlabeled data.                       | Grouping customers into segments based on purchasing behavior.    |\n",
        "| **Reinforcement Learning** | An agent learns through trial and error by interacting with an environment. | Training a robot to navigate a maze or a self-driving car.        |\n",
        "\n",
        "---\n",
        "\n",
        "## **The Process of Developing a Machine Learning Model**\n",
        "\n",
        "### **1. Feature Selection**\n",
        "\n",
        "* Involves choosing the most relevant variables (features) from the dataset that contribute to the model’s predictions.\n",
        "* Example: Selecting age, income, and credit history for a loan approval model.\n",
        "\n",
        "### **2. Model Selection**\n",
        "\n",
        "* Choosing the right algorithm (e.g., decision tree, SVM, neural network) depending on the problem (classification, regression, clustering).\n",
        "* Factors include data size, complexity, and interpretability.\n",
        "\n",
        "### **3. Model Evaluation**\n",
        "\n",
        "* Assessing the model’s performance using appropriate metrics:\n",
        "\n",
        "  * For classification: accuracy, precision, recall, F1-score.\n",
        "  * For regression: RMSE, MAE.\n",
        "  * Use techniques like cross-validation and confusion matrices.\n",
        "* Helps determine if the model is generalizing well or overfitting.\n",
        "\n",
        "\n"
      ],
      "metadata": {
        "id": "n7wWMu3vVjKw"
      }
    }
  ]
}