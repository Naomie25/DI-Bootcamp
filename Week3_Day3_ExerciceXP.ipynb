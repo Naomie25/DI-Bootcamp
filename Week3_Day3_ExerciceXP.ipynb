{
  "nbformat": 4,
  "nbformat_minor": 0,
  "metadata": {
    "colab": {
      "provenance": [],
      "authorship_tag": "ABX9TyNjQWz23rn8USHOg4cGJriM",
      "include_colab_link": true
    },
    "kernelspec": {
      "name": "python3",
      "display_name": "Python 3"
    },
    "language_info": {
      "name": "python"
    }
  },
  "cells": [
    {
      "cell_type": "markdown",
      "metadata": {
        "id": "view-in-github",
        "colab_type": "text"
      },
      "source": [
        "<a href=\"https://colab.research.google.com/github/Naomie25/DI-Bootcamp/blob/main/Week3_Day3_ExerciceXP.ipynb\" target=\"_parent\"><img src=\"https://colab.research.google.com/assets/colab-badge.svg\" alt=\"Open In Colab\"/></a>"
      ]
    },
    {
      "cell_type": "markdown",
      "source": [
        "Exercise 1: Duplicate Detection and Removal"
      ],
      "metadata": {
        "id": "r550Y7bNSMTE"
      }
    },
    {
      "cell_type": "code",
      "execution_count": 6,
      "metadata": {
        "colab": {
          "base_uri": "https://localhost:8080/",
          "height": 397
        },
        "id": "hWBK3Df7SDxs",
        "outputId": "60005c40-75ac-4f1b-aa2e-01748541e71d"
      },
      "outputs": [
        {
          "output_type": "stream",
          "name": "stdout",
          "text": [
            "Requirement already satisfied: kaggle in /usr/local/lib/python3.11/dist-packages (1.7.4.5)\n",
            "Requirement already satisfied: bleach in /usr/local/lib/python3.11/dist-packages (from kaggle) (6.2.0)\n",
            "Requirement already satisfied: certifi>=14.05.14 in /usr/local/lib/python3.11/dist-packages (from kaggle) (2025.4.26)\n",
            "Requirement already satisfied: charset-normalizer in /usr/local/lib/python3.11/dist-packages (from kaggle) (3.4.2)\n",
            "Requirement already satisfied: idna in /usr/local/lib/python3.11/dist-packages (from kaggle) (3.10)\n",
            "Requirement already satisfied: protobuf in /usr/local/lib/python3.11/dist-packages (from kaggle) (5.29.4)\n",
            "Requirement already satisfied: python-dateutil>=2.5.3 in /usr/local/lib/python3.11/dist-packages (from kaggle) (2.9.0.post0)\n",
            "Requirement already satisfied: python-slugify in /usr/local/lib/python3.11/dist-packages (from kaggle) (8.0.4)\n",
            "Requirement already satisfied: requests in /usr/local/lib/python3.11/dist-packages (from kaggle) (2.32.3)\n",
            "Requirement already satisfied: setuptools>=21.0.0 in /usr/local/lib/python3.11/dist-packages (from kaggle) (75.2.0)\n",
            "Requirement already satisfied: six>=1.10 in /usr/local/lib/python3.11/dist-packages (from kaggle) (1.17.0)\n",
            "Requirement already satisfied: text-unidecode in /usr/local/lib/python3.11/dist-packages (from kaggle) (1.3)\n",
            "Requirement already satisfied: tqdm in /usr/local/lib/python3.11/dist-packages (from kaggle) (4.67.1)\n",
            "Requirement already satisfied: urllib3>=1.15.1 in /usr/local/lib/python3.11/dist-packages (from kaggle) (2.4.0)\n",
            "Requirement already satisfied: webencodings in /usr/local/lib/python3.11/dist-packages (from kaggle) (0.5.1)\n"
          ]
        },
        {
          "output_type": "display_data",
          "data": {
            "text/plain": [
              "<IPython.core.display.HTML object>"
            ],
            "text/html": [
              "\n",
              "     <input type=\"file\" id=\"files-65b7c76d-90b1-45b1-af94-fa7c4acad5db\" name=\"files[]\" multiple disabled\n",
              "        style=\"border:none\" />\n",
              "     <output id=\"result-65b7c76d-90b1-45b1-af94-fa7c4acad5db\">\n",
              "      Upload widget is only available when the cell has been executed in the\n",
              "      current browser session. Please rerun this cell to enable.\n",
              "      </output>\n",
              "      <script>// Copyright 2017 Google LLC\n",
              "//\n",
              "// Licensed under the Apache License, Version 2.0 (the \"License\");\n",
              "// you may not use this file except in compliance with the License.\n",
              "// You may obtain a copy of the License at\n",
              "//\n",
              "//      http://www.apache.org/licenses/LICENSE-2.0\n",
              "//\n",
              "// Unless required by applicable law or agreed to in writing, software\n",
              "// distributed under the License is distributed on an \"AS IS\" BASIS,\n",
              "// WITHOUT WARRANTIES OR CONDITIONS OF ANY KIND, either express or implied.\n",
              "// See the License for the specific language governing permissions and\n",
              "// limitations under the License.\n",
              "\n",
              "/**\n",
              " * @fileoverview Helpers for google.colab Python module.\n",
              " */\n",
              "(function(scope) {\n",
              "function span(text, styleAttributes = {}) {\n",
              "  const element = document.createElement('span');\n",
              "  element.textContent = text;\n",
              "  for (const key of Object.keys(styleAttributes)) {\n",
              "    element.style[key] = styleAttributes[key];\n",
              "  }\n",
              "  return element;\n",
              "}\n",
              "\n",
              "// Max number of bytes which will be uploaded at a time.\n",
              "const MAX_PAYLOAD_SIZE = 100 * 1024;\n",
              "\n",
              "function _uploadFiles(inputId, outputId) {\n",
              "  const steps = uploadFilesStep(inputId, outputId);\n",
              "  const outputElement = document.getElementById(outputId);\n",
              "  // Cache steps on the outputElement to make it available for the next call\n",
              "  // to uploadFilesContinue from Python.\n",
              "  outputElement.steps = steps;\n",
              "\n",
              "  return _uploadFilesContinue(outputId);\n",
              "}\n",
              "\n",
              "// This is roughly an async generator (not supported in the browser yet),\n",
              "// where there are multiple asynchronous steps and the Python side is going\n",
              "// to poll for completion of each step.\n",
              "// This uses a Promise to block the python side on completion of each step,\n",
              "// then passes the result of the previous step as the input to the next step.\n",
              "function _uploadFilesContinue(outputId) {\n",
              "  const outputElement = document.getElementById(outputId);\n",
              "  const steps = outputElement.steps;\n",
              "\n",
              "  const next = steps.next(outputElement.lastPromiseValue);\n",
              "  return Promise.resolve(next.value.promise).then((value) => {\n",
              "    // Cache the last promise value to make it available to the next\n",
              "    // step of the generator.\n",
              "    outputElement.lastPromiseValue = value;\n",
              "    return next.value.response;\n",
              "  });\n",
              "}\n",
              "\n",
              "/**\n",
              " * Generator function which is called between each async step of the upload\n",
              " * process.\n",
              " * @param {string} inputId Element ID of the input file picker element.\n",
              " * @param {string} outputId Element ID of the output display.\n",
              " * @return {!Iterable<!Object>} Iterable of next steps.\n",
              " */\n",
              "function* uploadFilesStep(inputId, outputId) {\n",
              "  const inputElement = document.getElementById(inputId);\n",
              "  inputElement.disabled = false;\n",
              "\n",
              "  const outputElement = document.getElementById(outputId);\n",
              "  outputElement.innerHTML = '';\n",
              "\n",
              "  const pickedPromise = new Promise((resolve) => {\n",
              "    inputElement.addEventListener('change', (e) => {\n",
              "      resolve(e.target.files);\n",
              "    });\n",
              "  });\n",
              "\n",
              "  const cancel = document.createElement('button');\n",
              "  inputElement.parentElement.appendChild(cancel);\n",
              "  cancel.textContent = 'Cancel upload';\n",
              "  const cancelPromise = new Promise((resolve) => {\n",
              "    cancel.onclick = () => {\n",
              "      resolve(null);\n",
              "    };\n",
              "  });\n",
              "\n",
              "  // Wait for the user to pick the files.\n",
              "  const files = yield {\n",
              "    promise: Promise.race([pickedPromise, cancelPromise]),\n",
              "    response: {\n",
              "      action: 'starting',\n",
              "    }\n",
              "  };\n",
              "\n",
              "  cancel.remove();\n",
              "\n",
              "  // Disable the input element since further picks are not allowed.\n",
              "  inputElement.disabled = true;\n",
              "\n",
              "  if (!files) {\n",
              "    return {\n",
              "      response: {\n",
              "        action: 'complete',\n",
              "      }\n",
              "    };\n",
              "  }\n",
              "\n",
              "  for (const file of files) {\n",
              "    const li = document.createElement('li');\n",
              "    li.append(span(file.name, {fontWeight: 'bold'}));\n",
              "    li.append(span(\n",
              "        `(${file.type || 'n/a'}) - ${file.size} bytes, ` +\n",
              "        `last modified: ${\n",
              "            file.lastModifiedDate ? file.lastModifiedDate.toLocaleDateString() :\n",
              "                                    'n/a'} - `));\n",
              "    const percent = span('0% done');\n",
              "    li.appendChild(percent);\n",
              "\n",
              "    outputElement.appendChild(li);\n",
              "\n",
              "    const fileDataPromise = new Promise((resolve) => {\n",
              "      const reader = new FileReader();\n",
              "      reader.onload = (e) => {\n",
              "        resolve(e.target.result);\n",
              "      };\n",
              "      reader.readAsArrayBuffer(file);\n",
              "    });\n",
              "    // Wait for the data to be ready.\n",
              "    let fileData = yield {\n",
              "      promise: fileDataPromise,\n",
              "      response: {\n",
              "        action: 'continue',\n",
              "      }\n",
              "    };\n",
              "\n",
              "    // Use a chunked sending to avoid message size limits. See b/62115660.\n",
              "    let position = 0;\n",
              "    do {\n",
              "      const length = Math.min(fileData.byteLength - position, MAX_PAYLOAD_SIZE);\n",
              "      const chunk = new Uint8Array(fileData, position, length);\n",
              "      position += length;\n",
              "\n",
              "      const base64 = btoa(String.fromCharCode.apply(null, chunk));\n",
              "      yield {\n",
              "        response: {\n",
              "          action: 'append',\n",
              "          file: file.name,\n",
              "          data: base64,\n",
              "        },\n",
              "      };\n",
              "\n",
              "      let percentDone = fileData.byteLength === 0 ?\n",
              "          100 :\n",
              "          Math.round((position / fileData.byteLength) * 100);\n",
              "      percent.textContent = `${percentDone}% done`;\n",
              "\n",
              "    } while (position < fileData.byteLength);\n",
              "  }\n",
              "\n",
              "  // All done.\n",
              "  yield {\n",
              "    response: {\n",
              "      action: 'complete',\n",
              "    }\n",
              "  };\n",
              "}\n",
              "\n",
              "scope.google = scope.google || {};\n",
              "scope.google.colab = scope.google.colab || {};\n",
              "scope.google.colab._files = {\n",
              "  _uploadFiles,\n",
              "  _uploadFilesContinue,\n",
              "};\n",
              "})(self);\n",
              "</script> "
            ]
          },
          "metadata": {}
        },
        {
          "output_type": "stream",
          "name": "stdout",
          "text": [
            "Saving kaggle.json to kaggle.json\n"
          ]
        },
        {
          "output_type": "execute_result",
          "data": {
            "text/plain": [
              "{'kaggle.json': b'{\"username\":\"naomiemarciano\",\"key\":\"a7810d4adf141a3202b944c9e4d877b2\"}'}"
            ]
          },
          "metadata": {},
          "execution_count": 6
        }
      ],
      "source": [
        "# 1. Installer la bibliothèque kaggle\n",
        "!pip install kaggle\n",
        "\n",
        "# 2. Importer la fonction pour téléverser des fichiers\n",
        "from google.colab import files\n",
        "files.upload()  # ← Sélectionne ici ton fichier kaggle.json téléchargé depuis ton compte Kaggle"
      ]
    },
    {
      "cell_type": "code",
      "source": [
        "# 3. Créer le dossier s’il n’existe pas\n",
        "!mkdir -p ~/.kaggle\n",
        "\n",
        "# 4. Copier le fichier au bon endroit\n",
        "!cp kaggle.json ~/.kaggle/\n",
        "\n",
        "# 5. Donner les bonnes permissions\n",
        "!chmod 600 ~/.kaggle/kaggle.json"
      ],
      "metadata": {
        "id": "1eBKI9kjTjzx"
      },
      "execution_count": 7,
      "outputs": []
    },
    {
      "cell_type": "code",
      "source": [
        "# 6. Télécharger la compétition Titanic\n",
        "!kaggle competitions download -c titanic\n",
        "\n",
        "# 7. Décompresser le fichier ZIP\n",
        "!unzip titanic.zip"
      ],
      "metadata": {
        "colab": {
          "base_uri": "https://localhost:8080/"
        },
        "id": "1QbQe_THTm-X",
        "outputId": "7f92c855-541e-451a-a348-0cb81e822aba"
      },
      "execution_count": 8,
      "outputs": [
        {
          "output_type": "stream",
          "name": "stdout",
          "text": [
            "Downloading titanic.zip to /content\n",
            "\r  0% 0.00/34.1k [00:00<?, ?B/s]\n",
            "\r100% 34.1k/34.1k [00:00<00:00, 133MB/s]\n",
            "Archive:  titanic.zip\n",
            "  inflating: gender_submission.csv   \n",
            "  inflating: test.csv                \n",
            "  inflating: train.csv               \n"
          ]
        }
      ]
    },
    {
      "cell_type": "code",
      "source": [
        "import pandas as pd\n",
        "\n",
        "# Load the Titanic dataset\n",
        "titanic_data = pd.read_csv('train.csv')\n",
        "\n",
        "# Explore the dataset\n",
        "print(titanic_data.head())\n",
        "print(titanic_data.info())"
      ],
      "metadata": {
        "colab": {
          "base_uri": "https://localhost:8080/"
        },
        "id": "C-IkkWq2Trs8",
        "outputId": "6d3244aa-6853-4de9-d7f2-3027439b71d3"
      },
      "execution_count": 15,
      "outputs": [
        {
          "output_type": "stream",
          "name": "stdout",
          "text": [
            "   PassengerId  Survived  Pclass  \\\n",
            "0            1         0       3   \n",
            "1            2         1       1   \n",
            "2            3         1       3   \n",
            "3            4         1       1   \n",
            "4            5         0       3   \n",
            "\n",
            "                                                Name     Sex   Age  SibSp  \\\n",
            "0                            Braund, Mr. Owen Harris    male  22.0      1   \n",
            "1  Cumings, Mrs. John Bradley (Florence Briggs Th...  female  38.0      1   \n",
            "2                             Heikkinen, Miss. Laina  female  26.0      0   \n",
            "3       Futrelle, Mrs. Jacques Heath (Lily May Peel)  female  35.0      1   \n",
            "4                           Allen, Mr. William Henry    male  35.0      0   \n",
            "\n",
            "   Parch            Ticket     Fare Cabin Embarked  \n",
            "0      0         A/5 21171   7.2500   NaN        S  \n",
            "1      0          PC 17599  71.2833   C85        C  \n",
            "2      0  STON/O2. 3101282   7.9250   NaN        S  \n",
            "3      0            113803  53.1000  C123        S  \n",
            "4      0            373450   8.0500   NaN        S  \n",
            "<class 'pandas.core.frame.DataFrame'>\n",
            "RangeIndex: 891 entries, 0 to 890\n",
            "Data columns (total 12 columns):\n",
            " #   Column       Non-Null Count  Dtype  \n",
            "---  ------       --------------  -----  \n",
            " 0   PassengerId  891 non-null    int64  \n",
            " 1   Survived     891 non-null    int64  \n",
            " 2   Pclass       891 non-null    int64  \n",
            " 3   Name         891 non-null    object \n",
            " 4   Sex          891 non-null    object \n",
            " 5   Age          714 non-null    float64\n",
            " 6   SibSp        891 non-null    int64  \n",
            " 7   Parch        891 non-null    int64  \n",
            " 8   Ticket       891 non-null    object \n",
            " 9   Fare         891 non-null    float64\n",
            " 10  Cabin        204 non-null    object \n",
            " 11  Embarked     889 non-null    object \n",
            "dtypes: float64(2), int64(5), object(5)\n",
            "memory usage: 83.7+ KB\n",
            "None\n"
          ]
        }
      ]
    },
    {
      "cell_type": "code",
      "source": [
        "rows_before = len(titanic_data)\n"
      ],
      "metadata": {
        "id": "zHkJ4LdXUe0_"
      },
      "execution_count": 21,
      "outputs": []
    },
    {
      "cell_type": "code",
      "source": [
        "# Remove duplicate rows\n",
        "titanic_data_with_no_duplicate = titanic_data.drop_duplicates()"
      ],
      "metadata": {
        "id": "lZ64f5uWT7AM"
      },
      "execution_count": 22,
      "outputs": []
    },
    {
      "cell_type": "code",
      "source": [
        "rows_after = len(titanic_data_with_no_duplicate)\n",
        "\n",
        "# Print the result\n",
        "print(f\"Rows before removing duplicates: {rows_before}\")\n",
        "print(f\"Rows after removing duplicates: {rows_after}\")"
      ],
      "metadata": {
        "colab": {
          "base_uri": "https://localhost:8080/"
        },
        "id": "PLnl_RHfUkfc",
        "outputId": "26a128a2-24ae-4509-bcd2-24440ac8df2e"
      },
      "execution_count": 23,
      "outputs": [
        {
          "output_type": "stream",
          "name": "stdout",
          "text": [
            "Rows before removing duplicates: 891\n",
            "Rows after removing duplicates: 891\n"
          ]
        }
      ]
    },
    {
      "cell_type": "markdown",
      "source": [
        "Exercise 2: Handling Missing Values"
      ],
      "metadata": {
        "id": "_T8zqOFYVHXM"
      }
    },
    {
      "cell_type": "code",
      "source": [
        "# Check for missing values in a DataFrame\n",
        "missing_data = titanic_data.isnull()\n",
        "print(missing_data.head())\n",
        "\n",
        "# Count missing values in each column\n",
        "missing_counts = titanic_data.isnull().sum()\n",
        "print(missing_counts)"
      ],
      "metadata": {
        "colab": {
          "base_uri": "https://localhost:8080/"
        },
        "id": "h5ObgpZ0VITG",
        "outputId": "8eead4ca-2900-4ec2-ae7e-7d7e90a4de4b"
      },
      "execution_count": 24,
      "outputs": [
        {
          "output_type": "stream",
          "name": "stdout",
          "text": [
            "   PassengerId  Survived  Pclass   Name    Sex    Age  SibSp  Parch  Ticket  \\\n",
            "0        False     False   False  False  False  False  False  False   False   \n",
            "1        False     False   False  False  False  False  False  False   False   \n",
            "2        False     False   False  False  False  False  False  False   False   \n",
            "3        False     False   False  False  False  False  False  False   False   \n",
            "4        False     False   False  False  False  False  False  False   False   \n",
            "\n",
            "    Fare  Cabin  Embarked  \n",
            "0  False   True     False  \n",
            "1  False  False     False  \n",
            "2  False   True     False  \n",
            "3  False  False     False  \n",
            "4  False   True     False  \n",
            "PassengerId      0\n",
            "Survived         0\n",
            "Pclass           0\n",
            "Name             0\n",
            "Sex              0\n",
            "Age            177\n",
            "SibSp            0\n",
            "Parch            0\n",
            "Ticket           0\n",
            "Fare             0\n",
            "Cabin          687\n",
            "Embarked         2\n",
            "dtype: int64\n"
          ]
        }
      ]
    },
    {
      "cell_type": "code",
      "source": [
        "#Imputation\n",
        "titanic_data['Age'] = titanic_data['Age'].fillna(titanic_data['Age'].mean())\n",
        "print(titanic_data['Age'])\n"
      ],
      "metadata": {
        "colab": {
          "base_uri": "https://localhost:8080/"
        },
        "id": "O2bJG-iSViym",
        "outputId": "cbc0ab7d-53bd-4075-8580-e91245fba2e2"
      },
      "execution_count": 34,
      "outputs": [
        {
          "output_type": "stream",
          "name": "stdout",
          "text": [
            "0      22.000000\n",
            "1      38.000000\n",
            "2      26.000000\n",
            "3      35.000000\n",
            "4      35.000000\n",
            "         ...    \n",
            "886    27.000000\n",
            "887    19.000000\n",
            "888    29.699118\n",
            "889    26.000000\n",
            "890    32.000000\n",
            "Name: Age, Length: 891, dtype: float64\n"
          ]
        }
      ]
    },
    {
      "cell_type": "code",
      "source": [
        "titanic_data['Cabin'] = titanic_data['Cabin'].fillna('Unknown')\n",
        "print(titanic_data['Cabin'])\n"
      ],
      "metadata": {
        "colab": {
          "base_uri": "https://localhost:8080/"
        },
        "id": "EUXCBGVNWH5a",
        "outputId": "8b230409-2e24-4431-8f71-a2876aed648f"
      },
      "execution_count": 37,
      "outputs": [
        {
          "output_type": "stream",
          "name": "stdout",
          "text": [
            "0      Unknown\n",
            "1          C85\n",
            "2      Unknown\n",
            "3         C123\n",
            "4      Unknown\n",
            "        ...   \n",
            "886    Unknown\n",
            "887        B42\n",
            "888    Unknown\n",
            "889       C148\n",
            "890    Unknown\n",
            "Name: Cabin, Length: 891, dtype: object\n"
          ]
        }
      ]
    },
    {
      "cell_type": "code",
      "source": [
        "titanic_data['Embarked'] = titanic_data['Embarked'].fillna(titanic_data['Embarked'].mode()[0])\n",
        "print(titanic_data)"
      ],
      "metadata": {
        "colab": {
          "base_uri": "https://localhost:8080/"
        },
        "id": "BqGWtZ72X99w",
        "outputId": "9d15a14a-f027-487b-ea30-80599ff13524"
      },
      "execution_count": 40,
      "outputs": [
        {
          "output_type": "stream",
          "name": "stdout",
          "text": [
            "     PassengerId  Survived  Pclass  \\\n",
            "0              1         0       3   \n",
            "1              2         1       1   \n",
            "2              3         1       3   \n",
            "3              4         1       1   \n",
            "4              5         0       3   \n",
            "..           ...       ...     ...   \n",
            "886          887         0       2   \n",
            "887          888         1       1   \n",
            "888          889         0       3   \n",
            "889          890         1       1   \n",
            "890          891         0       3   \n",
            "\n",
            "                                                  Name     Sex        Age  \\\n",
            "0                              Braund, Mr. Owen Harris    male  22.000000   \n",
            "1    Cumings, Mrs. John Bradley (Florence Briggs Th...  female  38.000000   \n",
            "2                               Heikkinen, Miss. Laina  female  26.000000   \n",
            "3         Futrelle, Mrs. Jacques Heath (Lily May Peel)  female  35.000000   \n",
            "4                             Allen, Mr. William Henry    male  35.000000   \n",
            "..                                                 ...     ...        ...   \n",
            "886                              Montvila, Rev. Juozas    male  27.000000   \n",
            "887                       Graham, Miss. Margaret Edith  female  19.000000   \n",
            "888           Johnston, Miss. Catherine Helen \"Carrie\"  female  29.699118   \n",
            "889                              Behr, Mr. Karl Howell    male  26.000000   \n",
            "890                                Dooley, Mr. Patrick    male  32.000000   \n",
            "\n",
            "     SibSp  Parch            Ticket     Fare    Cabin Embarked  \n",
            "0        1      0         A/5 21171   7.2500  Unknown        S  \n",
            "1        1      0          PC 17599  71.2833      C85        C  \n",
            "2        0      0  STON/O2. 3101282   7.9250  Unknown        S  \n",
            "3        1      0            113803  53.1000     C123        S  \n",
            "4        0      0            373450   8.0500  Unknown        S  \n",
            "..     ...    ...               ...      ...      ...      ...  \n",
            "886      0      0            211536  13.0000  Unknown        S  \n",
            "887      0      0            112053  30.0000      B42        S  \n",
            "888      1      2        W./C. 6607  23.4500  Unknown        S  \n",
            "889      0      0            111369  30.0000     C148        C  \n",
            "890      0      0            370376   7.7500  Unknown        Q  \n",
            "\n",
            "[891 rows x 12 columns]\n"
          ]
        }
      ]
    },
    {
      "cell_type": "markdown",
      "source": [
        "Exercise 3: Feature Engineering"
      ],
      "metadata": {
        "id": "RZc0JBUjYVhJ"
      }
    },
    {
      "cell_type": "code",
      "source": [
        "import pandas as pd\n",
        "from sklearn.preprocessing import LabelEncoder, OneHotEncoder, StandardScaler\n",
        "\n",
        "# Exemple avec le DataFrame titanic_data\n",
        "# Créer FamilySize\n",
        "titanic_data['FamilySize'] = titanic_data['SibSp'] + titanic_data['Parch'] + 1\n",
        "\n",
        "# Extraire le titre depuis la colonne Name\n",
        "titanic_data['Title'] = titanic_data['Name'].str.extract(' ([A-Za-z]+)\\.', expand=False)\n"
      ],
      "metadata": {
        "id": "FAGFs6XgYWJT"
      },
      "execution_count": 41,
      "outputs": []
    },
    {
      "cell_type": "code",
      "source": [
        "# Label encoding pour 'Title'\n",
        "le = LabelEncoder()\n",
        "titanic_data['Title_encoded'] = le.fit_transform(titanic_data['Title'])\n",
        "\n",
        "# One-hot encoding pour 'Embarked'\n",
        "titanic_data = pd.get_dummies(titanic_data, columns=['Embarked'])\n"
      ],
      "metadata": {
        "id": "-esuLttbZNbs"
      },
      "execution_count": 42,
      "outputs": []
    },
    {
      "cell_type": "code",
      "source": [
        "from sklearn.preprocessing import MinMaxScaler\n",
        "\n",
        "scaler = MinMaxScaler()\n",
        "titanic_data['Age_normalized'] = scaler.fit_transform(titanic_data[['Age']])\n",
        "print(titanic_data['Age_normalized'])"
      ],
      "metadata": {
        "colab": {
          "base_uri": "https://localhost:8080/"
        },
        "id": "_hCqpjIGZOqc",
        "outputId": "b671f90c-d7b9-40c7-c16f-1ba1304a58e5"
      },
      "execution_count": 44,
      "outputs": [
        {
          "output_type": "stream",
          "name": "stdout",
          "text": [
            "0      0.271174\n",
            "1      0.472229\n",
            "2      0.321438\n",
            "3      0.434531\n",
            "4      0.434531\n",
            "         ...   \n",
            "886    0.334004\n",
            "887    0.233476\n",
            "888    0.367921\n",
            "889    0.321438\n",
            "890    0.396833\n",
            "Name: Age_normalized, Length: 891, dtype: float64\n"
          ]
        }
      ]
    },
    {
      "cell_type": "markdown",
      "source": [
        "Exercise 4: Outlier Detection and Handling"
      ],
      "metadata": {
        "id": "Edua6G-SZiBM"
      }
    },
    {
      "cell_type": "code",
      "source": [
        "# Identify and handle outliers in 'Fare' column\n",
        "Q1 = titanic_data['Fare'].quantile(0.25)\n",
        "Q3 = titanic_data['Fare'].quantile(0.75)\n",
        "IQR = Q3 - Q1\n",
        "lower_bound = Q1 - 1.5 * IQR\n",
        "upper_bound = Q3 + 1.5 * IQR\n",
        "outliers_fare = titanic_data[(titanic_data['Fare'] < lower_bound) | (titanic_data['Fare'] > upper_bound)]\n",
        "print(\"Outliers in Fare:\", outliers_fare)"
      ],
      "metadata": {
        "colab": {
          "base_uri": "https://localhost:8080/"
        },
        "id": "eTR-Y7PHZixI",
        "outputId": "c27b82aa-a534-457e-aa4b-6b3161d20958"
      },
      "execution_count": 46,
      "outputs": [
        {
          "output_type": "stream",
          "name": "stdout",
          "text": [
            "Outliers in Fare:      PassengerId  Survived  Pclass  \\\n",
            "54            55         0       1   \n",
            "74            75         1       3   \n",
            "92            93         0       1   \n",
            "97            98         1       1   \n",
            "155          156         0       1   \n",
            "166          167         1       1   \n",
            "169          170         0       3   \n",
            "309          310         1       1   \n",
            "329          330         1       1   \n",
            "356          357         1       1   \n",
            "370          371         1       1   \n",
            "434          435         0       1   \n",
            "509          510         1       3   \n",
            "513          514         1       1   \n",
            "523          524         1       1   \n",
            "577          578         1       1   \n",
            "599          600         1       1   \n",
            "615          616         1       2   \n",
            "643          644         1       3   \n",
            "690          691         1       1   \n",
            "692          693         1       3   \n",
            "754          755         1       2   \n",
            "781          782         1       1   \n",
            "826          827         0       3   \n",
            "838          839         1       3   \n",
            "\n",
            "                                                Name     Sex        Age  \\\n",
            "54                    Ostby, Mr. Engelhart Cornelius    male  65.000000   \n",
            "74                                     Bing, Mr. Lee    male  32.000000   \n",
            "92                       Chaffee, Mr. Herbert Fuller    male  46.000000   \n",
            "97                   Greenfield, Mr. William Bertram    male  23.000000   \n",
            "155                      Williams, Mr. Charles Duane    male  51.000000   \n",
            "166           Chibnall, Mrs. (Edith Martha Bowerman)  female  29.699118   \n",
            "169                                    Ling, Mr. Lee    male  28.000000   \n",
            "309                   Francatelli, Miss. Laura Mabel  female  30.000000   \n",
            "329                     Hippach, Miss. Jean Gertrude  female  16.000000   \n",
            "356                      Bowerman, Miss. Elsie Edith  female  22.000000   \n",
            "370                      Harder, Mr. George Achilles    male  25.000000   \n",
            "434                        Silvey, Mr. William Baird    male  50.000000   \n",
            "509                                   Lang, Mr. Fang    male  26.000000   \n",
            "513   Rothschild, Mrs. Martin (Elizabeth L. Barrett)  female  54.000000   \n",
            "523  Hippach, Mrs. Louis Albert (Ida Sophia Fischer)  female  44.000000   \n",
            "577        Silvey, Mrs. William Baird (Alice Munger)  female  39.000000   \n",
            "599     Duff Gordon, Sir. Cosmo Edmund (\"Mr Morgan\")    male  49.000000   \n",
            "615                              Herman, Miss. Alice  female  24.000000   \n",
            "643                                  Foo, Mr. Choong    male  29.699118   \n",
            "690                          Dick, Mr. Albert Adrian    male  31.000000   \n",
            "692                                     Lam, Mr. Ali    male  29.699118   \n",
            "754                 Herman, Mrs. Samuel (Jane Laver)  female  48.000000   \n",
            "781        Dick, Mrs. Albert Adrian (Vera Gillespie)  female  17.000000   \n",
            "826                                     Lam, Mr. Len    male  29.699118   \n",
            "838                                  Chip, Mr. Chang    male  32.000000   \n",
            "\n",
            "     SibSp  Parch       Ticket     Fare    Cabin  FamilySize Title  \\\n",
            "54       0      1       113509  61.9792      B30           2    Mr   \n",
            "74       0      0         1601  56.4958  Unknown           1    Mr   \n",
            "92       1      0  W.E.P. 5734  61.1750      E31           2    Mr   \n",
            "97       0      1     PC 17759  63.3583  D10 D12           2    Mr   \n",
            "155      0      1     PC 17597  61.3792  Unknown           2    Mr   \n",
            "166      0      1       113505  55.0000      E33           2   Mrs   \n",
            "169      0      0         1601  56.4958  Unknown           1    Mr   \n",
            "309      0      0     PC 17485  56.9292      E36           1  Miss   \n",
            "329      0      1       111361  57.9792      B18           2  Miss   \n",
            "356      0      1       113505  55.0000      E33           2  Miss   \n",
            "370      1      0        11765  55.4417      E50           2    Mr   \n",
            "434      1      0        13507  55.9000      E44           2    Mr   \n",
            "509      0      0         1601  56.4958  Unknown           1    Mr   \n",
            "513      1      0     PC 17603  59.4000  Unknown           2   Mrs   \n",
            "523      0      1       111361  57.9792      B18           2   Mrs   \n",
            "577      1      0        13507  55.9000      E44           2   Mrs   \n",
            "599      1      0     PC 17485  56.9292      A20           2   Sir   \n",
            "615      1      2       220845  65.0000  Unknown           4  Miss   \n",
            "643      0      0         1601  56.4958  Unknown           1    Mr   \n",
            "690      1      0        17474  57.0000      B20           2    Mr   \n",
            "692      0      0         1601  56.4958  Unknown           1    Mr   \n",
            "754      1      2       220845  65.0000  Unknown           4   Mrs   \n",
            "781      1      0        17474  57.0000      B20           2   Mrs   \n",
            "826      0      0         1601  56.4958  Unknown           1    Mr   \n",
            "838      0      0         1601  56.4958  Unknown           1    Mr   \n",
            "\n",
            "     Title_encoded  Embarked_C  Embarked_Q  Embarked_S  Age_normalized  \n",
            "54              12        True       False       False        0.811510  \n",
            "74              12       False       False        True        0.396833  \n",
            "92              12       False       False        True        0.572757  \n",
            "97              12        True       False       False        0.283740  \n",
            "155             12        True       False       False        0.635587  \n",
            "166             13       False       False        True        0.367921  \n",
            "169             12       False       False        True        0.346569  \n",
            "309              9        True       False       False        0.371701  \n",
            "329              9        True       False       False        0.195778  \n",
            "356              9       False       False        True        0.271174  \n",
            "370             12        True       False       False        0.308872  \n",
            "434             12       False       False        True        0.623021  \n",
            "509             12       False       False        True        0.321438  \n",
            "513             13        True       False       False        0.673285  \n",
            "523             13        True       False       False        0.547625  \n",
            "577             13       False       False        True        0.484795  \n",
            "599             16        True       False       False        0.610455  \n",
            "615              9       False       False        True        0.296306  \n",
            "643             12       False       False        True        0.367921  \n",
            "690             12       False       False        True        0.384267  \n",
            "692             12       False       False        True        0.367921  \n",
            "754             13       False       False        True        0.597889  \n",
            "781             13       False       False        True        0.208344  \n",
            "826             12       False       False        True        0.367921  \n",
            "838             12       False       False        True        0.396833  \n"
          ]
        }
      ]
    },
    {
      "cell_type": "code",
      "source": [
        "#Méthode Z-score (pour ‘Age’)\n",
        "from scipy import stats\n",
        "import numpy as np\n",
        "\n",
        "z_scores = stats.zscore(titanic_data['Age'].dropna())  # dropna pour ignorer les valeurs manquantes\n",
        "abs_z_scores = np.abs(z_scores)\n",
        "outliers_age = titanic_data['Age'][abs_z_scores > 3]  # seuil Z-score > 3\n",
        "print(\"Outliers in Age:\", outliers_age)\n"
      ],
      "metadata": {
        "colab": {
          "base_uri": "https://localhost:8080/"
        },
        "id": "MKDhrguTbNxw",
        "outputId": "cf32cdbb-3c2b-4b47-9b14-664fecf3be61"
      },
      "execution_count": 47,
      "outputs": [
        {
          "output_type": "stream",
          "name": "stdout",
          "text": [
            "Outliers in Age: 96     71.0\n",
            "116    70.5\n",
            "493    71.0\n",
            "630    80.0\n",
            "672    70.0\n",
            "851    74.0\n",
            "Name: Age, dtype: float64\n"
          ]
        }
      ]
    },
    {
      "cell_type": "markdown",
      "source": [
        "Exercise 5: Data Standardization and Normalization"
      ],
      "metadata": {
        "id": "GPg7cwLubXpt"
      }
    },
    {
      "cell_type": "code",
      "source": [
        "from sklearn.preprocessing import StandardScaler\n",
        "\n",
        "scaler = StandardScaler()\n",
        "titanic_data['Fare_standardized'] = scaler.fit_transform(titanic_data[['Fare']])\n",
        "print(titanic_data['Fare_standardized'])\n"
      ],
      "metadata": {
        "colab": {
          "base_uri": "https://localhost:8080/"
        },
        "id": "d-9ISK6JbYPR",
        "outputId": "8189affc-6bb9-47d6-dd7e-85977b2dd79b"
      },
      "execution_count": 50,
      "outputs": [
        {
          "output_type": "stream",
          "name": "stdout",
          "text": [
            "0     -0.779117\n",
            "2     -0.729373\n",
            "3      2.599828\n",
            "4     -0.720161\n",
            "5     -0.690071\n",
            "         ...   \n",
            "886   -0.355367\n",
            "887    0.897459\n",
            "888    0.414752\n",
            "889    0.897459\n",
            "890   -0.742269\n",
            "Name: Fare_standardized, Length: 775, dtype: float64\n"
          ]
        }
      ]
    },
    {
      "cell_type": "code",
      "source": [
        "from sklearn.preprocessing import MinMaxScaler\n",
        "\n",
        "scaler = MinMaxScaler()\n",
        "titanic_data['Age_normalized'] = scaler.fit_transform(titanic_data[['Age']])\n"
      ],
      "metadata": {
        "id": "MojkDUlRbzJH"
      },
      "execution_count": 49,
      "outputs": []
    },
    {
      "cell_type": "markdown",
      "source": [
        "Exercise 6: Feature Encoding"
      ],
      "metadata": {
        "id": "h6lYX6sHb8sO"
      }
    },
    {
      "cell_type": "code",
      "source": [
        "import pandas as pd\n",
        "\n",
        "print(titanic_data.columns)\n",
        "titanic_data = pd.get_dummies(titanic_data, columns=['Sex'])\n",
        "\n"
      ],
      "metadata": {
        "colab": {
          "base_uri": "https://localhost:8080/"
        },
        "id": "ex8l0KReb9Sp",
        "outputId": "69eaa676-a967-4dff-97c4-67eb3d523629"
      },
      "execution_count": 53,
      "outputs": [
        {
          "output_type": "stream",
          "name": "stdout",
          "text": [
            "Index(['PassengerId', 'Survived', 'Pclass', 'Name', 'Sex', 'Age', 'SibSp',\n",
            "       'Parch', 'Ticket', 'Fare', 'Cabin', 'FamilySize', 'Title',\n",
            "       'Title_encoded', 'Embarked_C', 'Embarked_Q', 'Embarked_S',\n",
            "       'Age_normalized', 'Fare_standardized'],\n",
            "      dtype='object')\n"
          ]
        }
      ]
    },
    {
      "cell_type": "code",
      "source": [
        "from sklearn.preprocessing import LabelEncoder\n",
        "\n",
        "# Example: 'Pclass' is ordinal: 1 (highest), 2, 3 (lowest)\n",
        "le = LabelEncoder()\n",
        "titanic_data['Pclass_encoded'] = le.fit_transform(titanic_data['Pclass'])\n"
      ],
      "metadata": {
        "id": "c5wl9fwpc8SM"
      },
      "execution_count": 54,
      "outputs": []
    },
    {
      "cell_type": "code",
      "source": [
        "titanic_data.drop('Pclass', axis=1, inplace=True)\n"
      ],
      "metadata": {
        "id": "NfQV3GL3dTUo"
      },
      "execution_count": 55,
      "outputs": []
    },
    {
      "cell_type": "markdown",
      "source": [
        "Exercise 7: Data Transformation for Age Feature"
      ],
      "metadata": {
        "id": "LfEiWhSedWU0"
      }
    },
    {
      "cell_type": "code",
      "source": [
        "import pandas as pd\n",
        "\n",
        "# Supposons que titanic_data est ton DataFrame avec la colonne 'Age'\n",
        "\n",
        "# 1. Créer des groupes d'âge (bins)\n",
        "bins = [0, 12, 18, 35, 60, 120]  # exemples de tranches d'âge : enfant, ado, adulte jeune, adulte, senior\n",
        "labels = ['Child', 'Teen', 'Young Adult', 'Adult', 'Senior']\n",
        "\n",
        "titanic_data['AgeGroup'] = pd.cut(titanic_data['Age'], bins=bins, labels=labels, right=False)\n",
        "\n",
        "# 2. Appliquer le one-hot encoding sur ces groupes d'âge\n",
        "agegroup_dummies = pd.get_dummies(titanic_data['AgeGroup'], prefix='AgeGroup')\n",
        "\n",
        "# 3. Intégrer ces colonnes dans le DataFrame principal\n",
        "titanic_data = pd.concat([titanic_data, agegroup_dummies], axis=1)\n",
        "\n",
        "# Vérifier le résultat\n",
        "print(titanic_data[['Age', 'AgeGroup'] + list(agegroup_dummies.columns)].head())\n"
      ],
      "metadata": {
        "colab": {
          "base_uri": "https://localhost:8080/"
        },
        "id": "rlMTxK5cdXGM",
        "outputId": "ce89c03d-9251-4f84-84e0-a60b7ff286c8"
      },
      "execution_count": 56,
      "outputs": [
        {
          "output_type": "stream",
          "name": "stdout",
          "text": [
            "         Age     AgeGroup  AgeGroup_Child  AgeGroup_Teen  \\\n",
            "0  22.000000  Young Adult           False          False   \n",
            "2  26.000000  Young Adult           False          False   \n",
            "3  35.000000        Adult           False          False   \n",
            "4  35.000000        Adult           False          False   \n",
            "5  29.699118  Young Adult           False          False   \n",
            "\n",
            "   AgeGroup_Young Adult  AgeGroup_Adult  AgeGroup_Senior  \n",
            "0                  True           False            False  \n",
            "2                  True           False            False  \n",
            "3                 False            True            False  \n",
            "4                 False            True            False  \n",
            "5                  True           False            False  \n"
          ]
        }
      ]
    }
  ]
}