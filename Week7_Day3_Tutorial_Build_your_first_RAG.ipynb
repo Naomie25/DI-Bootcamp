{
  "nbformat": 4,
  "nbformat_minor": 0,
  "metadata": {
    "colab": {
      "provenance": [],
      "gpuType": "T4",
      "authorship_tag": "ABX9TyOHgXgXWNfaFmdSc48pXz9b",
      "include_colab_link": true
    },
    "kernelspec": {
      "name": "python3",
      "display_name": "Python 3"
    },
    "language_info": {
      "name": "python"
    },
    "accelerator": "GPU"
  },
  "cells": [
    {
      "cell_type": "markdown",
      "metadata": {
        "id": "view-in-github",
        "colab_type": "text"
      },
      "source": [
        "<a href=\"https://colab.research.google.com/github/Naomie25/DI-Bootcamp/blob/main/Week7_Day3_Tutorial_Build_your_first_RAG.ipynb\" target=\"_parent\"><img src=\"https://colab.research.google.com/assets/colab-badge.svg\" alt=\"Open In Colab\"/></a>"
      ]
    },
    {
      "cell_type": "code",
      "execution_count": null,
      "metadata": {
        "colab": {
          "base_uri": "https://localhost:8080/"
        },
        "id": "dNoRmU-YVOJA",
        "outputId": "3e2fede7-f075-45ce-e582-55ce39a7a4dd"
      },
      "outputs": [
        {
          "output_type": "stream",
          "name": "stdout",
          "text": [
            ">>> Installing ollama to /usr/local\n",
            ">>> Downloading Linux amd64 bundle\n",
            "######################################################################## 100.0%\n",
            ">>> Creating ollama user...\n",
            ">>> Adding ollama user to video group...\n",
            ">>> Adding current user to ollama group...\n",
            ">>> Creating ollama systemd service...\n",
            "\u001b[1m\u001b[31mWARNING:\u001b[m systemd is not running\n",
            "\u001b[1m\u001b[31mWARNING:\u001b[m Unable to detect NVIDIA/AMD GPU. Install lspci or lshw to automatically detect and install GPU dependencies.\n",
            ">>> The Ollama API is now available at 127.0.0.1:11434.\n",
            ">>> Install complete. Run \"ollama\" from the command line.\n",
            "nohup: appending output to 'nohup.out'\n",
            "\u001b[?2026h\u001b[?25l\u001b[1G\u001b[?25h\u001b[?2026l\u001b[?2026h\u001b[?25l\u001b[1G\u001b[?25h\u001b[?2026l\u001b[?2026h\u001b[?25l\u001b[1G\u001b[?25h\u001b[?2026l\u001b[?2026h\u001b[?25l\u001b[1G\u001b[?25h\u001b[?2026l\u001b[?2026h\u001b[?25l\u001b[1G\u001b[?25h\u001b[?2026l\u001b[?2026h\u001b[?25l\u001b[1G\u001b[?25h\u001b[?2026l\u001b[?2026h\u001b[?25l\u001b[1G\u001b[?25h\u001b[?2026l\u001b[?2026h\u001b[?25l\u001b[1G\u001b[?25h\u001b[?2026l\u001b[?2026h\u001b[?25l\u001b[1G\u001b[?25h\u001b[?2026l\u001b[?2026h\u001b[?25l\u001b[1G\u001b[?25h\u001b[?2026l\u001b[?2026h\u001b[?25l\u001b[1G\u001b[?25h\u001b[?2026l\u001b[?2026h\u001b[?25l\u001b[1G\u001b[?25h\u001b[?2026l\u001b[?2026h\u001b[?25l\u001b[1G\u001b[?25h\u001b[?2026l\u001b[?2026h\u001b[?25l\u001b[1G\u001b[?25h\u001b[?2026l\u001b[?2026h\u001b[?25l\u001b[1G\u001b[?25h\u001b[?2026l\u001b[?2026h\u001b[?25l\u001b[1G\u001b[?25h\u001b[?2026l\u001b[?2026h\u001b[?25l\u001b[1G\u001b[?25h\u001b[?2026l\u001b[?2026h\u001b[?25l\u001b[1G\u001b[?25h\u001b[?2026l\u001b[?2026h\u001b[?25l\u001b[A\u001b[1G\u001b[?25h\u001b[?2026l\u001b[?2026h\u001b[?25l\u001b[A\u001b[1G\u001b[?25h\u001b[?2026l\u001b[?2026h\u001b[?25l\u001b[A\u001b[1G\u001b[?25h\u001b[?2026l\u001b[?2026h\u001b[?25l\u001b[A\u001b[1G\u001b[?25h\u001b[?2026l\u001b[?2026h\u001b[?25l\u001b[A\u001b[1G\u001b[?25h\u001b[?2026l\u001b[?2026h\u001b[?25l\u001b[A\u001b[1G\u001b[?25h\u001b[?2026l\u001b[?2026h\u001b[?25l\u001b[A\u001b[1G\u001b[?25h\u001b[?2026l\u001b[?2026h\u001b[?25l\u001b[A\u001b[1G\u001b[?25h\u001b[?2026l\u001b[?2026h\u001b[?25l\u001b[A\u001b[1G\u001b[?25h\u001b[?2026l\u001b[?2026h\u001b[?25l\u001b[A\u001b[1G\u001b[?25h\u001b[?2026l\u001b[?2026h\u001b[?25l\u001b[A\u001b[1G\u001b[?25h\u001b[?2026l\u001b[?2026h\u001b[?25l\u001b[A\u001b[1G\u001b[?25h\u001b[?2026l\u001b[?2026h\u001b[?25l\u001b[A\u001b[1G\u001b[?25h\u001b[?2026l\u001b[?2026h\u001b[?25l\u001b[A\u001b[1G\u001b[?25h\u001b[?2026l\u001b[?2026h\u001b[?25l\u001b[A\u001b[1G\u001b[?25h\u001b[?2026l\u001b[?2026h\u001b[?25l\u001b[A\u001b[1G\u001b[?25h\u001b[?2026l\u001b[?2026h\u001b[?25l\u001b[A\u001b[1G\u001b[?25h\u001b[?2026l\u001b[?2026h\u001b[?25l\u001b[A\u001b[1G\u001b[?25h\u001b[?2026l\u001b[?2026h\u001b[?25l\u001b[A\u001b[1G\u001b[?25h\u001b[?2026l\u001b[?2026h\u001b[?25l\u001b[A\u001b[1G\u001b[?25h\u001b[?2026l\u001b[?2026h\u001b[?25l\u001b[A\u001b[1G\u001b[?25h\u001b[?2026l\u001b[?2026h\u001b[?25l\u001b[A\u001b[1G\u001b[?25h\u001b[?2026l\u001b[?2026h\u001b[?25l\u001b[A\u001b[1G\u001b[?25h\u001b[?2026l\u001b[?2026h\u001b[?25l\u001b[A\u001b[1G\u001b[?25h\u001b[?2026l\u001b[?2026h\u001b[?25l\u001b[A\u001b[1G\u001b[?25h\u001b[?2026l\u001b[?2026h\u001b[?25l\u001b[A\u001b[1G\u001b[?25h\u001b[?2026l\u001b[?2026h\u001b[?25l\u001b[A\u001b[1G\u001b[?25h\u001b[?2026l\u001b[?2026h\u001b[?25l\u001b[A\u001b[1G\u001b[?25h\u001b[?2026l\u001b[?2026h\u001b[?25l\u001b[A\u001b[1G\u001b[?25h\u001b[?2026l\u001b[?2026h\u001b[?25l\u001b[A\u001b[1G\u001b[?25h\u001b[?2026l\u001b[?2026h\u001b[?25l\u001b[A\u001b[1G\u001b[?25h\u001b[?2026l\u001b[?2026h\u001b[?25l\u001b[A\u001b[1G\u001b[?25h\u001b[?2026l\u001b[?2026h\u001b[?25l\u001b[A\u001b[1G\u001b[?25h\u001b[?2026l\u001b[?2026h\u001b[?25l\u001b[A\u001b[1G\u001b[?25h\u001b[?2026l\u001b[?2026h\u001b[?25l\u001b[A\u001b[A\u001b[1G\u001b[?25h\u001b[?2026l\u001b[?2026h\u001b[?25l\u001b[A\u001b[A\u001b[1G\u001b[?25h\u001b[?2026l\u001b[?2026h\u001b[?25l\u001b[A\u001b[A\u001b[1G\u001b[?25h\u001b[?2026l\u001b[?2026h\u001b[?25l\u001b[A\u001b[A\u001b[1G\u001b[?25h\u001b[?2026l\u001b[?2026h\u001b[?25l\u001b[A\u001b[A\u001b[1G\u001b[?25h\u001b[?2026l\u001b[?2026h\u001b[?25l\u001b[A\u001b[A\u001b[1G\u001b[?25h\u001b[?2026l\u001b[?2026h\u001b[?25l\u001b[A\u001b[A\u001b[A\u001b[1G\u001b[?25h\u001b[?2026l\u001b[?2026h\u001b[?25l\u001b[A\u001b[A\u001b[A\u001b[1G\u001b[?25h\u001b[?2026l\n",
            "\u001b[?2026h\u001b[?25l\u001b[1G\u001b[?25h\u001b[?2026l\u001b[?2026h\u001b[?25l\u001b[1G\u001b[?25h\u001b[?2026l\u001b[?2026h\u001b[?25l\u001b[1G\u001b[?25h\u001b[?2026l\u001b[?2026h\u001b[?25l\u001b[1G\u001b[?25h\u001b[?2026l\u001b[?2026h\u001b[?25l\u001b[1G\u001b[?25h\u001b[?2026l\u001b[?2026h\u001b[?25l\u001b[1G\u001b[?25h\u001b[?2026l\u001b[?2026h\u001b[?25l\u001b[1G\u001b[?25h\u001b[?2026l\u001b[?2026h\u001b[?25l\u001b[1G\u001b[?25h\u001b[?2026l\u001b[?2026h\u001b[?25l\u001b[1G\u001b[?25h\u001b[?2026l\u001b[?2026h\u001b[?25l\u001b[1G\u001b[?25h\u001b[?2026l\u001b[?2026h\u001b[?25l\u001b[1G\u001b[?25h\u001b[?2026l\u001b[?2026h\u001b[?25l\u001b[1G\u001b[?25h\u001b[?2026l\u001b[?2026h\u001b[?25l\u001b[A\u001b[1G\u001b[?25h\u001b[?2026l\u001b[?2026h\u001b[?25l\u001b[A\u001b[1G\u001b[?25h\u001b[?2026l\u001b[?2026h\u001b[?25l\u001b[A\u001b[1G\u001b[?25h\u001b[?2026l\u001b[?2026h\u001b[?25l\u001b[A\u001b[1G\u001b[?25h\u001b[?2026l\u001b[?2026h\u001b[?25l\u001b[A\u001b[1G\u001b[?25h\u001b[?2026l\u001b[?2026h\u001b[?25l\u001b[A\u001b[1G\u001b[?25h\u001b[?2026l\u001b[?2026h\u001b[?25l\u001b[A\u001b[1G\u001b[?25h\u001b[?2026l\u001b[?2026h\u001b[?25l\u001b[A\u001b[1G\u001b[?25h\u001b[?2026l\u001b[?2026h\u001b[?25l\u001b[A\u001b[1G\u001b[?25h\u001b[?2026l\u001b[?2026h\u001b[?25l\u001b[A\u001b[1G\u001b[?25h\u001b[?2026l\u001b[?2026h\u001b[?25l\u001b[A\u001b[1G\u001b[?25h\u001b[?2026l\u001b[?2026h\u001b[?25l\u001b[A\u001b[1G\u001b[?25h\u001b[?2026l\u001b[?2026h\u001b[?25l\u001b[A\u001b[1G\u001b[?25h\u001b[?2026l\u001b[?2026h\u001b[?25l\u001b[A\u001b[1G\u001b[?25h\u001b[?2026l\u001b[?2026h\u001b[?25l\u001b[A\u001b[1G\u001b[?25h\u001b[?2026l\u001b[?2026h\u001b[?25l\u001b[A\u001b[1G\u001b[?25h\u001b[?2026l\u001b[?2026h\u001b[?25l\u001b[A\u001b[1G\u001b[?25h\u001b[?2026l\u001b[?2026h\u001b[?25l\u001b[A\u001b[1G\u001b[?25h\u001b[?2026l\u001b[?2026h\u001b[?25l\u001b[A\u001b[1G\u001b[?25h\u001b[?2026l\u001b[?2026h\u001b[?25l\u001b[A\u001b[1G\u001b[?25h\u001b[?2026l\u001b[?2026h\u001b[?25l\u001b[A\u001b[1G\u001b[?25h\u001b[?2026l\u001b[?2026h\u001b[?25l\u001b[A\u001b[1G\u001b[?25h\u001b[?2026l\u001b[?2026h\u001b[?25l\u001b[A\u001b[1G\u001b[?25h\u001b[?2026l\u001b[?2026h\u001b[?25l\u001b[A\u001b[1G\u001b[?25h\u001b[?2026l\u001b[?2026h\u001b[?25l\u001b[A\u001b[1G\u001b[?25h\u001b[?2026l\u001b[?2026h\u001b[?25l\u001b[A\u001b[1G\u001b[?25h\u001b[?2026l\u001b[?2026h\u001b[?25l\u001b[A\u001b[1G\u001b[?25h\u001b[?2026l\u001b[?2026h\u001b[?25l\u001b[A\u001b[1G\u001b[?25h\u001b[?2026l\u001b[?2026h\u001b[?25l\u001b[A\u001b[1G\u001b[?25h\u001b[?2026l\u001b[?2026h\u001b[?25l\u001b[A\u001b[1G\u001b[?25h\u001b[?2026l\u001b[?2026h\u001b[?25l\u001b[A\u001b[1G\u001b[?25h\u001b[?2026l\u001b[?2026h\u001b[?25l\u001b[A\u001b[1G\u001b[?25h\u001b[?2026l\u001b[?2026h\u001b[?25l\u001b[A\u001b[1G\u001b[?25h\u001b[?2026l\u001b[?2026h\u001b[?25l\u001b[A\u001b[1G\u001b[?25h\u001b[?2026l\u001b[?2026h\u001b[?25l\u001b[A\u001b[1G\u001b[?25h\u001b[?2026l\u001b[?2026h\u001b[?25l\u001b[A\u001b[1G\u001b[?25h\u001b[?2026l\u001b[?2026h\u001b[?25l\u001b[A\u001b[1G\u001b[?25h\u001b[?2026l\u001b[?2026h\u001b[?25l\u001b[A\u001b[1G\u001b[?25h\u001b[?2026l\u001b[?2026h\u001b[?25l\u001b[A\u001b[1G\u001b[?25h\u001b[?2026l\u001b[?2026h\u001b[?25l\u001b[A\u001b[1G\u001b[?25h\u001b[?2026l\u001b[?2026h\u001b[?25l\u001b[A\u001b[1G\u001b[?25h\u001b[?2026l\u001b[?2026h\u001b[?25l\u001b[A\u001b[1G\u001b[?25h\u001b[?2026l\u001b[?2026h\u001b[?25l\u001b[A\u001b[1G\u001b[?25h\u001b[?2026l\u001b[?2026h\u001b[?25l\u001b[A\u001b[1G\u001b[?25h\u001b[?2026l\u001b[?2026h\u001b[?25l\u001b[A\u001b[1G\u001b[?25h\u001b[?2026l\u001b[?2026h\u001b[?25l\u001b[A\u001b[1G\u001b[?25h\u001b[?2026l\u001b[?2026h\u001b[?25l\u001b[A\u001b[1G\u001b[?25h\u001b[?2026l\u001b[?2026h\u001b[?25l\u001b[A\u001b[1G\u001b[?25h\u001b[?2026l\u001b[?2026h\u001b[?25l\u001b[A\u001b[1G\u001b[?25h\u001b[?2026l\u001b[?2026h\u001b[?25l\u001b[A\u001b[1G\u001b[?25h\u001b[?2026l\u001b[?2026h\u001b[?25l\u001b[A\u001b[1G\u001b[?25h\u001b[?2026l\u001b[?2026h\u001b[?25l\u001b[A\u001b[1G\u001b[?25h\u001b[?2026l\u001b[?2026h\u001b[?25l\u001b[A\u001b[1G\u001b[?25h\u001b[?2026l\u001b[?2026h\u001b[?25l\u001b[A\u001b[1G\u001b[?25h\u001b[?2026l\u001b[?2026h\u001b[?25l\u001b[A\u001b[1G\u001b[?25h\u001b[?2026l\u001b[?2026h\u001b[?25l\u001b[A\u001b[1G\u001b[?25h\u001b[?2026l\u001b[?2026h\u001b[?25l\u001b[A\u001b[1G\u001b[?25h\u001b[?2026l\u001b[?2026h\u001b[?25l\u001b[A\u001b[1G\u001b[?25h\u001b[?2026l\u001b[?2026h\u001b[?25l\u001b[A\u001b[1G\u001b[?25h\u001b[?2026l\u001b[?2026h\u001b[?25l\u001b[A\u001b[1G\u001b[?25h\u001b[?2026l\u001b[?2026h\u001b[?25l\u001b[A\u001b[1G\u001b[?25h\u001b[?2026l\u001b[?2026h\u001b[?25l\u001b[A\u001b[1G\u001b[?25h\u001b[?2026l\u001b[?2026h\u001b[?25l\u001b[A\u001b[1G\u001b[?25h\u001b[?2026l\u001b[?2026h\u001b[?25l\u001b[A\u001b[1G\u001b[?25h\u001b[?2026l\u001b[?2026h\u001b[?25l\u001b[A\u001b[1G\u001b[?25h\u001b[?2026l\u001b[?2026h\u001b[?25l\u001b[A\u001b[1G\u001b[?25h\u001b[?2026l\u001b[?2026h\u001b[?25l\u001b[A\u001b[1G\u001b[?25h\u001b[?2026l\u001b[?2026h\u001b[?25l\u001b[A\u001b[1G\u001b[?25h\u001b[?2026l\u001b[?2026h\u001b[?25l\u001b[A\u001b[1G\u001b[?25h\u001b[?2026l\u001b[?2026h\u001b[?25l\u001b[A\u001b[A\u001b[1G\u001b[?25h\u001b[?2026l\u001b[?2026h\u001b[?25l\u001b[A\u001b[A\u001b[1G\u001b[?25h\u001b[?2026l\u001b[?2026h\u001b[?25l\u001b[A\u001b[A\u001b[1G\u001b[?25h\u001b[?2026l\u001b[?2026h\u001b[?25l\u001b[A\u001b[A\u001b[1G\u001b[?25h\u001b[?2026l\u001b[?2026h\u001b[?25l\u001b[A\u001b[A\u001b[1G\u001b[?25h\u001b[?2026l\u001b[?2026h\u001b[?25l\u001b[A\u001b[A\u001b[1G\u001b[?25h\u001b[?2026l\u001b[?2026h\u001b[?25l\u001b[A\u001b[A\u001b[1G\u001b[?25h\u001b[?2026l\u001b[?2026h\u001b[?25l\u001b[A\u001b[A\u001b[1G\u001b[?25h\u001b[?2026l\u001b[?2026h\u001b[?25l\u001b[A\u001b[A\u001b[1G\u001b[?25h\u001b[?2026l\u001b[?2026h\u001b[?25l\u001b[A\u001b[A\u001b[1G\u001b[?25h\u001b[?2026l\u001b[?2026h\u001b[?25l\u001b[A\u001b[A\u001b[1G\u001b[?25h\u001b[?2026l\u001b[?2026h\u001b[?25l\u001b[A\u001b[A\u001b[1G\u001b[?25h\u001b[?2026l\u001b[?2026h\u001b[?25l\u001b[A\u001b[A\u001b[1G\u001b[?25h\u001b[?2026l\u001b[?2026h\u001b[?25l\u001b[A\u001b[A\u001b[1G\u001b[?25h\u001b[?2026l\u001b[?2026h\u001b[?25l\u001b[A\u001b[A\u001b[A\u001b[1G\u001b[?25h\u001b[?2026l\u001b[?2026h\u001b[?25l\u001b[A\u001b[A\u001b[A\u001b[1G\u001b[?25h\u001b[?2026l\u001b[?2026h\u001b[?25l\u001b[A\u001b[A\u001b[A\u001b[1G\u001b[?25h\u001b[?2026l\u001b[?2026h\u001b[?25l\u001b[A\u001b[A\u001b[A\u001b[1G\u001b[?25h\u001b[?2026l\u001b[?2026h\u001b[?25l\u001b[A\u001b[A\u001b[A\u001b[1G\u001b[?25h\u001b[?2026l\u001b[?2026h\u001b[?25l\u001b[A\u001b[A\u001b[A\u001b[1G\u001b[?25h\u001b[?2026l\u001b[?2026h\u001b[?25l\u001b[A\u001b[A\u001b[A\u001b[1G\u001b[?25h\u001b[?2026l\u001b[?2026h\u001b[?25l\u001b[A\u001b[A\u001b[A\u001b[1G\u001b[?25h\u001b[?2026l\u001b[?2026h\u001b[?25l\u001b[A\u001b[A\u001b[A\u001b[1G\u001b[?25h\u001b[?2026l\u001b[?2026h\u001b[?25l\u001b[A\u001b[A\u001b[A\u001b[1G\u001b[?25h\u001b[?2026l\u001b[?2026h\u001b[?25l\u001b[A\u001b[A\u001b[A\u001b[1G\u001b[?25h\u001b[?2026l\u001b[?2026h\u001b[?25l\u001b[A\u001b[A\u001b[A\u001b[1G\u001b[?25h\u001b[?2026l\u001b[?2026h\u001b[?25l\u001b[A\u001b[A\u001b[A\u001b[1G\u001b[?25h\u001b[?2026l\u001b[?2026h\u001b[?25l\u001b[A\u001b[A\u001b[A\u001b[1G\u001b[?25h\u001b[?2026l\u001b[?2026h\u001b[?25l\u001b[A\u001b[A\u001b[A\u001b[1G\u001b[?25h\u001b[?2026l\u001b[?2026h\u001b[?25l\u001b[A\u001b[A\u001b[A\u001b[A\u001b[A\u001b[1G\u001b[?25h\u001b[?2026l\u001b[?2026h\u001b[?25l\u001b[A\u001b[A\u001b[A\u001b[A\u001b[A\u001b[1G\u001b[?25h\u001b[?2026l\u001b[?2026h\u001b[?25l\u001b[A\u001b[A\u001b[A\u001b[A\u001b[A\u001b[1G\u001b[?25h\u001b[?2026l\u001b[?2026h\u001b[?25l\u001b[A\u001b[A\u001b[A\u001b[A\u001b[A\u001b[1G\u001b[?25h\u001b[?2026l\u001b[?2026h\u001b[?25l\u001b[A\u001b[A\u001b[A\u001b[A\u001b[A\u001b[1G\u001b[?25h\u001b[?2026l\u001b[?2026h\u001b[?25l\u001b[A\u001b[A\u001b[A\u001b[A\u001b[A\u001b[1G\u001b[?25h\u001b[?2026l\u001b[?2026h\u001b[?25l\u001b[A\u001b[A\u001b[A\u001b[A\u001b[A\u001b[1G\u001b[?25h\u001b[?2026l\u001b[?2026h\u001b[?25l\u001b[A\u001b[A\u001b[A\u001b[A\u001b[A\u001b[1G\u001b[?25h\u001b[?2026l\u001b[?2026h\u001b[?25l\u001b[A\u001b[A\u001b[A\u001b[A\u001b[A\u001b[1G\u001b[?25h\u001b[?2026l\u001b[?2026h\u001b[?25l\u001b[A\u001b[A\u001b[A\u001b[A\u001b[A\u001b[1G\u001b[?25h\u001b[?2026l\u001b[?2026h\u001b[?25l\u001b[A\u001b[A\u001b[A\u001b[A\u001b[A\u001b[1G\u001b[?25h\u001b[?2026l\u001b[?2026h\u001b[?25l\u001b[A\u001b[A\u001b[A\u001b[A\u001b[A\u001b[1G\u001b[?25h\u001b[?2026l\u001b[?2026h\u001b[?25l\u001b[A\u001b[A\u001b[A\u001b[A\u001b[A\u001b[1G\u001b[?25h\u001b[?2026l\u001b[?2026h\u001b[?25l\u001b[A\u001b[A\u001b[A\u001b[A\u001b[A\u001b[1G\u001b[?25h\u001b[?2026l\u001b[?2026h\u001b[?25l\u001b[A\u001b[A\u001b[A\u001b[A\u001b[A\u001b[1G\u001b[?25h\u001b[?2026l\u001b[?2026h\u001b[?25l\u001b[A\u001b[A\u001b[A\u001b[A\u001b[A\u001b[1G\u001b[?25h\u001b[?2026l\u001b[?2026h\u001b[?25l\u001b[A\u001b[A\u001b[A\u001b[A\u001b[A\u001b[1G\u001b[?25h\u001b[?2026l\u001b[?2026h\u001b[?25l\u001b[A\u001b[A\u001b[A\u001b[A\u001b[A\u001b[1G\u001b[?25h\u001b[?2026l\u001b[?2026h\u001b[?25l\u001b[A\u001b[A\u001b[A\u001b[A\u001b[A\u001b[1G\u001b[?25h\u001b[?2026l\u001b[?2026h\u001b[?25l\u001b[A\u001b[A\u001b[A\u001b[A\u001b[A\u001b[1G\u001b[?25h\u001b[?2026l\u001b[?2026h\u001b[?25l\u001b[A\u001b[A\u001b[A\u001b[A\u001b[A\u001b[1G\u001b[?25h\u001b[?2026l\u001b[?2026h\u001b[?25l\u001b[A\u001b[A\u001b[A\u001b[A\u001b[A\u001b[1G\u001b[?25h\u001b[?2026l\u001b[?2026h\u001b[?25l\u001b[A\u001b[A\u001b[A\u001b[A\u001b[A\u001b[1G\u001b[?25h\u001b[?2026l\u001b[?2026h\u001b[?25l\u001b[A\u001b[A\u001b[A\u001b[A\u001b[A\u001b[1G\u001b[?25h\u001b[?2026l\u001b[?2026h\u001b[?25l\u001b[A\u001b[A\u001b[A\u001b[A\u001b[A\u001b[1G\u001b[?25h\u001b[?2026l\u001b[?2026h\u001b[?25l\u001b[A\u001b[A\u001b[A\u001b[A\u001b[A\u001b[1G\u001b[?25h\u001b[?2026l\u001b[?2026h\u001b[?25l\u001b[A\u001b[A\u001b[A\u001b[A\u001b[A\u001b[1G\u001b[?25h\u001b[?2026l\u001b[?2026h\u001b[?25l\u001b[A\u001b[A\u001b[A\u001b[A\u001b[A\u001b[1G\u001b[?25h\u001b[?2026l\u001b[?2026h\u001b[?25l\u001b[A\u001b[A\u001b[A\u001b[A\u001b[A\u001b[1G\u001b[?25h\u001b[?2026l\n",
            "Collecting ollama\n",
            "  Downloading ollama-0.5.1-py3-none-any.whl.metadata (4.3 kB)\n",
            "Requirement already satisfied: httpx>=0.27 in /usr/local/lib/python3.11/dist-packages (from ollama) (0.28.1)\n",
            "Requirement already satisfied: pydantic>=2.9 in /usr/local/lib/python3.11/dist-packages (from ollama) (2.11.7)\n",
            "Requirement already satisfied: anyio in /usr/local/lib/python3.11/dist-packages (from httpx>=0.27->ollama) (4.9.0)\n",
            "Requirement already satisfied: certifi in /usr/local/lib/python3.11/dist-packages (from httpx>=0.27->ollama) (2025.6.15)\n",
            "Requirement already satisfied: httpcore==1.* in /usr/local/lib/python3.11/dist-packages (from httpx>=0.27->ollama) (1.0.9)\n",
            "Requirement already satisfied: idna in /usr/local/lib/python3.11/dist-packages (from httpx>=0.27->ollama) (3.10)\n",
            "Requirement already satisfied: h11>=0.16 in /usr/local/lib/python3.11/dist-packages (from httpcore==1.*->httpx>=0.27->ollama) (0.16.0)\n",
            "Requirement already satisfied: annotated-types>=0.6.0 in /usr/local/lib/python3.11/dist-packages (from pydantic>=2.9->ollama) (0.7.0)\n",
            "Requirement already satisfied: pydantic-core==2.33.2 in /usr/local/lib/python3.11/dist-packages (from pydantic>=2.9->ollama) (2.33.2)\n",
            "Requirement already satisfied: typing-extensions>=4.12.2 in /usr/local/lib/python3.11/dist-packages (from pydantic>=2.9->ollama) (4.14.1)\n",
            "Requirement already satisfied: typing-inspection>=0.4.0 in /usr/local/lib/python3.11/dist-packages (from pydantic>=2.9->ollama) (0.4.1)\n",
            "Requirement already satisfied: sniffio>=1.1 in /usr/local/lib/python3.11/dist-packages (from anyio->httpx>=0.27->ollama) (1.3.1)\n",
            "Downloading ollama-0.5.1-py3-none-any.whl (13 kB)\n",
            "Installing collected packages: ollama\n",
            "Successfully installed ollama-0.5.1\n",
            "Requirement already satisfied: ollama in /usr/local/lib/python3.11/dist-packages (0.5.1)\n",
            "Requirement already satisfied: httpx>=0.27 in /usr/local/lib/python3.11/dist-packages (from ollama) (0.28.1)\n",
            "Requirement already satisfied: pydantic>=2.9 in /usr/local/lib/python3.11/dist-packages (from ollama) (2.11.7)\n",
            "Requirement already satisfied: anyio in /usr/local/lib/python3.11/dist-packages (from httpx>=0.27->ollama) (4.9.0)\n",
            "Requirement already satisfied: certifi in /usr/local/lib/python3.11/dist-packages (from httpx>=0.27->ollama) (2025.6.15)\n",
            "Requirement already satisfied: httpcore==1.* in /usr/local/lib/python3.11/dist-packages (from httpx>=0.27->ollama) (1.0.9)\n",
            "Requirement already satisfied: idna in /usr/local/lib/python3.11/dist-packages (from httpx>=0.27->ollama) (3.10)\n",
            "Requirement already satisfied: h11>=0.16 in /usr/local/lib/python3.11/dist-packages (from httpcore==1.*->httpx>=0.27->ollama) (0.16.0)\n",
            "Requirement already satisfied: annotated-types>=0.6.0 in /usr/local/lib/python3.11/dist-packages (from pydantic>=2.9->ollama) (0.7.0)\n",
            "Requirement already satisfied: pydantic-core==2.33.2 in /usr/local/lib/python3.11/dist-packages (from pydantic>=2.9->ollama) (2.33.2)\n",
            "Requirement already satisfied: typing-extensions>=4.12.2 in /usr/local/lib/python3.11/dist-packages (from pydantic>=2.9->ollama) (4.14.1)\n",
            "Requirement already satisfied: typing-inspection>=0.4.0 in /usr/local/lib/python3.11/dist-packages (from pydantic>=2.9->ollama) (0.4.1)\n",
            "Requirement already satisfied: sniffio>=1.1 in /usr/local/lib/python3.11/dist-packages (from anyio->httpx>=0.27->ollama) (1.3.1)\n"
          ]
        }
      ],
      "source": [
        "!curl -fsSL https://ollama.com/install.sh | sh\n",
        "!nohup ollama serve &                                 # runs in background\n",
        "!ollama pull hf.co/CompendiumLabs/bge-base-en-v1.5-gguf\n",
        "!ollama pull hf.co/bartowski/Llama-3.2-1B-Instruct-GGUF\n",
        "!pip install ollama\n",
        "!pip install ollama"
      ]
    },
    {
      "cell_type": "code",
      "source": [
        "pip install ollama"
      ],
      "metadata": {
        "colab": {
          "base_uri": "https://localhost:8080/"
        },
        "id": "RlBtMbDmW0Wn",
        "outputId": "87c74975-cd02-4b0d-ea37-8328d305ab5f"
      },
      "execution_count": null,
      "outputs": [
        {
          "output_type": "stream",
          "name": "stdout",
          "text": [
            "Requirement already satisfied: ollama in /usr/local/lib/python3.11/dist-packages (0.5.1)\n",
            "Requirement already satisfied: httpx>=0.27 in /usr/local/lib/python3.11/dist-packages (from ollama) (0.28.1)\n",
            "Requirement already satisfied: pydantic>=2.9 in /usr/local/lib/python3.11/dist-packages (from ollama) (2.11.7)\n",
            "Requirement already satisfied: anyio in /usr/local/lib/python3.11/dist-packages (from httpx>=0.27->ollama) (4.9.0)\n",
            "Requirement already satisfied: certifi in /usr/local/lib/python3.11/dist-packages (from httpx>=0.27->ollama) (2025.6.15)\n",
            "Requirement already satisfied: httpcore==1.* in /usr/local/lib/python3.11/dist-packages (from httpx>=0.27->ollama) (1.0.9)\n",
            "Requirement already satisfied: idna in /usr/local/lib/python3.11/dist-packages (from httpx>=0.27->ollama) (3.10)\n",
            "Requirement already satisfied: h11>=0.16 in /usr/local/lib/python3.11/dist-packages (from httpcore==1.*->httpx>=0.27->ollama) (0.16.0)\n",
            "Requirement already satisfied: annotated-types>=0.6.0 in /usr/local/lib/python3.11/dist-packages (from pydantic>=2.9->ollama) (0.7.0)\n",
            "Requirement already satisfied: pydantic-core==2.33.2 in /usr/local/lib/python3.11/dist-packages (from pydantic>=2.9->ollama) (2.33.2)\n",
            "Requirement already satisfied: typing-extensions>=4.12.2 in /usr/local/lib/python3.11/dist-packages (from pydantic>=2.9->ollama) (4.14.1)\n",
            "Requirement already satisfied: typing-inspection>=0.4.0 in /usr/local/lib/python3.11/dist-packages (from pydantic>=2.9->ollama) (0.4.1)\n",
            "Requirement already satisfied: sniffio>=1.1 in /usr/local/lib/python3.11/dist-packages (from anyio->httpx>=0.27->ollama) (1.3.1)\n"
          ]
        }
      ]
    },
    {
      "cell_type": "code",
      "source": [
        "dataset = []\n",
        "with open('/content/cat-facts.txt', 'r') as file:\n",
        "  dataset = file.readlines()\n",
        "  print(f'Loaded {len(dataset)} entries')"
      ],
      "metadata": {
        "colab": {
          "base_uri": "https://localhost:8080/"
        },
        "id": "VXPqT4WBW2FJ",
        "outputId": "4610d846-1575-46a3-fdd4-f75bcfdfcf2a"
      },
      "execution_count": null,
      "outputs": [
        {
          "output_type": "stream",
          "name": "stdout",
          "text": [
            "Loaded 319 entries\n"
          ]
        }
      ]
    },
    {
      "cell_type": "code",
      "source": [
        "import ollama\n",
        "\n",
        "EMBEDDING_MODEL = 'hf.co/CompendiumLabs/bge-base-en-v1.5-gguf'\n",
        "LANGUAGE_MODEL = 'hf.co/bartowski/Llama-3.2-1B-Instruct-GGUF'\n",
        "\n",
        "# Each element in the VECTOR_DB will be a tuple (chunk, embedding)\n",
        "# The embedding is a list of floats, for example: [0.1, 0.04, -0.34, 0.21, ...]\n",
        "VECTOR_DB = []\n",
        "\n",
        "def add_chunk_to_database(chunk):\n",
        "  embedding = ollama.embed(model=EMBEDDING_MODEL, input=chunk)['embeddings'][0]\n",
        "  VECTOR_DB.append((chunk, embedding))\n"
      ],
      "metadata": {
        "id": "PnrWIFvqXtlZ"
      },
      "execution_count": 4,
      "outputs": []
    },
    {
      "cell_type": "code",
      "source": [
        "for i, chunk in enumerate(dataset):\n",
        "  add_chunk_to_database(chunk)\n",
        "  print(f'Added chunk {i+1}/{len(dataset)} to the database')"
      ],
      "metadata": {
        "colab": {
          "base_uri": "https://localhost:8080/"
        },
        "id": "kp5WGjXOYKA4",
        "outputId": "d0ba71ce-bdc4-426e-de31-48445f7f615c"
      },
      "execution_count": 5,
      "outputs": [
        {
          "output_type": "stream",
          "name": "stdout",
          "text": [
            "Added chunk 1/319 to the database\n",
            "Added chunk 2/319 to the database\n",
            "Added chunk 3/319 to the database\n",
            "Added chunk 4/319 to the database\n",
            "Added chunk 5/319 to the database\n",
            "Added chunk 6/319 to the database\n",
            "Added chunk 7/319 to the database\n",
            "Added chunk 8/319 to the database\n",
            "Added chunk 9/319 to the database\n",
            "Added chunk 10/319 to the database\n",
            "Added chunk 11/319 to the database\n",
            "Added chunk 12/319 to the database\n",
            "Added chunk 13/319 to the database\n",
            "Added chunk 14/319 to the database\n",
            "Added chunk 15/319 to the database\n",
            "Added chunk 16/319 to the database\n",
            "Added chunk 17/319 to the database\n",
            "Added chunk 18/319 to the database\n",
            "Added chunk 19/319 to the database\n",
            "Added chunk 20/319 to the database\n",
            "Added chunk 21/319 to the database\n",
            "Added chunk 22/319 to the database\n",
            "Added chunk 23/319 to the database\n",
            "Added chunk 24/319 to the database\n",
            "Added chunk 25/319 to the database\n",
            "Added chunk 26/319 to the database\n",
            "Added chunk 27/319 to the database\n",
            "Added chunk 28/319 to the database\n",
            "Added chunk 29/319 to the database\n",
            "Added chunk 30/319 to the database\n",
            "Added chunk 31/319 to the database\n",
            "Added chunk 32/319 to the database\n",
            "Added chunk 33/319 to the database\n",
            "Added chunk 34/319 to the database\n",
            "Added chunk 35/319 to the database\n",
            "Added chunk 36/319 to the database\n",
            "Added chunk 37/319 to the database\n",
            "Added chunk 38/319 to the database\n",
            "Added chunk 39/319 to the database\n",
            "Added chunk 40/319 to the database\n",
            "Added chunk 41/319 to the database\n",
            "Added chunk 42/319 to the database\n",
            "Added chunk 43/319 to the database\n",
            "Added chunk 44/319 to the database\n",
            "Added chunk 45/319 to the database\n",
            "Added chunk 46/319 to the database\n",
            "Added chunk 47/319 to the database\n",
            "Added chunk 48/319 to the database\n",
            "Added chunk 49/319 to the database\n",
            "Added chunk 50/319 to the database\n",
            "Added chunk 51/319 to the database\n",
            "Added chunk 52/319 to the database\n",
            "Added chunk 53/319 to the database\n",
            "Added chunk 54/319 to the database\n",
            "Added chunk 55/319 to the database\n",
            "Added chunk 56/319 to the database\n",
            "Added chunk 57/319 to the database\n",
            "Added chunk 58/319 to the database\n",
            "Added chunk 59/319 to the database\n",
            "Added chunk 60/319 to the database\n",
            "Added chunk 61/319 to the database\n",
            "Added chunk 62/319 to the database\n",
            "Added chunk 63/319 to the database\n",
            "Added chunk 64/319 to the database\n",
            "Added chunk 65/319 to the database\n",
            "Added chunk 66/319 to the database\n",
            "Added chunk 67/319 to the database\n",
            "Added chunk 68/319 to the database\n",
            "Added chunk 69/319 to the database\n",
            "Added chunk 70/319 to the database\n",
            "Added chunk 71/319 to the database\n",
            "Added chunk 72/319 to the database\n",
            "Added chunk 73/319 to the database\n",
            "Added chunk 74/319 to the database\n",
            "Added chunk 75/319 to the database\n",
            "Added chunk 76/319 to the database\n",
            "Added chunk 77/319 to the database\n",
            "Added chunk 78/319 to the database\n",
            "Added chunk 79/319 to the database\n",
            "Added chunk 80/319 to the database\n",
            "Added chunk 81/319 to the database\n",
            "Added chunk 82/319 to the database\n",
            "Added chunk 83/319 to the database\n",
            "Added chunk 84/319 to the database\n",
            "Added chunk 85/319 to the database\n",
            "Added chunk 86/319 to the database\n",
            "Added chunk 87/319 to the database\n",
            "Added chunk 88/319 to the database\n",
            "Added chunk 89/319 to the database\n",
            "Added chunk 90/319 to the database\n",
            "Added chunk 91/319 to the database\n",
            "Added chunk 92/319 to the database\n",
            "Added chunk 93/319 to the database\n",
            "Added chunk 94/319 to the database\n",
            "Added chunk 95/319 to the database\n",
            "Added chunk 96/319 to the database\n",
            "Added chunk 97/319 to the database\n",
            "Added chunk 98/319 to the database\n",
            "Added chunk 99/319 to the database\n",
            "Added chunk 100/319 to the database\n",
            "Added chunk 101/319 to the database\n",
            "Added chunk 102/319 to the database\n",
            "Added chunk 103/319 to the database\n",
            "Added chunk 104/319 to the database\n",
            "Added chunk 105/319 to the database\n",
            "Added chunk 106/319 to the database\n",
            "Added chunk 107/319 to the database\n",
            "Added chunk 108/319 to the database\n",
            "Added chunk 109/319 to the database\n",
            "Added chunk 110/319 to the database\n",
            "Added chunk 111/319 to the database\n",
            "Added chunk 112/319 to the database\n",
            "Added chunk 113/319 to the database\n",
            "Added chunk 114/319 to the database\n",
            "Added chunk 115/319 to the database\n",
            "Added chunk 116/319 to the database\n",
            "Added chunk 117/319 to the database\n",
            "Added chunk 118/319 to the database\n",
            "Added chunk 119/319 to the database\n",
            "Added chunk 120/319 to the database\n",
            "Added chunk 121/319 to the database\n",
            "Added chunk 122/319 to the database\n",
            "Added chunk 123/319 to the database\n",
            "Added chunk 124/319 to the database\n",
            "Added chunk 125/319 to the database\n",
            "Added chunk 126/319 to the database\n",
            "Added chunk 127/319 to the database\n",
            "Added chunk 128/319 to the database\n",
            "Added chunk 129/319 to the database\n",
            "Added chunk 130/319 to the database\n",
            "Added chunk 131/319 to the database\n",
            "Added chunk 132/319 to the database\n",
            "Added chunk 133/319 to the database\n",
            "Added chunk 134/319 to the database\n",
            "Added chunk 135/319 to the database\n",
            "Added chunk 136/319 to the database\n",
            "Added chunk 137/319 to the database\n",
            "Added chunk 138/319 to the database\n",
            "Added chunk 139/319 to the database\n",
            "Added chunk 140/319 to the database\n",
            "Added chunk 141/319 to the database\n",
            "Added chunk 142/319 to the database\n",
            "Added chunk 143/319 to the database\n",
            "Added chunk 144/319 to the database\n",
            "Added chunk 145/319 to the database\n",
            "Added chunk 146/319 to the database\n",
            "Added chunk 147/319 to the database\n",
            "Added chunk 148/319 to the database\n",
            "Added chunk 149/319 to the database\n",
            "Added chunk 150/319 to the database\n",
            "Added chunk 151/319 to the database\n",
            "Added chunk 152/319 to the database\n",
            "Added chunk 153/319 to the database\n",
            "Added chunk 154/319 to the database\n",
            "Added chunk 155/319 to the database\n",
            "Added chunk 156/319 to the database\n",
            "Added chunk 157/319 to the database\n",
            "Added chunk 158/319 to the database\n",
            "Added chunk 159/319 to the database\n",
            "Added chunk 160/319 to the database\n",
            "Added chunk 161/319 to the database\n",
            "Added chunk 162/319 to the database\n",
            "Added chunk 163/319 to the database\n",
            "Added chunk 164/319 to the database\n",
            "Added chunk 165/319 to the database\n",
            "Added chunk 166/319 to the database\n",
            "Added chunk 167/319 to the database\n",
            "Added chunk 168/319 to the database\n",
            "Added chunk 169/319 to the database\n",
            "Added chunk 170/319 to the database\n",
            "Added chunk 171/319 to the database\n",
            "Added chunk 172/319 to the database\n",
            "Added chunk 173/319 to the database\n",
            "Added chunk 174/319 to the database\n",
            "Added chunk 175/319 to the database\n",
            "Added chunk 176/319 to the database\n",
            "Added chunk 177/319 to the database\n",
            "Added chunk 178/319 to the database\n",
            "Added chunk 179/319 to the database\n",
            "Added chunk 180/319 to the database\n",
            "Added chunk 181/319 to the database\n",
            "Added chunk 182/319 to the database\n",
            "Added chunk 183/319 to the database\n",
            "Added chunk 184/319 to the database\n",
            "Added chunk 185/319 to the database\n",
            "Added chunk 186/319 to the database\n",
            "Added chunk 187/319 to the database\n",
            "Added chunk 188/319 to the database\n",
            "Added chunk 189/319 to the database\n",
            "Added chunk 190/319 to the database\n",
            "Added chunk 191/319 to the database\n",
            "Added chunk 192/319 to the database\n",
            "Added chunk 193/319 to the database\n",
            "Added chunk 194/319 to the database\n",
            "Added chunk 195/319 to the database\n",
            "Added chunk 196/319 to the database\n",
            "Added chunk 197/319 to the database\n",
            "Added chunk 198/319 to the database\n",
            "Added chunk 199/319 to the database\n",
            "Added chunk 200/319 to the database\n",
            "Added chunk 201/319 to the database\n",
            "Added chunk 202/319 to the database\n",
            "Added chunk 203/319 to the database\n",
            "Added chunk 204/319 to the database\n",
            "Added chunk 205/319 to the database\n",
            "Added chunk 206/319 to the database\n",
            "Added chunk 207/319 to the database\n",
            "Added chunk 208/319 to the database\n",
            "Added chunk 209/319 to the database\n",
            "Added chunk 210/319 to the database\n",
            "Added chunk 211/319 to the database\n",
            "Added chunk 212/319 to the database\n",
            "Added chunk 213/319 to the database\n",
            "Added chunk 214/319 to the database\n",
            "Added chunk 215/319 to the database\n",
            "Added chunk 216/319 to the database\n",
            "Added chunk 217/319 to the database\n",
            "Added chunk 218/319 to the database\n",
            "Added chunk 219/319 to the database\n",
            "Added chunk 220/319 to the database\n",
            "Added chunk 221/319 to the database\n",
            "Added chunk 222/319 to the database\n",
            "Added chunk 223/319 to the database\n",
            "Added chunk 224/319 to the database\n",
            "Added chunk 225/319 to the database\n",
            "Added chunk 226/319 to the database\n",
            "Added chunk 227/319 to the database\n",
            "Added chunk 228/319 to the database\n",
            "Added chunk 229/319 to the database\n",
            "Added chunk 230/319 to the database\n",
            "Added chunk 231/319 to the database\n",
            "Added chunk 232/319 to the database\n",
            "Added chunk 233/319 to the database\n",
            "Added chunk 234/319 to the database\n",
            "Added chunk 235/319 to the database\n",
            "Added chunk 236/319 to the database\n",
            "Added chunk 237/319 to the database\n",
            "Added chunk 238/319 to the database\n",
            "Added chunk 239/319 to the database\n",
            "Added chunk 240/319 to the database\n",
            "Added chunk 241/319 to the database\n",
            "Added chunk 242/319 to the database\n",
            "Added chunk 243/319 to the database\n",
            "Added chunk 244/319 to the database\n",
            "Added chunk 245/319 to the database\n",
            "Added chunk 246/319 to the database\n",
            "Added chunk 247/319 to the database\n",
            "Added chunk 248/319 to the database\n",
            "Added chunk 249/319 to the database\n",
            "Added chunk 250/319 to the database\n",
            "Added chunk 251/319 to the database\n",
            "Added chunk 252/319 to the database\n",
            "Added chunk 253/319 to the database\n",
            "Added chunk 254/319 to the database\n",
            "Added chunk 255/319 to the database\n",
            "Added chunk 256/319 to the database\n",
            "Added chunk 257/319 to the database\n",
            "Added chunk 258/319 to the database\n",
            "Added chunk 259/319 to the database\n",
            "Added chunk 260/319 to the database\n",
            "Added chunk 261/319 to the database\n",
            "Added chunk 262/319 to the database\n",
            "Added chunk 263/319 to the database\n",
            "Added chunk 264/319 to the database\n",
            "Added chunk 265/319 to the database\n",
            "Added chunk 266/319 to the database\n",
            "Added chunk 267/319 to the database\n",
            "Added chunk 268/319 to the database\n",
            "Added chunk 269/319 to the database\n",
            "Added chunk 270/319 to the database\n",
            "Added chunk 271/319 to the database\n",
            "Added chunk 272/319 to the database\n",
            "Added chunk 273/319 to the database\n",
            "Added chunk 274/319 to the database\n",
            "Added chunk 275/319 to the database\n",
            "Added chunk 276/319 to the database\n",
            "Added chunk 277/319 to the database\n",
            "Added chunk 278/319 to the database\n",
            "Added chunk 279/319 to the database\n",
            "Added chunk 280/319 to the database\n",
            "Added chunk 281/319 to the database\n",
            "Added chunk 282/319 to the database\n",
            "Added chunk 283/319 to the database\n",
            "Added chunk 284/319 to the database\n",
            "Added chunk 285/319 to the database\n",
            "Added chunk 286/319 to the database\n",
            "Added chunk 287/319 to the database\n",
            "Added chunk 288/319 to the database\n",
            "Added chunk 289/319 to the database\n",
            "Added chunk 290/319 to the database\n",
            "Added chunk 291/319 to the database\n",
            "Added chunk 292/319 to the database\n",
            "Added chunk 293/319 to the database\n",
            "Added chunk 294/319 to the database\n",
            "Added chunk 295/319 to the database\n",
            "Added chunk 296/319 to the database\n",
            "Added chunk 297/319 to the database\n",
            "Added chunk 298/319 to the database\n",
            "Added chunk 299/319 to the database\n",
            "Added chunk 300/319 to the database\n",
            "Added chunk 301/319 to the database\n",
            "Added chunk 302/319 to the database\n",
            "Added chunk 303/319 to the database\n",
            "Added chunk 304/319 to the database\n",
            "Added chunk 305/319 to the database\n",
            "Added chunk 306/319 to the database\n",
            "Added chunk 307/319 to the database\n",
            "Added chunk 308/319 to the database\n",
            "Added chunk 309/319 to the database\n",
            "Added chunk 310/319 to the database\n",
            "Added chunk 311/319 to the database\n",
            "Added chunk 312/319 to the database\n",
            "Added chunk 313/319 to the database\n",
            "Added chunk 314/319 to the database\n",
            "Added chunk 315/319 to the database\n",
            "Added chunk 316/319 to the database\n",
            "Added chunk 317/319 to the database\n",
            "Added chunk 318/319 to the database\n",
            "Added chunk 319/319 to the database\n"
          ]
        }
      ]
    },
    {
      "cell_type": "code",
      "source": [
        "print(len(VECTOR_DB))"
      ],
      "metadata": {
        "colab": {
          "base_uri": "https://localhost:8080/"
        },
        "id": "zWQeXYF8YnGD",
        "outputId": "18c369ac-65e4-428b-beb6-e57ff0e3ac7f"
      },
      "execution_count": 6,
      "outputs": [
        {
          "output_type": "stream",
          "name": "stdout",
          "text": [
            "319\n"
          ]
        }
      ]
    },
    {
      "cell_type": "code",
      "source": [
        "def cosine_similarity(a, b):\n",
        "  dot_product = sum([x * y for x, y in zip(a, b)])\n",
        "  norm_a = sum([x ** 2 for x in a]) ** 0.5\n",
        "  norm_b = sum([x ** 2 for x in b]) ** 0.5\n",
        "  return dot_product / (norm_a * norm_b)"
      ],
      "metadata": {
        "id": "5llw0evFYmKL"
      },
      "execution_count": 7,
      "outputs": []
    },
    {
      "cell_type": "code",
      "source": [
        "def retrieve(query, top_n=3):\n",
        "  query_embedding = ollama.embed(model=EMBEDDING_MODEL, input=query)['embeddings'][0]\n",
        "  # temporary list to store (chunk, similarity) pairs\n",
        "  similarities = []\n",
        "  for chunk, embedding in VECTOR_DB:\n",
        "    similarity = cosine_similarity(query_embedding, embedding)\n",
        "    similarities.append((chunk, similarity))\n",
        "  # sort by similarity in descending order, because higher similarity means more relevant chunks\n",
        "  similarities.sort(key=lambda x: x[1], reverse=True)\n",
        "  # finally, return the top N most relevant chunks\n",
        "  return similarities[:top_n]"
      ],
      "metadata": {
        "id": "1tDSzj8dZM13"
      },
      "execution_count": 8,
      "outputs": []
    },
    {
      "cell_type": "code",
      "source": [
        "input_query = input('Ask me a question: ')\n",
        "retrieved_knowledge = retrieve(input_query)\n",
        "\n",
        "print('Retrieved knowledge:')\n",
        "for chunk, similarity in retrieved_knowledge:\n",
        "  print(f' - (similarity: {similarity:.2f}) {chunk}')"
      ],
      "metadata": {
        "colab": {
          "base_uri": "https://localhost:8080/"
        },
        "id": "JvbOqFdnagBN",
        "outputId": "a402b8b7-cf92-43d7-b10f-a888deee7986"
      },
      "execution_count": 13,
      "outputs": [
        {
          "output_type": "stream",
          "name": "stdout",
          "text": [
            "Ask me a question: what the name of a cat?\n",
            "Retrieved knowledge:\n",
            " - (similarity: 0.75) There is no single cat called the panther. The name is commonly applied to the leopard, puma and the jaguar.\n",
            "\n",
            " - (similarity: 0.74) The most popular names for female cats in the U.S. are Missy, Misty, Muffin, Patches, Fluffy, Tabitha, Tigger, Pumpkin and Samantha.\n",
            "\n",
            " - (similarity: 0.74) Cats respond most readily to names that end in an “ee” sound.\n",
            "\n"
          ]
        }
      ]
    },
    {
      "cell_type": "code",
      "source": [
        "\n",
        "# THIS LINE OF CODE IS CORRECTED\n",
        "instruction_prompt = f\"\"\"You are a helpful chatbot. Use only the following pieces of context to answer\n",
        " the question. Don't make up any new information:\n",
        " {''.join([f' - {item}' for item in retrieved_knowledge])}\"\"\"\n",
        "\n",
        "print(instruction_prompt)"
      ],
      "metadata": {
        "colab": {
          "base_uri": "https://localhost:8080/"
        },
        "id": "pmLYtvJxaXfE",
        "outputId": "8d1af77c-af0a-4c2a-ff2f-bbd65578462b"
      },
      "execution_count": 14,
      "outputs": [
        {
          "output_type": "stream",
          "name": "stdout",
          "text": [
            "You are a helpful chatbot. Use only the following pieces of context to answer\n",
            " the question. Don't make up any new information:\n",
            "  - ('There is no single cat called the panther. The name is commonly applied to the leopard, puma and the jaguar.\\n', 0.7505431691901008) - ('The most popular names for female cats in the U.S. are Missy, Misty, Muffin, Patches, Fluffy, Tabitha, Tigger, Pumpkin and Samantha.\\n', 0.7435715921654183) - ('Cats respond most readily to names that end in an “ee” sound.\\n', 0.7363606349292883)\n"
          ]
        }
      ]
    },
    {
      "cell_type": "code",
      "source": [
        "stream = ollama.chat(\n",
        "  model=LANGUAGE_MODEL,\n",
        "  messages=[\n",
        "    {'role': 'system', 'content': instruction_prompt},\n",
        "    {'role': 'user', 'content': input_query},\n",
        "  ],\n",
        "  stream=True,\n",
        ")\n",
        "\n",
        "# print the response from the chatbot in real-time\n",
        "print('Chatbot response:')\n",
        "for chunk in stream:\n",
        "  print(chunk['message']['content'], end='', flush=True)"
      ],
      "metadata": {
        "colab": {
          "base_uri": "https://localhost:8080/"
        },
        "id": "qj1FsNhgaz4o",
        "outputId": "e8685238-1819-43b6-b83b-d429a05ffbac"
      },
      "execution_count": 15,
      "outputs": [
        {
          "output_type": "stream",
          "name": "stdout",
          "text": [
            "Chatbot response:\n",
            "According to the text, some popular names for cats include:\n",
            "\n",
            "* Missy\n",
            "* Misty\n",
            "* Muffin\n",
            "* Patches\n",
            "* Fluffy\n",
            "* Tabitha\n",
            "* Tigger\n",
            "* Pumpkin\n",
            "* Samantha\n",
            "\n",
            "Which one do you like best?"
          ]
        }
      ]
    }
  ]
}