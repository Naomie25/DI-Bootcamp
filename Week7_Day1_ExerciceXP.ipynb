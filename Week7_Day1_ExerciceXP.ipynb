{
  "nbformat": 4,
  "nbformat_minor": 0,
  "metadata": {
    "colab": {
      "provenance": [],
      "authorship_tag": "ABX9TyNg5Q5RkHRUW0CHuYbQHY1s",
      "include_colab_link": true
    },
    "kernelspec": {
      "name": "python3",
      "display_name": "Python 3"
    },
    "language_info": {
      "name": "python"
    }
  },
  "cells": [
    {
      "cell_type": "markdown",
      "metadata": {
        "id": "view-in-github",
        "colab_type": "text"
      },
      "source": [
        "<a href=\"https://colab.research.google.com/github/Naomie25/DI-Bootcamp/blob/main/Week7_Day1_ExerciceXP.ipynb\" target=\"_parent\"><img src=\"https://colab.research.google.com/assets/colab-badge.svg\" alt=\"Open In Colab\"/></a>"
      ]
    },
    {
      "cell_type": "code",
      "execution_count": 1,
      "metadata": {
        "id": "ncGcIP2pwqzV"
      },
      "outputs": [],
      "source": []
    },
    {
      "cell_type": "markdown",
      "source": [
        "Exercise 1: Exploring Text Preprocessing usage, NER and POS tags"
      ],
      "metadata": {
        "id": "Imubvs48wzUK"
      }
    },
    {
      "cell_type": "code",
      "source": [
        "import nltk\n",
        "import string\n",
        "from nltk.tokenize import word_tokenize\n",
        "\n",
        "# Télécharger les ressources nécessaires\n",
        "\n",
        "nltk.download('punkt_tab')"
      ],
      "metadata": {
        "colab": {
          "base_uri": "https://localhost:8080/"
        },
        "id": "GTz1KSpQBXNA",
        "outputId": "2cd81d9a-b63c-4821-8ca2-863ad3f8cdb7"
      },
      "execution_count": 2,
      "outputs": [
        {
          "output_type": "stream",
          "name": "stderr",
          "text": [
            "[nltk_data] Downloading package punkt_tab to /root/nltk_data...\n",
            "[nltk_data]   Package punkt_tab is already up-to-date!\n"
          ]
        },
        {
          "output_type": "execute_result",
          "data": {
            "text/plain": [
              "True"
            ]
          },
          "metadata": {},
          "execution_count": 2
        }
      ]
    },
    {
      "cell_type": "code",
      "source": [
        "!pip install -U spacy\n",
        "!python -m spacy download en_core_web_sm"
      ],
      "metadata": {
        "colab": {
          "base_uri": "https://localhost:8080/"
        },
        "id": "8zsBTxLyD4V3",
        "outputId": "654af15e-9f04-444b-cd5f-e1c749bb862a"
      },
      "execution_count": 3,
      "outputs": [
        {
          "output_type": "stream",
          "name": "stdout",
          "text": [
            "Requirement already satisfied: spacy in /usr/local/lib/python3.11/dist-packages (3.8.7)\n",
            "Requirement already satisfied: spacy-legacy<3.1.0,>=3.0.11 in /usr/local/lib/python3.11/dist-packages (from spacy) (3.0.12)\n",
            "Requirement already satisfied: spacy-loggers<2.0.0,>=1.0.0 in /usr/local/lib/python3.11/dist-packages (from spacy) (1.0.5)\n",
            "Requirement already satisfied: murmurhash<1.1.0,>=0.28.0 in /usr/local/lib/python3.11/dist-packages (from spacy) (1.0.13)\n",
            "Requirement already satisfied: cymem<2.1.0,>=2.0.2 in /usr/local/lib/python3.11/dist-packages (from spacy) (2.0.11)\n",
            "Requirement already satisfied: preshed<3.1.0,>=3.0.2 in /usr/local/lib/python3.11/dist-packages (from spacy) (3.0.10)\n",
            "Requirement already satisfied: thinc<8.4.0,>=8.3.4 in /usr/local/lib/python3.11/dist-packages (from spacy) (8.3.6)\n",
            "Requirement already satisfied: wasabi<1.2.0,>=0.9.1 in /usr/local/lib/python3.11/dist-packages (from spacy) (1.1.3)\n",
            "Requirement already satisfied: srsly<3.0.0,>=2.4.3 in /usr/local/lib/python3.11/dist-packages (from spacy) (2.5.1)\n",
            "Requirement already satisfied: catalogue<2.1.0,>=2.0.6 in /usr/local/lib/python3.11/dist-packages (from spacy) (2.0.10)\n",
            "Requirement already satisfied: weasel<0.5.0,>=0.1.0 in /usr/local/lib/python3.11/dist-packages (from spacy) (0.4.1)\n",
            "Requirement already satisfied: typer<1.0.0,>=0.3.0 in /usr/local/lib/python3.11/dist-packages (from spacy) (0.16.0)\n",
            "Requirement already satisfied: tqdm<5.0.0,>=4.38.0 in /usr/local/lib/python3.11/dist-packages (from spacy) (4.67.1)\n",
            "Requirement already satisfied: numpy>=1.19.0 in /usr/local/lib/python3.11/dist-packages (from spacy) (2.2.6)\n",
            "Requirement already satisfied: requests<3.0.0,>=2.13.0 in /usr/local/lib/python3.11/dist-packages (from spacy) (2.32.3)\n",
            "Requirement already satisfied: pydantic!=1.8,!=1.8.1,<3.0.0,>=1.7.4 in /usr/local/lib/python3.11/dist-packages (from spacy) (2.11.7)\n",
            "Requirement already satisfied: jinja2 in /usr/local/lib/python3.11/dist-packages (from spacy) (3.1.6)\n",
            "Requirement already satisfied: setuptools in /usr/local/lib/python3.11/dist-packages (from spacy) (75.2.0)\n",
            "Requirement already satisfied: packaging>=20.0 in /usr/local/lib/python3.11/dist-packages (from spacy) (24.2)\n",
            "Requirement already satisfied: langcodes<4.0.0,>=3.2.0 in /usr/local/lib/python3.11/dist-packages (from spacy) (3.5.0)\n",
            "Requirement already satisfied: language-data>=1.2 in /usr/local/lib/python3.11/dist-packages (from langcodes<4.0.0,>=3.2.0->spacy) (1.3.0)\n",
            "Requirement already satisfied: annotated-types>=0.6.0 in /usr/local/lib/python3.11/dist-packages (from pydantic!=1.8,!=1.8.1,<3.0.0,>=1.7.4->spacy) (0.7.0)\n",
            "Requirement already satisfied: pydantic-core==2.33.2 in /usr/local/lib/python3.11/dist-packages (from pydantic!=1.8,!=1.8.1,<3.0.0,>=1.7.4->spacy) (2.33.2)\n",
            "Requirement already satisfied: typing-extensions>=4.12.2 in /usr/local/lib/python3.11/dist-packages (from pydantic!=1.8,!=1.8.1,<3.0.0,>=1.7.4->spacy) (4.14.0)\n",
            "Requirement already satisfied: typing-inspection>=0.4.0 in /usr/local/lib/python3.11/dist-packages (from pydantic!=1.8,!=1.8.1,<3.0.0,>=1.7.4->spacy) (0.4.1)\n",
            "Requirement already satisfied: charset-normalizer<4,>=2 in /usr/local/lib/python3.11/dist-packages (from requests<3.0.0,>=2.13.0->spacy) (3.4.2)\n",
            "Requirement already satisfied: idna<4,>=2.5 in /usr/local/lib/python3.11/dist-packages (from requests<3.0.0,>=2.13.0->spacy) (3.10)\n",
            "Requirement already satisfied: urllib3<3,>=1.21.1 in /usr/local/lib/python3.11/dist-packages (from requests<3.0.0,>=2.13.0->spacy) (2.4.0)\n",
            "Requirement already satisfied: certifi>=2017.4.17 in /usr/local/lib/python3.11/dist-packages (from requests<3.0.0,>=2.13.0->spacy) (2025.6.15)\n",
            "Requirement already satisfied: blis<1.4.0,>=1.3.0 in /usr/local/lib/python3.11/dist-packages (from thinc<8.4.0,>=8.3.4->spacy) (1.3.0)\n",
            "Requirement already satisfied: confection<1.0.0,>=0.0.1 in /usr/local/lib/python3.11/dist-packages (from thinc<8.4.0,>=8.3.4->spacy) (0.1.5)\n",
            "Requirement already satisfied: click>=8.0.0 in /usr/local/lib/python3.11/dist-packages (from typer<1.0.0,>=0.3.0->spacy) (8.2.1)\n",
            "Requirement already satisfied: shellingham>=1.3.0 in /usr/local/lib/python3.11/dist-packages (from typer<1.0.0,>=0.3.0->spacy) (1.5.4)\n",
            "Requirement already satisfied: rich>=10.11.0 in /usr/local/lib/python3.11/dist-packages (from typer<1.0.0,>=0.3.0->spacy) (13.9.4)\n",
            "Requirement already satisfied: cloudpathlib<1.0.0,>=0.7.0 in /usr/local/lib/python3.11/dist-packages (from weasel<0.5.0,>=0.1.0->spacy) (0.21.1)\n",
            "Requirement already satisfied: smart-open<8.0.0,>=5.2.1 in /usr/local/lib/python3.11/dist-packages (from weasel<0.5.0,>=0.1.0->spacy) (7.3.0)\n",
            "Requirement already satisfied: MarkupSafe>=2.0 in /usr/local/lib/python3.11/dist-packages (from jinja2->spacy) (3.0.2)\n",
            "Requirement already satisfied: marisa-trie>=1.1.0 in /usr/local/lib/python3.11/dist-packages (from language-data>=1.2->langcodes<4.0.0,>=3.2.0->spacy) (1.2.1)\n",
            "Requirement already satisfied: markdown-it-py>=2.2.0 in /usr/local/lib/python3.11/dist-packages (from rich>=10.11.0->typer<1.0.0,>=0.3.0->spacy) (3.0.0)\n",
            "Requirement already satisfied: pygments<3.0.0,>=2.13.0 in /usr/local/lib/python3.11/dist-packages (from rich>=10.11.0->typer<1.0.0,>=0.3.0->spacy) (2.19.2)\n",
            "Requirement already satisfied: wrapt in /usr/local/lib/python3.11/dist-packages (from smart-open<8.0.0,>=5.2.1->weasel<0.5.0,>=0.1.0->spacy) (1.17.2)\n",
            "Requirement already satisfied: mdurl~=0.1 in /usr/local/lib/python3.11/dist-packages (from markdown-it-py>=2.2.0->rich>=10.11.0->typer<1.0.0,>=0.3.0->spacy) (0.1.2)\n",
            "Collecting en-core-web-sm==3.8.0\n",
            "  Downloading https://github.com/explosion/spacy-models/releases/download/en_core_web_sm-3.8.0/en_core_web_sm-3.8.0-py3-none-any.whl (12.8 MB)\n",
            "\u001b[2K     \u001b[90m━━━━━━━━━━━━━━━━━━━━━━━━━━━━━━━━━━━━━━━━\u001b[0m \u001b[32m12.8/12.8 MB\u001b[0m \u001b[31m55.0 MB/s\u001b[0m eta \u001b[36m0:00:00\u001b[0m\n",
            "\u001b[?25h\u001b[38;5;2m✔ Download and installation successful\u001b[0m\n",
            "You can now load the package via spacy.load('en_core_web_sm')\n",
            "\u001b[38;5;3m⚠ Restart to reload dependencies\u001b[0m\n",
            "If you are in a Jupyter or Colab notebook, you may need to restart Python in\n",
            "order to load all the package's dependencies. You can do this by selecting the\n",
            "'Restart kernel' or 'Restart runtime' option.\n"
          ]
        }
      ]
    },
    {
      "cell_type": "code",
      "source": [
        "import spacy\n",
        "\n",
        "# Charger le modèle anglais\n",
        "nlp = spacy.load(\"en_core_web_sm\")\n",
        "\n",
        "def preprocess_text(data):\n",
        "    preprocessed_reviews = []\n",
        "\n",
        "    for review in data['Review']:\n",
        "        doc = nlp(review.lower())  # Mise en minuscules + analyse\n",
        "\n",
        "        # Tokenisation + suppression ponctuation + lemmatisation\n",
        "        tokens = [\n",
        "            token.lemma_ for token in doc\n",
        "            if not token.is_punct and not token.is_space\n",
        "        ]\n",
        "\n",
        "        # Rejoindre les mots en chaîne de caractères nettoyée\n",
        "        cleaned_review = \" \".join(tokens)\n",
        "        preprocessed_reviews.append(cleaned_review)\n",
        "\n",
        "    return preprocessed_reviews\n"
      ],
      "metadata": {
        "id": "WETwT2cgAWU6"
      },
      "execution_count": 4,
      "outputs": []
    },
    {
      "cell_type": "code",
      "source": [
        "data = {\n",
        "    'Review': [\n",
        "        \"At McDonald's the food was ok and the service was bad.\",\n",
        "        \"I would not recommend this Japanese restaurant to anyone.\",\n",
        "        \"I loved this restaurant when I traveled to Thailand last summer.\",\n",
        "    ]\n",
        "}\n",
        "\n",
        "processed_data = preprocess_text(data)\n",
        "\n",
        "for i, review in enumerate(processed_data):\n",
        "    print(f\"Review {i+1}:\", review)\n"
      ],
      "metadata": {
        "colab": {
          "base_uri": "https://localhost:8080/"
        },
        "id": "g7kKxu2TEVXP",
        "outputId": "c7fdfd61-c17d-4a20-b24a-705e480fa3c6"
      },
      "execution_count": 5,
      "outputs": [
        {
          "output_type": "stream",
          "name": "stdout",
          "text": [
            "Review 1: at mcdonald 's the food be ok and the service be bad\n",
            "Review 2: I would not recommend this japanese restaurant to anyone\n",
            "Review 3: I love this restaurant when I travel to thailand last summer\n"
          ]
        }
      ]
    },
    {
      "cell_type": "code",
      "source": [
        "import spacy\n",
        "\n",
        "# Charger le modèle anglais\n",
        "nlp = spacy.load(\"en_core_web_sm\")\n",
        "\n",
        "def perform_ner(text):\n",
        "    doc = nlp(text)\n",
        "    entities = [(ent.text, ent.label_) for ent in doc.ents]\n",
        "    return entities"
      ],
      "metadata": {
        "id": "lGS9nO17GE0u"
      },
      "execution_count": 6,
      "outputs": []
    },
    {
      "cell_type": "code",
      "source": [
        "text = \"I visited Google headquarters in California last January.\"\n",
        "entities = perform_ner(text)\n",
        "\n",
        "for ent_text, ent_label in entities:\n",
        "    print(f\"{ent_text} → {ent_label}\")\n"
      ],
      "metadata": {
        "colab": {
          "base_uri": "https://localhost:8080/"
        },
        "id": "LkL_cPVUG4C5",
        "outputId": "ba678752-07fb-42ad-bc56-ec756da6e5f8"
      },
      "execution_count": 7,
      "outputs": [
        {
          "output_type": "stream",
          "name": "stdout",
          "text": [
            "Google → ORG\n",
            "California → GPE\n",
            "last January → DATE\n"
          ]
        }
      ]
    },
    {
      "cell_type": "code",
      "source": [
        "data = {\n",
        "    'Review': [\n",
        "        \"At McDonald's the food was ok and the service was bad.\",\n",
        "        \"I would not recommend this Japanese restaurant to anyone.\",\n",
        "        \"I loved this restaurant when I traveled to Thailand last summer.\",\n",
        "    ]\n",
        "}\n",
        "for review in data['Review']:\n",
        "    entities = perform_ner(review)\n",
        "    print(f\"Review: {review}\")\n",
        "    for ent_text, ent_label in entities:\n",
        "        print(f\"  {ent_text} → {ent_label}\")\n",
        "    print(\"---\")\n",
        "\n",
        "for review in processed_data:\n",
        "    entities = perform_ner(review)\n",
        "    print(f\"Review: {review}\")\n",
        "    for ent_text, ent_label in entities:\n",
        "        print(f\"  {ent_text} → {ent_label}\")\n",
        "    print(\"---\")\n"
      ],
      "metadata": {
        "colab": {
          "base_uri": "https://localhost:8080/"
        },
        "id": "El4dQAdGIiCj",
        "outputId": "e2ce42bd-d86f-48ed-d2a9-46bc6e576825"
      },
      "execution_count": 8,
      "outputs": [
        {
          "output_type": "stream",
          "name": "stdout",
          "text": [
            "Review: At McDonald's the food was ok and the service was bad.\n",
            "  McDonald → ORG\n",
            "---\n",
            "Review: I would not recommend this Japanese restaurant to anyone.\n",
            "  Japanese → NORP\n",
            "---\n",
            "Review: I loved this restaurant when I traveled to Thailand last summer.\n",
            "  Thailand → GPE\n",
            "  last summer → DATE\n",
            "---\n",
            "Review: at mcdonald 's the food be ok and the service be bad\n",
            "  mcdonald 's → ORG\n",
            "---\n",
            "Review: I would not recommend this japanese restaurant to anyone\n",
            "  japanese → NORP\n",
            "---\n",
            "Review: I love this restaurant when I travel to thailand last summer\n",
            "  thailand → GPE\n",
            "  last summer → DATE\n",
            "---\n"
          ]
        }
      ]
    },
    {
      "cell_type": "code",
      "source": [
        "import nltk\n",
        "from nltk import pos_tag, word_tokenize\n",
        "\n",
        "# Télécharger les ressources nécessaires\n",
        "nltk.download('punkt')\n",
        "nltk.download('averaged_perceptron_tagger')\n",
        "\n",
        "# Fonction pour le POS tagging\n",
        "def perform_pos_tagging(text):\n",
        "    tokens = word_tokenize(text)            # Tokenisation\n",
        "    tagged = pos_tag(tokens)                # POS tagging\n",
        "    return tagged                           # Retourne la liste des (mot, tag)\n",
        "for review in data['Review']:\n",
        "    print(f\"Review: {review}\")\n",
        "    tagged_words = perform_pos_tagging(review)\n",
        "    for word, tag in tagged_words:\n",
        "        print(f\"  Word: {word}, POS: {tag}\")\n",
        "    print(\"---\")\n"
      ],
      "metadata": {
        "colab": {
          "base_uri": "https://localhost:8080/"
        },
        "id": "8WwcqhJSJzgD",
        "outputId": "88bae889-d412-4851-a831-f30d6286adea"
      },
      "execution_count": 9,
      "outputs": [
        {
          "output_type": "stream",
          "name": "stdout",
          "text": [
            "Review: At McDonald's the food was ok and the service was bad.\n"
          ]
        },
        {
          "output_type": "stream",
          "name": "stderr",
          "text": [
            "[nltk_data] Downloading package punkt to /root/nltk_data...\n",
            "[nltk_data]   Package punkt is already up-to-date!\n",
            "[nltk_data] Downloading package averaged_perceptron_tagger to\n",
            "[nltk_data]     /root/nltk_data...\n",
            "[nltk_data]   Package averaged_perceptron_tagger is already up-to-\n",
            "[nltk_data]       date!\n"
          ]
        },
        {
          "output_type": "stream",
          "name": "stdout",
          "text": [
            "  Word: At, POS: IN\n",
            "  Word: McDonald, POS: NNP\n",
            "  Word: 's, POS: POS\n",
            "  Word: the, POS: DT\n",
            "  Word: food, POS: NN\n",
            "  Word: was, POS: VBD\n",
            "  Word: ok, POS: JJ\n",
            "  Word: and, POS: CC\n",
            "  Word: the, POS: DT\n",
            "  Word: service, POS: NN\n",
            "  Word: was, POS: VBD\n",
            "  Word: bad, POS: JJ\n",
            "  Word: ., POS: .\n",
            "---\n",
            "Review: I would not recommend this Japanese restaurant to anyone.\n",
            "  Word: I, POS: PRP\n",
            "  Word: would, POS: MD\n",
            "  Word: not, POS: RB\n",
            "  Word: recommend, POS: VB\n",
            "  Word: this, POS: DT\n",
            "  Word: Japanese, POS: JJ\n",
            "  Word: restaurant, POS: NN\n",
            "  Word: to, POS: TO\n",
            "  Word: anyone, POS: NN\n",
            "  Word: ., POS: .\n",
            "---\n",
            "Review: I loved this restaurant when I traveled to Thailand last summer.\n",
            "  Word: I, POS: PRP\n",
            "  Word: loved, POS: VBD\n",
            "  Word: this, POS: DT\n",
            "  Word: restaurant, POS: NN\n",
            "  Word: when, POS: WRB\n",
            "  Word: I, POS: PRP\n",
            "  Word: traveled, POS: VBD\n",
            "  Word: to, POS: TO\n",
            "  Word: Thailand, POS: NNP\n",
            "  Word: last, POS: JJ\n",
            "  Word: summer, POS: NN\n",
            "  Word: ., POS: .\n",
            "---\n"
          ]
        }
      ]
    },
    {
      "cell_type": "code",
      "source": [
        "for review in processed_data:\n",
        "    print(f\"Review: {review}\")\n",
        "    tagged_words = perform_pos_tagging(review)\n",
        "    for word, tag in tagged_words:\n",
        "        print(f\"  Word: {word}, POS: {tag}\")\n",
        "    print(\"---\")"
      ],
      "metadata": {
        "colab": {
          "base_uri": "https://localhost:8080/"
        },
        "id": "k3U-MxtWK8-p",
        "outputId": "4639404c-a753-49f3-dbeb-7beb0d5cda9b"
      },
      "execution_count": 10,
      "outputs": [
        {
          "output_type": "stream",
          "name": "stdout",
          "text": [
            "Review: at mcdonald 's the food be ok and the service be bad\n",
            "  Word: at, POS: IN\n",
            "  Word: mcdonald, POS: NN\n",
            "  Word: 's, POS: POS\n",
            "  Word: the, POS: DT\n",
            "  Word: food, POS: NN\n",
            "  Word: be, POS: VB\n",
            "  Word: ok, POS: JJ\n",
            "  Word: and, POS: CC\n",
            "  Word: the, POS: DT\n",
            "  Word: service, POS: NN\n",
            "  Word: be, POS: VB\n",
            "  Word: bad, POS: JJ\n",
            "---\n",
            "Review: I would not recommend this japanese restaurant to anyone\n",
            "  Word: I, POS: PRP\n",
            "  Word: would, POS: MD\n",
            "  Word: not, POS: RB\n",
            "  Word: recommend, POS: VB\n",
            "  Word: this, POS: DT\n",
            "  Word: japanese, POS: JJ\n",
            "  Word: restaurant, POS: NN\n",
            "  Word: to, POS: TO\n",
            "  Word: anyone, POS: NN\n",
            "---\n",
            "Review: I love this restaurant when I travel to thailand last summer\n",
            "  Word: I, POS: PRP\n",
            "  Word: love, POS: VBP\n",
            "  Word: this, POS: DT\n",
            "  Word: restaurant, POS: NN\n",
            "  Word: when, POS: WRB\n",
            "  Word: I, POS: PRP\n",
            "  Word: travel, POS: VBP\n",
            "  Word: to, POS: TO\n",
            "  Word: thailand, POS: VB\n",
            "  Word: last, POS: JJ\n",
            "  Word: summer, POS: NN\n",
            "---\n"
          ]
        }
      ]
    },
    {
      "cell_type": "markdown",
      "source": [
        "Exercise 2: Plotting the word embeddings"
      ],
      "metadata": {
        "id": "PFZMX7_DLY1M"
      }
    },
    {
      "cell_type": "code",
      "source": [
        "!pip uninstall -y scipy gensim\n",
        "!pip install scipy==1.10.1 gensim==4.3.1"
      ],
      "metadata": {
        "colab": {
          "base_uri": "https://localhost:8080/",
          "height": 724
        },
        "id": "E03v9rkgO_5z",
        "outputId": "e059d326-26f8-41bf-f74d-a02478db55ce"
      },
      "execution_count": 3,
      "outputs": [
        {
          "output_type": "stream",
          "name": "stdout",
          "text": [
            "Found existing installation: scipy 1.16.0\n",
            "Uninstalling scipy-1.16.0:\n",
            "  Successfully uninstalled scipy-1.16.0\n",
            "Found existing installation: gensim 4.3.1\n",
            "Uninstalling gensim-4.3.1:\n",
            "  Successfully uninstalled gensim-4.3.1\n",
            "Collecting scipy==1.10.1\n",
            "  Downloading scipy-1.10.1-cp311-cp311-manylinux_2_17_x86_64.manylinux2014_x86_64.whl.metadata (58 kB)\n",
            "\u001b[2K     \u001b[90m━━━━━━━━━━━━━━━━━━━━━━━━━━━━━━━━━━━━━━━━\u001b[0m \u001b[32m58.9/58.9 kB\u001b[0m \u001b[31m2.4 MB/s\u001b[0m eta \u001b[36m0:00:00\u001b[0m\n",
            "\u001b[?25hCollecting gensim==4.3.1\n",
            "  Using cached gensim-4.3.1-cp311-cp311-manylinux_2_17_x86_64.manylinux2014_x86_64.whl.metadata (8.4 kB)\n",
            "Collecting numpy<1.27.0,>=1.19.5 (from scipy==1.10.1)\n",
            "  Using cached numpy-1.26.4-cp311-cp311-manylinux_2_17_x86_64.manylinux2014_x86_64.whl.metadata (61 kB)\n",
            "Requirement already satisfied: smart-open>=1.8.1 in /usr/local/lib/python3.11/dist-packages (from gensim==4.3.1) (7.3.0)\n",
            "Requirement already satisfied: wrapt in /usr/local/lib/python3.11/dist-packages (from smart-open>=1.8.1->gensim==4.3.1) (1.17.2)\n",
            "Downloading scipy-1.10.1-cp311-cp311-manylinux_2_17_x86_64.manylinux2014_x86_64.whl (34.1 MB)\n",
            "\u001b[2K   \u001b[90m━━━━━━━━━━━━━━━━━━━━━━━━━━━━━━━━━━━━━━━━\u001b[0m \u001b[32m34.1/34.1 MB\u001b[0m \u001b[31m53.2 MB/s\u001b[0m eta \u001b[36m0:00:00\u001b[0m\n",
            "\u001b[?25hUsing cached gensim-4.3.1-cp311-cp311-manylinux_2_17_x86_64.manylinux2014_x86_64.whl (26.6 MB)\n",
            "Using cached numpy-1.26.4-cp311-cp311-manylinux_2_17_x86_64.manylinux2014_x86_64.whl (18.3 MB)\n",
            "Installing collected packages: numpy, scipy, gensim\n",
            "  Attempting uninstall: numpy\n",
            "    Found existing installation: numpy 2.3.1\n",
            "    Uninstalling numpy-2.3.1:\n",
            "      Successfully uninstalled numpy-2.3.1\n",
            "\u001b[31mERROR: pip's dependency resolver does not currently take into account all the packages that are installed. This behaviour is the source of the following dependency conflicts.\n",
            "jaxlib 0.5.1 requires scipy>=1.11.1, but you have scipy 1.10.1 which is incompatible.\n",
            "cvxpy 1.6.6 requires scipy>=1.11.0, but you have scipy 1.10.1 which is incompatible.\n",
            "jax 0.5.2 requires scipy>=1.11.1, but you have scipy 1.10.1 which is incompatible.\n",
            "tsfresh 0.21.0 requires scipy>=1.14.0; python_version >= \"3.10\", but you have scipy 1.10.1 which is incompatible.\n",
            "scikit-image 0.25.2 requires scipy>=1.11.4, but you have scipy 1.10.1 which is incompatible.\n",
            "xarray-einstats 0.9.1 requires scipy>=1.11, but you have scipy 1.10.1 which is incompatible.\n",
            "thinc 8.3.6 requires numpy<3.0.0,>=2.0.0, but you have numpy 1.26.4 which is incompatible.\u001b[0m\u001b[31m\n",
            "\u001b[0mSuccessfully installed gensim-4.3.1 numpy-1.26.4 scipy-1.10.1\n"
          ]
        },
        {
          "output_type": "display_data",
          "data": {
            "application/vnd.colab-display-data+json": {
              "pip_warning": {
                "packages": [
                  "numpy",
                  "scipy"
                ]
              },
              "id": "95abb94cfc7d49998de6ace38f27e366"
            }
          },
          "metadata": {}
        }
      ]
    },
    {
      "cell_type": "code",
      "source": [
        "from gensim.models import Word2Vec\n",
        "print(\"Import réussi !\")"
      ],
      "metadata": {
        "colab": {
          "base_uri": "https://localhost:8080/"
        },
        "id": "3KJ1Bb-yPi_s",
        "outputId": "377b4fb8-85ae-4995-c14d-eb6cc9642c9b"
      },
      "execution_count": 1,
      "outputs": [
        {
          "output_type": "stream",
          "name": "stdout",
          "text": [
            "Import réussi !\n"
          ]
        }
      ]
    },
    {
      "cell_type": "code",
      "source": [
        "preprocessed_tokenized = [\n",
        "    [\"at\", \"mcdonald\", \"'s\", \"the\", \"food\", \"be\", \"ok\", \"and\", \"the\", \"service\", \"be\", \"bad\"],\n",
        "    [\"i\", \"would\", \"not\", \"recommend\", \"this\", \"japanese\", \"restaurant\", \"to\", \"anyone\"],\n",
        "    [\"i\", \"love\", \"this\", \"restaurant\", \"when\", \"i\", \"travel\", \"to\", \"thailand\", \"last\", \"summer\"]\n",
        "]\n",
        "\n",
        "\n",
        "# Créer le modèle Word2Vec\n",
        "model = Word2Vec(\n",
        "    sentences=preprocessed_tokenized,\n",
        "    vector_size=50,  # dimension des vecteurs (embeddings)\n",
        "    window=5,        # taille de la fenêtre contextuelle\n",
        "    min_count=1,     # ignorer les mots qui apparaissent moins de 1 fois\n",
        "    workers=4,       # nombre de threads\n",
        "    sg=0             # 0 = CBOW (par défaut), 1 = Skip-Gram\n",
        ")\n",
        "\n",
        "# Afficher les dimensions et infos du modèle\n",
        "print(f\"Nombre de mots dans le vocabulaire : {len(model.wv)}\")\n",
        "print(f\"Dimension des vecteurs : {model.vector_size}\")\n"
      ],
      "metadata": {
        "colab": {
          "base_uri": "https://localhost:8080/"
        },
        "id": "w_C0OHpzO2ta",
        "outputId": "413ad5f9-3530-4e38-c7a1-1bba3a786f8e"
      },
      "execution_count": 2,
      "outputs": [
        {
          "output_type": "stream",
          "name": "stdout",
          "text": [
            "Nombre de mots dans le vocabulaire : 25\n",
            "Dimension des vecteurs : 50\n"
          ]
        }
      ]
    },
    {
      "cell_type": "code",
      "source": [
        "import matplotlib.pyplot as plt\n",
        "from sklearn.decomposition import PCA\n",
        "\n",
        "def plot_word_embeddings(word2vec_model):\n",
        "    # Récupérer la liste des mots et leurs vecteurs\n",
        "    words = list(word2vec_model.wv.index_to_key)\n",
        "    vectors = word2vec_model.wv[words]\n",
        "\n",
        "    # Réduire les dimensions à 2D avec PCA\n",
        "    pca = PCA(n_components=2)\n",
        "    vectors_2d = pca.fit_transform(vectors)\n",
        "\n",
        "    plt.figure(figsize=(12, 8))\n",
        "    plt.scatter(vectors_2d[:, 0], vectors_2d[:, 1])\n",
        "\n",
        "    # Annoter chaque point avec le mot correspondant\n",
        "    for i, word in enumerate(words):\n",
        "        plt.annotate(word, (vectors_2d[i, 0], vectors_2d[i, 1]))\n",
        "\n",
        "    plt.title(\"Visualisation des embeddings Word2Vec en 2D (PCA)\")\n",
        "    plt.xlabel(\"Composante principale 1\")\n",
        "    plt.ylabel(\"Composante principale 2\")\n",
        "    plt.grid(True)\n",
        "    plt.show()\n"
      ],
      "metadata": {
        "id": "WGHoiV_aP5TN"
      },
      "execution_count": 3,
      "outputs": []
    },
    {
      "cell_type": "code",
      "source": [
        "plot_word_embeddings(model)\n"
      ],
      "metadata": {
        "colab": {
          "base_uri": "https://localhost:8080/",
          "height": 718
        },
        "id": "o_TL2U53P7iu",
        "outputId": "0e6a1d0c-f9c5-4418-f1e8-4eeacc690d4d"
      },
      "execution_count": 4,
      "outputs": [
        {
          "output_type": "display_data",
          "data": {
            "text/plain": [
              "<Figure size 1200x800 with 1 Axes>"
            ],
            "image/png": "[encoded data removed]"
          },
          "metadata": {}
        }
      ]
    }
  ]
}