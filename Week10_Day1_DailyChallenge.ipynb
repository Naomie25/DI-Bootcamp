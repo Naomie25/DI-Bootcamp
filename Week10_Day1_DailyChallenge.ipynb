{
  "nbformat": 4,
  "nbformat_minor": 0,
  "metadata": {
    "colab": {
      "provenance": [],
      "authorship_tag": "ABX9TyNdk3gwYuy7lb5D4YkQkNvc",
      "include_colab_link": true
    },
    "kernelspec": {
      "name": "python3",
      "display_name": "Python 3"
    },
    "language_info": {
      "name": "python"
    }
  },
  "cells": [
    {
      "cell_type": "markdown",
      "metadata": {
        "id": "view-in-github",
        "colab_type": "text"
      },
      "source": [
        "<a href=\"https://colab.research.google.com/github/Naomie25/DI-Bootcamp/blob/main/Week10_Day1_DailyChallenge.ipynb\" target=\"_parent\"><img src=\"https://colab.research.google.com/assets/colab-badge.svg\" alt=\"Open In Colab\"/></a>"
      ]
    },
    {
      "cell_type": "markdown",
      "source": [
        "## **Step 1: Prompt with Tone, Format & Length Constraints**\n",
        "\n",
        "### Prompt to ChatGPT:\n",
        "\n",
        "> Act as a workplace learning assistant.\n",
        "> Rewrite the following internal policy paragraph into a friendly and clear tone for a company newsletter.\n",
        "> Format the output as bullet points, using paraphrased language only — no direct quotes.\n",
        "> Keep the total response under 75 words.\n",
        ">\n",
        "> **Input Text:**\n",
        "> Employees must ensure that all remote access to internal systems is established via the approved secure VPN. Under no circumstances should unsecured connections or personal devices lacking endpoint protection be used to access proprietary data or sensitive communications.\n",
        "\n",
        "---\n",
        "\n",
        "## **Step 2: Output Evaluation (Hypothetical Output)**\n",
        "\n",
        "> * Always connect to company systems using the approved secure VPN.\n",
        "> * Never use public Wi-Fi or unprotected personal devices to access work files.\n",
        "> * Unsecured connections can put company data and communication at risk.\n",
        "\n",
        "**Evaluation:**\n",
        "\n",
        "| Criteria             | Guiding Questions                                    | Pass?      | Notes                                                                       |\n",
        "| -------------------- | ---------------------------------------------------- | ---------- | --------------------------------------------------------------------------- |\n",
        "| **Relevance**        | Does it reflect the source content accurately?       | ✅          | Message aligns with original.                                               |\n",
        "| **Clarity**          | Is it easy for non-technical staff to understand?    | ✅          | Plain English, no jargon.                                                   |\n",
        "| **Structure**        | Is it organized in clear bullet points?              | ✅          | Bullets used as instructed.                                                 |\n",
        "| **Tone**             | Friendly and appropriate for internal communication? | ✅          | Tone is clear and encouraging.                                              |\n",
        "| **Length**           | Is it under 75 words?                                | ✅          | Only \\~45 words.                                                            |\n",
        "| **Factual Accuracy** | Did it invent or omit any security-critical details? | ⚠️ Partial | Mentions public Wi-Fi (not in original), may be considered a hallucination. |\n",
        "\n",
        "---\n",
        "\n",
        "## **Step 3: Revised Prompt to Prevent Hallucinations**\n",
        "\n",
        "> Act as a workplace learning assistant.\n",
        "> Paraphrase the following internal policy paragraph for a company newsletter.\n",
        ">\n",
        "> * Use a friendly and clear tone\n",
        "> * Format as bullet points\n",
        "> * Use only the ideas from the original text — **do not add new examples or recommendations**\n",
        "> * Stay under 75 words\n",
        ">\n",
        "> **Input Text:**\n",
        "> Employees must ensure that all remote access to internal systems is established via the approved secure VPN. Under no circumstances should unsecured connections or personal devices lacking endpoint protection be used to access proprietary data or sensitive communications.\n",
        "\n",
        "---\n",
        "\n",
        "## **Step 4: Prompt for Junior Intern (Simplified Paraphrase)**\n",
        "\n",
        "### Prompt:\n",
        "\n",
        "> Act as a helpful onboarding coach for junior interns.\n",
        "> Paraphrase this security policy into simple, supportive language.\n",
        ">\n",
        "> * Use no more than 4 short bullet points\n",
        "> * Avoid any corporate or legal jargon\n",
        "> * Keep the tone friendly and easy to follow\n",
        ">\n",
        "> **Input Text:**\n",
        "> Employees must ensure that all remote access to internal systems is established via the approved secure VPN. Under no circumstances should unsecured connections or personal devices lacking endpoint protection be used to access proprietary data or sensitive communications.\n",
        "\n",
        "---\n",
        "\n",
        "## **Step 5: Prompt for Quote Extraction**\n",
        "\n",
        "### Prompt:\n",
        "\n",
        "> Extract a single direct quote from the following policy text that clearly communicates the core security requirement.\n",
        "> Do not paraphrase. Output only the quote.\n",
        ">\n",
        "> **Input Text:**\n",
        "> Employees must ensure that all remote access to internal systems is established via the approved secure VPN. Under no circumstances should unsecured connections or personal devices lacking endpoint protection be used to access proprietary data or sensitive communications.\n",
        "\n",
        "### 🗣️ Best Quote:\n",
        "\n",
        "> “All remote access to internal systems must be established via the approved secure VPN.”\n",
        "\n",
        "---\n",
        "\n",
        "### When Is Quoting Better Than Paraphrasing?\n",
        "\n",
        "**Use quoting when:**\n",
        "\n",
        "* You need legal precision or audit trail (e.g., compliance training)\n",
        "* Reinforcing critical or official language (e.g., HR or IT policies)\n",
        "* Ensuring alignment with formal documents (e.g., contracts, agreements)\n",
        "\n",
        "**Quoting may pose a risk when:**\n",
        "\n",
        "* The original wording is too dense or technical for the audience\n",
        "* It lacks clarity or accessibility for junior or non-expert readers\n",
        "* It includes outdated or overly strict language that discourages adoption\n",
        "\n",
        "\n"
      ],
      "metadata": {
        "id": "XDOCDtZLVUR3"
      }
    },
    {
      "cell_type": "markdown",
      "source": [],
      "metadata": {
        "id": "1HZCoDbzVrAf"
      }
    }
  ]
}