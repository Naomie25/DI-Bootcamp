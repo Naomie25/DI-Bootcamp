{
  "nbformat": 4,
  "nbformat_minor": 0,
  "metadata": {
    "colab": {
      "provenance": [],
      "authorship_tag": "ABX9TyPXmkl0dRy21xGBZtR7u5wN",
      "include_colab_link": true
    },
    "kernelspec": {
      "name": "python3",
      "display_name": "Python 3"
    },
    "language_info": {
      "name": "python"
    }
  },
  "cells": [
    {
      "cell_type": "markdown",
      "metadata": {
        "id": "view-in-github",
        "colab_type": "text"
      },
      "source": [
        "<a href=\"https://colab.research.google.com/github/Naomie25/DI-Bootcamp/blob/main/Week4_Day2_ExerciceXP.ipynb\" target=\"_parent\"><img src=\"https://colab.research.google.com/assets/colab-badge.svg\" alt=\"Open In Colab\"/></a>"
      ]
    },
    {
      "cell_type": "markdown",
      "source": [
        "Exercise 1 : Matrix Operations"
      ],
      "metadata": {
        "id": "zGLSzTx4nFP5"
      }
    },
    {
      "cell_type": "code",
      "execution_count": 9,
      "metadata": {
        "colab": {
          "base_uri": "https://localhost:8080/"
        },
        "id": "W4OG05lcnEK2",
        "outputId": "0724e17b-d828-4fb3-d33a-192c24f46114"
      },
      "outputs": [
        {
          "output_type": "execute_result",
          "data": {
            "text/plain": [
              "array([[10,  2,  3],\n",
              "       [ 4, 50,  6],\n",
              "       [ 7,  8,  9]])"
            ]
          },
          "metadata": {},
          "execution_count": 9
        }
      ],
      "source": [
        "import numpy as np\n",
        "matrix = np.array([\n",
        "    [10, 2,3],\n",
        "    [4, 50, 6],\n",
        "    [7, 8, 9]\n",
        "])\n",
        "matrix"
      ]
    },
    {
      "cell_type": "code",
      "source": [
        "# Determinant\n",
        "det = np.linalg.det(matrix)\n",
        "print(det)\n",
        "\n",
        "#Reversed\n",
        "inverse_matrix = np.linalg.inv(matrix)\n",
        "print(inverse_matrix)"
      ],
      "metadata": {
        "colab": {
          "base_uri": "https://localhost:8080/"
        },
        "id": "Oz18tbEwx6iS",
        "outputId": "23f37aab-03ff-4cdc-ee69-09582f7ed397"
      },
      "execution_count": 11,
      "outputs": [
        {
          "output_type": "stream",
          "name": "stdout",
          "text": [
            "3078.0000000000036\n",
            "[[ 0.13060429  0.00194932 -0.04483431]\n",
            " [ 0.00194932  0.02241715 -0.01559454]\n",
            " [-0.10331384 -0.0214425   0.15984405]]\n"
          ]
        }
      ]
    },
    {
      "cell_type": "markdown",
      "source": [
        "Exercise 2 : Statistical Analysis"
      ],
      "metadata": {
        "id": "s_Q46toD09a5"
      }
    },
    {
      "cell_type": "code",
      "source": [
        "array=np.random.rand(50)\n",
        "mean= np.mean(array)\n",
        "print(mean)\n",
        "median= np.median(array)\n",
        "std=np.std(array)"
      ],
      "metadata": {
        "colab": {
          "base_uri": "https://localhost:8080/"
        },
        "id": "TQicD-Sn1Arw",
        "outputId": "4585c764-0002-4ffe-d6e4-a2bdd06eff05"
      },
      "execution_count": 25,
      "outputs": [
        {
          "output_type": "stream",
          "name": "stdout",
          "text": [
            "0.5268206061808142\n"
          ]
        }
      ]
    },
    {
      "cell_type": "markdown",
      "source": [
        "Exercise 3 : Date Manipulation"
      ],
      "metadata": {
        "id": "03gWlFu82rQF"
      }
    },
    {
      "cell_type": "code",
      "source": [
        "# Creating date ranges\n",
        "dates = np.arange('2023-01', '2023-02', dtype='datetime64[D]')\n",
        "print(\"January 2023 Dates:\\n\", dates)\n",
        "# Converting dates to a different format\n",
        "formatted_dates = np.datetime_as_string(dates, unit='D')\n",
        "print(\"Formatted Dates:\\n\", formatted_dates)\n"
      ],
      "metadata": {
        "colab": {
          "base_uri": "https://localhost:8080/"
        },
        "id": "dv9fck030jJl",
        "outputId": "d10d4b13-e52d-42e6-eb11-7767a28311b4"
      },
      "execution_count": 28,
      "outputs": [
        {
          "output_type": "stream",
          "name": "stdout",
          "text": [
            "January 2023 Dates:\n",
            " ['2023-01-01' '2023-01-02' '2023-01-03' '2023-01-04' '2023-01-05'\n",
            " '2023-01-06' '2023-01-07' '2023-01-08' '2023-01-09' '2023-01-10'\n",
            " '2023-01-11' '2023-01-12' '2023-01-13' '2023-01-14' '2023-01-15'\n",
            " '2023-01-16' '2023-01-17' '2023-01-18' '2023-01-19' '2023-01-20'\n",
            " '2023-01-21' '2023-01-22' '2023-01-23' '2023-01-24' '2023-01-25'\n",
            " '2023-01-26' '2023-01-27' '2023-01-28' '2023-01-29' '2023-01-30'\n",
            " '2023-01-31']\n",
            "Formatted Dates:\n",
            " ['2023-01-01' '2023-01-02' '2023-01-03' '2023-01-04' '2023-01-05'\n",
            " '2023-01-06' '2023-01-07' '2023-01-08' '2023-01-09' '2023-01-10'\n",
            " '2023-01-11' '2023-01-12' '2023-01-13' '2023-01-14' '2023-01-15'\n",
            " '2023-01-16' '2023-01-17' '2023-01-18' '2023-01-19' '2023-01-20'\n",
            " '2023-01-21' '2023-01-22' '2023-01-23' '2023-01-24' '2023-01-25'\n",
            " '2023-01-26' '2023-01-27' '2023-01-28' '2023-01-29' '2023-01-30'\n",
            " '2023-01-31']\n"
          ]
        }
      ]
    },
    {
      "cell_type": "markdown",
      "source": [
        "Exercise 4 : Data Manipulation with NumPy and Pandas"
      ],
      "metadata": {
        "id": "TBNSjb433bla"
      }
    },
    {
      "cell_type": "code",
      "source": [
        "import numpy as np\n",
        "import pandas as pd\n",
        "\n",
        "# Creating a large DataFrame\n",
        "data = pd.DataFrame(np.random.rand(100000, 4), columns=['A', 'B', 'C', 'D'])\n",
        "data\n",
        "# conditional selection\n",
        "condition = data['A'] > 0.5\n",
        "filtered_data = data[condition]\n",
        "print(\"Filtered Data:\\n\", filtered_data)\n",
        "sum=data.sum()\n",
        "print(\"The sum is:\",sum)\n",
        "average=data.mean()"
      ],
      "metadata": {
        "colab": {
          "base_uri": "https://localhost:8080/"
        },
        "id": "tZRfiXsk3cLF",
        "outputId": "bccfd63b-d14b-4f03-e376-7179c87e0ba9"
      },
      "execution_count": 36,
      "outputs": [
        {
          "output_type": "stream",
          "name": "stdout",
          "text": [
            "Filtered Data:\n",
            "               A         B         C         D\n",
            "0      0.563463  0.915520  0.271104  0.956636\n",
            "3      0.543814  0.349351  0.461512  0.653864\n",
            "5      0.694051  0.615574  0.308558  0.400360\n",
            "6      0.942936  0.556825  0.925652  0.073629\n",
            "9      0.508988  0.630148  0.138118  0.301709\n",
            "...         ...       ...       ...       ...\n",
            "99986  0.800244  0.746169  0.228632  0.817621\n",
            "99987  0.859879  0.923746  0.354969  0.395370\n",
            "99988  0.898717  0.278874  0.707644  0.213964\n",
            "99998  0.998085  0.000770  0.209659  0.964198\n",
            "99999  0.801460  0.773394  0.333150  0.472216\n",
            "\n",
            "[49841 rows x 4 columns]\n",
            "The sum is: A    49925.126204\n",
            "B    49998.039820\n",
            "C    50114.190430\n",
            "D    49988.167471\n",
            "dtype: float64\n"
          ]
        }
      ]
    },
    {
      "cell_type": "markdown",
      "source": [
        " Exercise 5 : Image Representation\n",
        " In NumPy, images are represented as multi-dimensional arrays where each element corresponds to a pixel."
      ],
      "metadata": {
        "id": "Cde8yOcn41Cw"
      }
    },
    {
      "cell_type": "code",
      "source": [
        "import numpy as np\n",
        "import matplotlib.pyplot as plt\n",
        "\n",
        "# Create a 5x5 grayscale image with values ranging from 0 to 255\n",
        "image = np.array([\n",
        "    [  0,  200, 100, 150, 250],\n",
        "    [ 10,  60, 110, 160, 210],\n",
        "    [ 20,  70, 120, 170, 220],\n",
        "    [ 30,  80, 130, 180, 230],\n",
        "    [ 40,  90, 140, 190, 250]\n",
        "], dtype=np.uint8)\n",
        "\n",
        "print(\"Array shape:\", image.shape)\n",
        "print(image)\n",
        "\n",
        "# Display the image\n",
        "plt.imshow(image, cmap='gray', vmin=0, vmax=255)\n",
        "plt.title(\"5x5 Grayscale Image\")\n",
        "plt.axis('off')\n",
        "plt.show()\n"
      ],
      "metadata": {
        "colab": {
          "base_uri": "https://localhost:8080/",
          "height": 535
        },
        "id": "a7-hXiVy5CnP",
        "outputId": "31fb5c22-c3aa-41f5-fd5d-1cdd2043094c"
      },
      "execution_count": 41,
      "outputs": [
        {
          "output_type": "stream",
          "name": "stdout",
          "text": [
            "Array shape: (5, 5)\n",
            "[[  0 200 100 150 250]\n",
            " [ 10  60 110 160 210]\n",
            " [ 20  70 120 170 220]\n",
            " [ 30  80 130 180 230]\n",
            " [ 40  90 140 190 250]]\n"
          ]
        },
        {
          "output_type": "display_data",
          "data": {
            "text/plain": [
              "<Figure size 640x480 with 1 Axes>"
            ],
            "image/png": "[encoded data removed]"
          },
          "metadata": {}
        }
      ]
    },
    {
      "cell_type": "markdown",
      "source": [
        "Exercise 6 : Basic Hypothesis Testing"
      ],
      "metadata": {
        "id": "w1_imtJl7YNF"
      }
    },
    {
      "cell_type": "code",
      "source": [
        "import numpy as np\n",
        "from scipy import stats\n",
        "# Step 1: Generate sample data\n",
        "np.random.seed(0)  # For reproducibility\n",
        "# Productivity scores before training\n",
        "productivity_before = np.random.normal(loc=50, scale=10, size=30)\n",
        "# Productivity scores after training (simulated improvement)\n",
        "productivity_after = productivity_before + np.random.normal(loc=5, scale=3, size=30)\n",
        "# Step 2: Compute the differences (after - before)\n",
        "differences = productivity_after - productivity_before\n",
        "# Step 3: State hypotheses\n",
        "print(\"H₀: The training program has no effect (mean difference = 0)\")\n",
        "print(\"H₁: The training program improves productivity (mean difference > 0)\")\n",
        "# Step 4: Perform a one-sample t-test on the differences (one-tailed)\n",
        "t_statistic, p_value_two_tailed = stats.ttest_rel(productivity_after, productivity_before)\n",
        "# For one-tailed test (H₁: mean > 0), divide the p-value by 2\n",
        "p_value_one_tailed = p_value_two_tailed / 2\n",
        "print(f\"\\nT-statistic: {t_statistic:.4f}\")\n",
        "print(f\"One-tailed p-value: {p_value_one_tailed:.4f}\")\n",
        "# Step 5: Interpret result\n",
        "alpha = 0.05  # significance level\n",
        "if (t_statistic > 0) and (p_value_one_tailed < alpha):\n",
        "    print(\"\\n:coche_blanche: Reject H₀ → The training program significantly improved productivity.\")\n",
        "else:\n",
        "    print(\"\\n:x: Fail to reject H₀ → No significant improvement detected.\")\n"
      ],
      "metadata": {
        "colab": {
          "base_uri": "https://localhost:8080/"
        },
        "id": "TYorP1d_7YuR",
        "outputId": "3dc27de6-0597-4be0-9855-732cd2f75487"
      },
      "execution_count": 47,
      "outputs": [
        {
          "output_type": "stream",
          "name": "stdout",
          "text": [
            "H₀: The training program has no effect (mean difference = 0)\n",
            "H₁: The training program improves productivity (mean difference > 0)\n",
            "\n",
            "T-statistic: 8.2505\n",
            "One-tailed p-value: 0.0000\n",
            "\n",
            ":coche_blanche: Reject H₀ → The training program significantly improved productivity.\n"
          ]
        }
      ]
    },
    {
      "cell_type": "markdown",
      "source": [
        "Exercise 7 : Complex Array Comparison"
      ],
      "metadata": {
        "id": "CKjctBwc-KN_"
      }
    },
    {
      "cell_type": "code",
      "source": [
        "first=np.array([1,4,8,1,2,0,3,8])\n",
        "second=np.array([2,7,1,6,9,3,2,7])\n",
        "comparaison=first>second\n",
        "comparaison\n"
      ],
      "metadata": {
        "colab": {
          "base_uri": "https://localhost:8080/"
        },
        "id": "vXAi_cVx-NFp",
        "outputId": "8ec6dc17-73ea-42b3-ea64-ac66a5703554"
      },
      "execution_count": 46,
      "outputs": [
        {
          "output_type": "execute_result",
          "data": {
            "text/plain": [
              "array([False, False,  True, False, False, False,  True,  True])"
            ]
          },
          "metadata": {},
          "execution_count": 46
        }
      ]
    },
    {
      "cell_type": "markdown",
      "source": [
        "Exercise 8 : Time Series Data Manipulation"
      ],
      "metadata": {
        "id": "EAz-Yrlr_-cf"
      }
    },
    {
      "cell_type": "code",
      "source": [
        "import pandas as pd\n",
        "import numpy as np\n",
        "\n",
        "# Step 1: Create a date range for 2023 using numpy (as you did)\n",
        "dates = np.arange('2023-01-01', '2024-01-01', dtype='datetime64[D]')\n",
        "\n",
        "# Step 2: Generate random values for each date\n",
        "np.random.seed(0)  # For consistent results\n",
        "data = np.random.randint(100, 500, size=len(dates))\n",
        "\n",
        "# Step 3: Create a time series DataFrame\n",
        "time_series = pd.DataFrame({'Value': data}, index=pd.to_datetime(dates))\n",
        "\n",
        "# Step 4: Slice into 4 intervals (quarters)\n",
        "q1 = time_series.loc['2023-01-01':'2023-03-31']\n",
        "q2 = time_series.loc['2023-04-01':'2023-06-30']\n",
        "q3 = time_series.loc['2023-07-01':'2023-09-30']\n",
        "q4 = time_series.loc['2023-10-01':'2023-12-31']\n",
        "\n",
        "# Step 5: Display some results\n",
        "print(\"Q1 sample:\\n\", q1.head(), \"\\n\")\n",
        "print(\"Q2 sample:\\n\", q2.head(), \"\\n\")\n",
        "print(\"Q3 sample:\\n\", q3.head(), \"\\n\")\n",
        "print(\"Q4 sample:\\n\", q4.head(), \"\\n\")\n"
      ],
      "metadata": {
        "colab": {
          "base_uri": "https://localhost:8080/"
        },
        "id": "DTi-tcEz_-9R",
        "outputId": "cd816956-f583-42fd-e2c9-c7c6867fbd67"
      },
      "execution_count": 53,
      "outputs": [
        {
          "output_type": "stream",
          "name": "stdout",
          "text": [
            "Q1 sample:\n",
            "             Value\n",
            "2023-01-01    272\n",
            "2023-01-02    147\n",
            "2023-01-03    217\n",
            "2023-01-04    292\n",
            "2023-01-05    423 \n",
            "\n",
            "Q2 sample:\n",
            "             Value\n",
            "2023-04-01    456\n",
            "2023-04-02    280\n",
            "2023-04-03    434\n",
            "2023-04-04    243\n",
            "2023-04-05    248 \n",
            "\n",
            "Q3 sample:\n",
            "             Value\n",
            "2023-07-01    370\n",
            "2023-07-02    452\n",
            "2023-07-03    360\n",
            "2023-07-04    337\n",
            "2023-07-05    239 \n",
            "\n",
            "Q4 sample:\n",
            "             Value\n",
            "2023-10-01    453\n",
            "2023-10-02    144\n",
            "2023-10-03    390\n",
            "2023-10-04    188\n",
            "2023-10-05    133 \n",
            "\n"
          ]
        }
      ]
    },
    {
      "cell_type": "markdown",
      "source": [
        " Exercise 9 : Data Conversion"
      ],
      "metadata": {
        "id": "D8-Wd4tJCZAh"
      }
    },
    {
      "cell_type": "code",
      "source": [
        "import numpy as np\n",
        "import pandas as pd\n",
        "\n",
        "# Create a NumPy array\n",
        "array = np.array([[1, 2, 3], [4, 5, 6]])\n",
        "\n",
        "# Convert to DataFrame\n",
        "df = pd.DataFrame(array, columns=['A', 'B', 'C'])\n",
        "\n",
        "print(\"Pandas DataFrame:\\n\", df)\n"
      ],
      "metadata": {
        "colab": {
          "base_uri": "https://localhost:8080/"
        },
        "id": "P7VzsH0JCZaa",
        "outputId": "37184ff2-b0bb-479e-8699-41ca13910eb7"
      },
      "execution_count": 54,
      "outputs": [
        {
          "output_type": "stream",
          "name": "stdout",
          "text": [
            "Pandas DataFrame:\n",
            "    A  B  C\n",
            "0  1  2  3\n",
            "1  4  5  6\n"
          ]
        }
      ]
    },
    {
      "cell_type": "markdown",
      "source": [
        "Exercise 10 : Basic Visualization"
      ],
      "metadata": {
        "id": "le0vl_aOFa9h"
      }
    },
    {
      "cell_type": "code",
      "source": [
        "import numpy as np\n",
        "import matplotlib.pyplot as plt\n",
        "\n",
        "# Step 1: Create a simple dataset\n",
        "np.random.seed(0)  # For reproducibility\n",
        "x = np.arange(50)  # x values from 0 to 49\n",
        "y = np.random.rand(50) * 100  # 50 random y values between 0 and 100\n",
        "\n",
        "# Step 2: Plot using Matplotlib\n",
        "plt.figure(figsize=(10, 5))          # Set figure size\n",
        "plt.plot(x, y, marker='o', linestyle='-', color='blue', label='Random Data')\n",
        "\n",
        "# Step 3: Add labels and title\n",
        "plt.title(\"Line Graph of Random Numbers\")\n",
        "plt.xlabel(\"Index\")\n",
        "plt.ylabel(\"Value\")\n",
        "plt.legend()\n",
        "plt.grid(True)\n",
        "\n",
        "# Step 4: Show the plot\n",
        "plt.show()\n"
      ],
      "metadata": {
        "colab": {
          "base_uri": "https://localhost:8080/",
          "height": 487
        },
        "id": "-Ziwi9XfFeft",
        "outputId": "b09e5817-a35a-4a57-d1aa-fe998309fe9c"
      },
      "execution_count": 55,
      "outputs": [
        {
          "output_type": "display_data",
          "data": {
            "text/plain": [
              "<Figure size 1000x500 with 1 Axes>"
            ],
            "image/png": "[encoded data removed]"
          },
          "metadata": {}
        }
      ]
    }
  ]
}