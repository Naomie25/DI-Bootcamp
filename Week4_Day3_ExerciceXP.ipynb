{
  "nbformat": 4,
  "nbformat_minor": 0,
  "metadata": {
    "colab": {
      "provenance": [],
      "authorship_tag": "ABX9TyMM8smT1RzPbDzdTzK2blRK",
      "include_colab_link": true
    },
    "kernelspec": {
      "name": "python3",
      "display_name": "Python 3"
    },
    "language_info": {
      "name": "python"
    }
  },
  "cells": [
    {
      "cell_type": "markdown",
      "metadata": {
        "id": "view-in-github",
        "colab_type": "text"
      },
      "source": [
        "<a href=\"https://colab.research.google.com/github/Naomie25/DI-Bootcamp/blob/main/Week4_Day3_ExerciceXP.ipynb\" target=\"_parent\"><img src=\"https://colab.research.google.com/assets/colab-badge.svg\" alt=\"Open In Colab\"/></a>"
      ]
    },
    {
      "cell_type": "markdown",
      "source": [
        "Exercise 1: Basic Usage of SciPy"
      ],
      "metadata": {
        "id": "c1G_-VjtdbT-"
      }
    },
    {
      "cell_type": "code",
      "execution_count": 5,
      "metadata": {
        "colab": {
          "base_uri": "https://localhost:8080/"
        },
        "id": "rH9_GShPYjJL",
        "outputId": "2ffab2d8-2839-4f1b-d785-4ab404dfae1e"
      },
      "outputs": [
        {
          "output_type": "stream",
          "name": "stdout",
          "text": [
            "Requirement already satisfied: scipy in /usr/local/lib/python3.11/dist-packages (1.15.3)\n",
            "Requirement already satisfied: numpy<2.5,>=1.23.5 in /usr/local/lib/python3.11/dist-packages (from scipy) (2.0.2)\n"
          ]
        }
      ],
      "source": [
        "pip install scipy"
      ]
    },
    {
      "cell_type": "code",
      "source": [
        "import scipy\n",
        "print(scipy.__version__)"
      ],
      "metadata": {
        "colab": {
          "base_uri": "https://localhost:8080/"
        },
        "id": "zhk6ChNkdnDD",
        "outputId": "6ad7bbe6-fd0a-4e39-cdc4-491310a898a7"
      },
      "execution_count": 7,
      "outputs": [
        {
          "output_type": "stream",
          "name": "stdout",
          "text": [
            "1.15.3\n"
          ]
        }
      ]
    },
    {
      "cell_type": "markdown",
      "source": [
        "Exercise 2: Descriptive Statistics"
      ],
      "metadata": {
        "id": "8H_oqDDyd4xJ"
      }
    },
    {
      "cell_type": "code",
      "source": [
        "import scipy.stats as stats\n",
        "import numpy as np\n",
        "data = [12, 15, 13, 12, 18, 20, 22, 21]\n",
        "mean_scipy = stats.tmean(data)\n",
        "median_scipy = np.median(data)\n",
        "variance_scipy = stats.tvar(data)\n",
        "std_dev_scipy = stats.tstd(data)\n"
      ],
      "metadata": {
        "id": "AUBrLadsd5Ij"
      },
      "execution_count": 10,
      "outputs": []
    },
    {
      "cell_type": "markdown",
      "source": [
        "Exercise 3: Understanding Distributions"
      ],
      "metadata": {
        "id": "Fu5MbmkdedZf"
      }
    },
    {
      "cell_type": "code",
      "source": [
        "import numpy as np\n",
        "import matplotlib.pyplot as plt\n",
        "from scipy.stats import norm\n",
        "# Parameters of the normal distribution\n",
        "mean = 50      # Mean\n",
        "standard = 10   # Standard deviation\n",
        "\n",
        "# Generate x values (from mu - 4σ to mu + 4σ)\n",
        "x = np.linspace(mean - 4*standard, mean + 4*standard, 1000)\n",
        "\n",
        "# Get the probability density function (PDF) values\n",
        "pdf = norm.pdf(x, loc=mean, scale=standard)\n",
        "\n",
        "# Plot\n",
        "plt.figure(figsize=(10, 5))\n",
        "plt.plot(x, pdf, color='blue', label='Normal Distribution')\n",
        "plt.title('Normal Distribution (μ=50, σ=10)')\n",
        "plt.xlabel('Value')\n",
        "plt.ylabel('Probability Density')\n",
        "plt.grid(True)\n",
        "plt.legend()\n",
        "plt.show()"
      ],
      "metadata": {
        "id": "8_P6ysgqedwt"
      },
      "execution_count": null,
      "outputs": []
    },
    {
      "cell_type": "markdown",
      "source": [
        "Exercise 4: T-Test Application"
      ],
      "metadata": {
        "id": "FkYMIFKRfMhn"
      }
    },
    {
      "cell_type": "code",
      "source": [
        "data1 = np.random.normal(50, 10, 100)\n",
        "data2 = np.random.normal(60, 10, 100)\n",
        "# Calculate means\n",
        "mean_1 = np.mean(data1)\n",
        "mean_2 = np.mean(data2)\n",
        "\n",
        "# Calculate standard deviation\n",
        "std_1 = np.std(data1, ddof=1)\n",
        "std_2 = np.std(data2, ddof=1)\n",
        "from scipy.stats import ttest_ind\n",
        "\n",
        "# Perform T-test\n",
        "t_stat, p_val = ttest_ind(data1, data2)\n",
        "\n",
        "# Print results\n",
        "print(\"Mean of data1:\", mean_1)\n",
        "print(\"Mean of data2:\", mean_2)\n",
        "print(\"Standard deviation of data1:\", std_1)\n",
        "print(\"Standard deviation of data2:\", std_2)\n",
        "print(\"T-statistic:\", t_stat)\n",
        "print(\"P-value:\", p_val)\n",
        "\n",
        "# Interpret the result\n",
        "alpha = 0.05\n",
        "if p_val < alpha:\n",
        "    print(\"➡️ The difference is statistically significant. Reject H0.\")\n",
        "else:\n",
        "    print(\"➡️ No significant difference. Fail to reject H0.\")"
      ],
      "metadata": {
        "colab": {
          "base_uri": "https://localhost:8080/"
        },
        "id": "XzEGFQskfM3R",
        "outputId": "7595f311-43a0-4bf5-ac64-81cbd4943e02"
      },
      "execution_count": 16,
      "outputs": [
        {
          "output_type": "stream",
          "name": "stdout",
          "text": [
            "Mean of data1: 51.69891203109407\n",
            "Mean of data2: 60.44663322199703\n",
            "Standard deviation of data1: 9.7808521722175\n",
            "Standard deviation of data2: 10.316981241734096\n",
            "T-statistic: -6.153273511600683\n",
            "P-value: 4.131945340403362e-09\n",
            "➡️ The difference is statistically significant. Reject H0.\n"
          ]
        }
      ]
    },
    {
      "cell_type": "markdown",
      "source": [
        " Exercise 5: Linear Regression Analysis"
      ],
      "metadata": {
        "id": "3Ak20yi_gOlr"
      }
    },
    {
      "cell_type": "code",
      "source": [
        "import numpy as np\n",
        "from scipy import stats\n",
        "house_sizes= np.array([50, 70, 80, 100, 120])\n",
        "house_prices=np.array([150000, 200000, 210000, 250000, 280000])\n",
        "# Performing linear regression\n",
        "slope, intercept, r_value, p_value, std_err = stats.linregress(house_sizes, house_prices)\n",
        "\n",
        "# The slope and intercept of the regression line\n",
        "print(\"Slope:\", slope)\n",
        "print(\"Intercept:\", intercept)\n",
        "\n",
        "#Predict price of a 90 m² house\n",
        "size_90 = 90\n",
        "predicted_price = slope * size_90 + intercept\n",
        "print(\"Predicted price for 90 m²:\", predicted_price)\n",
        "#In the context of housing prices, the slope of the linear regression line represents:\n",
        "#How much the price of a house changes for each additional square meter of size.\n"
      ],
      "metadata": {
        "colab": {
          "base_uri": "https://localhost:8080/"
        },
        "id": "aHa2Vj_PgO9L",
        "outputId": "08d9a9ba-f7e6-444e-8cdb-d91bd6715570"
      },
      "execution_count": 25,
      "outputs": [
        {
          "output_type": "stream",
          "name": "stdout",
          "text": [
            "Slope: 1828.7671232876712\n",
            "Intercept: 64383.56164383562\n",
            "Predicted price for 90 m²: 228972.60273972602\n"
          ]
        }
      ]
    },
    {
      "cell_type": "markdown",
      "source": [
        " Exercise 6: Understanding ANOVA"
      ],
      "metadata": {
        "id": "ai4Ei9xykVsY"
      }
    },
    {
      "cell_type": "code",
      "source": [
        "fertilizer_1=np.array([5, 6, 7, 6, 5])\n",
        "fertilizer_2= np.array([7, 8, 7, 9, 8])\n",
        "fertilizer_3=np.array([4, 5, 4, 3, 4])\n",
        "fertilizer_1\n",
        "# Performing one-way ANOVA\n",
        "f_value, p_value = stats.f_oneway(fertilizer_1, fertilizer_2, fertilizer_3)\n",
        "print(\"F-value:\", f_value)\n",
        "print(\"P-value:\", p_value)\n",
        "\n",
        "#A high F-value means the groups have different means.\n",
        "# A very small p-value (e.g., 0.0000138) is much less than 0.05.\n",
        "# So, we reject the null hypothesis (H₀).\n",
        "# Conclusion: The fertilizers have significantly different effects on plant growth.\n",
        "\n",
        "# What if the p-value was greater than 0.05?\n",
        "# Then we would fail to reject the null hypothesis.\n",
        "\n",
        "# It would mean the differences between group means are not statistically significant.\n",
        "\n",
        "# In simple terms: the fertilizers would be considered to have the same effect,\n",
        "# and the observed differences are likely due to random chance."
      ],
      "metadata": {
        "colab": {
          "base_uri": "https://localhost:8080/"
        },
        "id": "7tlkjffukV-6",
        "outputId": "59c73204-01b3-4bec-ca3c-d2645a9645a0"
      },
      "execution_count": 28,
      "outputs": [
        {
          "output_type": "stream",
          "name": "stdout",
          "text": [
            "F-value: 28.52631578947368\n",
            "P-value: 2.754267209804844e-05\n"
          ]
        }
      ]
    },
    {
      "cell_type": "markdown",
      "source": [
        "Exercise 7: Probability Distributions (Optional)"
      ],
      "metadata": {
        "id": "acZfh_Pin9Dd"
      }
    },
    {
      "cell_type": "code",
      "source": [
        "from scipy.stats import binom\n",
        "n = 10       # number of coin flips\n",
        "p = 0.5      # probability of success (heads)\n",
        "k = 5\n",
        "\n",
        "# Calculate P(X = 5)\n",
        "prob = binom.pmf(k, n, p)\n",
        "print(f\"Probability of getting exactly 5 heads in 10 coin flips: {prob:.4f}\")\n"
      ],
      "metadata": {
        "colab": {
          "base_uri": "https://localhost:8080/"
        },
        "id": "36AIWjexn9Wc",
        "outputId": "f8e0cc05-00f4-47dd-b900-734ff57e47d9"
      },
      "execution_count": 30,
      "outputs": [
        {
          "output_type": "stream",
          "name": "stdout",
          "text": [
            "Probability of getting exactly 5 heads in 10 coin flips: 0.2461\n"
          ]
        }
      ]
    },
    {
      "cell_type": "markdown",
      "source": [
        "Exercise 8: Correlation Coefficients (Optional)"
      ],
      "metadata": {
        "id": "lVn-XdmKoxhp"
      }
    },
    {
      "cell_type": "code",
      "source": [
        "import pandas as pd\n",
        "from scipy.stats import pearsonr, spearmanr\n",
        "\n",
        "# Example data\n",
        "data = pd.DataFrame({\n",
        "    'age': [23, 25, 30, 35, 40],\n",
        "    'income': [35000, 40000, 50000, 60000, 70000]\n",
        "})\n",
        "\n",
        "pearson_corr, pearson_p = pearsonr(data['age'], data['income'])\n",
        "print(\"Pearson Correlation Coefficient:\", pearson_corr)\n",
        "print(\"P-value (Pearson):\", pearson_p)\n",
        "\n",
        "spearman_corr, spearman_p = spearmanr(data['age'], data['income'])\n",
        "print(\"Spearman Correlation Coefficient:\", spearman_corr)\n",
        "print(\"P-value (Spearman):\", spearman_p)\n",
        "\n"
      ],
      "metadata": {
        "colab": {
          "base_uri": "https://localhost:8080/"
        },
        "id": "CDLRjhrLo8r6",
        "outputId": "139bc40f-a2fb-4d32-c467-988f29af0686"
      },
      "execution_count": 33,
      "outputs": [
        {
          "output_type": "stream",
          "name": "stdout",
          "text": [
            "Pearson Correlation Coefficient: 0.9996907452347201\n",
            "P-value (Pearson): 6.528122732016007e-06\n",
            "Spearman Correlation Coefficient: 0.9999999999999999\n",
            "P-value (Spearman): 1.4042654220543672e-24\n"
          ]
        }
      ]
    }
  ]
}