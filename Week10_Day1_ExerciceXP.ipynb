{
  "nbformat": 4,
  "nbformat_minor": 0,
  "metadata": {
    "colab": {
      "provenance": [],
      "authorship_tag": "ABX9TyNICYqqqhq3wZjOy+lXrRGJ",
      "include_colab_link": true
    },
    "kernelspec": {
      "name": "python3",
      "display_name": "Python 3"
    },
    "language_info": {
      "name": "python"
    }
  },
  "cells": [
    {
      "cell_type": "markdown",
      "metadata": {
        "id": "view-in-github",
        "colab_type": "text"
      },
      "source": [
        "<a href=\"https://colab.research.google.com/github/Naomie25/DI-Bootcamp/blob/main/Week10_Day1_ExerciceXP.ipynb\" target=\"_parent\"><img src=\"https://colab.research.google.com/assets/colab-badge.svg\" alt=\"Open In Colab\"/></a>"
      ]
    },
    {
      "cell_type": "markdown",
      "source": [
        " Exercise 1: Rewrite and Optimize a Vague Prompt"
      ],
      "metadata": {
        "id": "xtDXEakT51af"
      }
    },
    {
      "cell_type": "markdown",
      "source": [
        "3 Critical Issues with the Original Prompt:\n",
        "\n",
        "Original Prompt: “Write something about productivity tips.”\n",
        "\n",
        "1. No Defined Brand Voice or Tone\n",
        "\n",
        "There's no instruction about FlowNest’s brand personality (e.g., calm, minimalist, science-backed). This can lead to off-brand or inconsistent messaging.\n",
        "\n",
        "2. No Clear Target Audience\n",
        "\n",
        "The prompt doesn’t specify who the post is for — e.g., remote workers, tech professionals, entrepreneurs — which makes it hard to write content that resonates.\n",
        "\n",
        "3. Not Optimized for Platform Engagement\n",
        "\n",
        "The prompt ignores LinkedIn best practices (hook, structure, CTA) and lacks a clear format or goal (e.g., drive engagement, awareness, or downloads)."
      ],
      "metadata": {
        "id": "WGfcMEwN7Ay8"
      }
    },
    {
      "cell_type": "markdown",
      "source": [
        "Better Prompt Example:\n",
        "\n",
        "“Write a professional, LinkedIn-style post in FlowNest’s calm and focused voice, sharing 3 productivity tips for remote tech workers. End with a subtle CTA encouraging them to try FlowNest to stay in flow.”"
      ],
      "metadata": {
        "id": "9jlmx0lf7Ocl"
      }
    },
    {
      "cell_type": "markdown",
      "source": [
        "- Act as a content strategist for FlowNest, our productivity and focus app.\n",
        "- Give 3 actionable productivity tips specifically tailored to remote tech professionals who struggle with focus during the workday.\n",
        "- Use a calm, focused tone that matches FlowNest’s brand voice.\n",
        "- Format the tips as short bullet points (1–2 sentences each), and end with a light, natural call to action inviting them to try FlowNest.\n"
      ],
      "metadata": {
        "id": "Pl9AAup77QGz"
      }
    },
    {
      "cell_type": "markdown",
      "source": [
        "Exercise 2: Multi-Part Prompt for Quiz Generation"
      ],
      "metadata": {
        "id": "LFdc_St37uB0"
      }
    },
    {
      "cell_type": "markdown",
      "source": [
        "Prompt: \"Based on a short article on this volcanic eruptions, summarize it in 2 simple bullet points"
      ],
      "metadata": {
        "id": "XXFsbdTF73Lo"
      }
    },
    {
      "cell_type": "markdown",
      "source": [
        "Prompt:\n",
        "\n",
        "You are an educational assistant helping a 7th-grade science teacher.\n",
        "\n",
        "Task:\n",
        "Based on the short article about volcanic eruptions, do the following:\n",
        "\n",
        "- Summarize the article in 2 simple bullet points using clear, age-appropriate language for students aged 11–13.\n",
        "\n",
        "- Create 3 multiple-choice questions related to the article.\n",
        "\n",
        "  - Each question should have 1 correct answer and 2 distractors.\n",
        "\n",
        "  - Make sure the vocabulary and tone are friendly and easy for middle schoolers to understand.\n",
        "\n",
        "- Format the output as if it's going to be copied into Google Slides:\n",
        "\n",
        "  - Use clear slide titles (e.g., \"Key Facts\", \"Quiz Question 1\", etc.)\n",
        "\n",
        "  - Put each question on its own “slide”\n",
        "  \n",
        "  - Keep layout clean and concise"
      ],
      "metadata": {
        "id": "8U4hQHJ08THf"
      }
    },
    {
      "cell_type": "markdown",
      "source": [
        "\n",
        "###  **3 Key Improvements:**\n",
        "\n",
        "1. **Clear Instructions**\n",
        "   The improved prompt breaks down the task into specific steps (summary, quiz, formatting), preventing vague or incomplete answers.\n",
        "\n",
        "2. **Defined Audience and Tone**\n",
        "   It specifies the age group (11–13 years) and asks for friendly, simple language, ensuring the content is age-appropriate.\n",
        "\n",
        "3. **Platform-Ready Formatting**\n",
        "   It tells ChatGPT to structure the output for Google Slides, making it easier for teachers to use directly in class presentations."
      ],
      "metadata": {
        "id": "moQb7-Ux8t6M"
      }
    },
    {
      "cell_type": "markdown",
      "source": [
        " Exercise 3: Add Context, Get Better Results"
      ],
      "metadata": {
        "id": "liCfA-Hl-Voh"
      }
    },
    {
      "cell_type": "markdown",
      "source": [
        "Prompt: “Summarize this report.”"
      ],
      "metadata": {
        "id": "wzEwB54x_c1m"
      }
    },
    {
      "cell_type": "markdown",
      "source": [
        "| **Context Type** | **Is it Missing?** | **What Should Be Added?**                                                                                                  |\n",
        "| ---------------- | ------------------ | -------------------------------------------------------------------------------------------------------------------------- |\n",
        "| **Role**         | Yes                | Tell the AI to act as a financial analyst or business assistant.                                                           |\n",
        "| **Audience**     | Yes                | Specify that the summary is for executives, team leads, or stakeholders.                                                   |\n",
        "| **Purpose**      | Yes                | Clarify that the summary is for a **3-minute monthly finance update presentation**.                                        |\n",
        "| **Input Source** | No *(partial)*     | Assuming the report is provided — but clarify what kind of report (e.g., revenue, expenses, forecasts).                    |\n",
        "| **Format/Style** | Yes                | Request a structured summary with key figures (e.g., revenue, profit, YoY changes) in bullet points or slide-ready format. |\n",
        "| **Constraints**  | Yes                | Limit to 3 minutes spoken length (\\~300–400 words), focus only on highlights or top 3 takeaways.                           |\n"
      ],
      "metadata": {
        "id": "4KFv89WB_W6C"
      }
    },
    {
      "cell_type": "markdown",
      "source": [
        "New Prompt: \"Act as a financial analyst reviewing our monthly finance report.\n",
        "This summary is for a non-technical executive team attending a leadership meeting.\n",
        "Please highlight 3 key takeaways, each supported by relevant financial data (e.g., revenue, expenses, profit margins, YoY change).\n",
        "Format the output as slide-ready bullet points for a 3-minute spoken presentation. Keep the language clear, concise, and free of jargon.\""
      ],
      "metadata": {
        "id": "NMabloX-AE-H"
      }
    },
    {
      "cell_type": "markdown",
      "source": [
        "Exercise 4: Match Prompt to Purpose"
      ],
      "metadata": {
        "id": "tevEOYEnBQy4"
      }
    },
    {
      "cell_type": "markdown",
      "source": [
        "###  **Prompt (Conversational Style):**\n",
        "\n",
        "> You're a friendly customer support assistant for an e-commerce company. When a customer messages with a delivery issue, start with a warm greeting and a quick apology.\n",
        ">\n",
        "> Ask for the order number and delivery details politely.\n",
        "> Then offer clear, empathetic responses and next steps — whether it’s tracking the package, processing a refund, or escalating the issue.\n",
        "> Keep your tone reassuring, casual, and helpful. Example tone:\n",
        ">\n",
        "> “Oh no! That’s definitely not what we want. Let me make it right for you — can I grab your order number to check this out?”\n",
        ">\n",
        "> Only provide solutions based on what the customer shares. End with:\n",
        "> “Thanks so much for your patience — anything else I can help with today?”\n",
        "\n",
        "---\n",
        "\n",
        "###  **2 Key Features of the Conversational Style:**\n",
        "\n",
        "1. **Natural, empathetic tone** — mimics human interaction with phrases like “Oh no!” and “Let me make it right for you.”\n",
        "2. **Interactive flow** — encourages a two-way dialogue by asking follow-up questions and reacting to the customer’s input.\n",
        "\n",
        "---\n",
        "\n",
        "### **Why this style is best?**\n",
        "\n",
        "The **Conversational style** is perfect for customer support because it builds **trust and comfort**, especially when a user is already frustrated. Unlike **Structured** or **Functional** styles, which may sound robotic or rigid, a conversational approach feels **personal and human**, increasing customer satisfaction.\n",
        "\n",
        "Would you like the same example using a different style for comparison?\n"
      ],
      "metadata": {
        "id": "4MpFTcOiBReK"
      }
    },
    {
      "cell_type": "markdown",
      "source": [
        " Exercise 5: Prompt Refinement Challenge – Control the Style, Structure, and Length"
      ],
      "metadata": {
        "id": "F3Kmq0rQDyRZ"
      }
    },
    {
      "cell_type": "markdown",
      "metadata": {
        "id": "48ed1ba3"
      },
      "source": [
        "Here is a prompt to generate the product blurb:"
      ]
    },
    {
      "cell_type": "code",
      "metadata": {
        "colab": {
          "base_uri": "https://localhost:8080/"
        },
        "id": "8d3e78f3",
        "outputId": "c9bf5578-c943-4dde-a219-8e46bb5b1f12"
      },
      "source": [
        "prompt = \"\"\"\n",
        "You are a marketing copywriter for a wearable tech company.\n",
        "Write a product blurb for the new smartwatch, PulseOne Mini, with the following strict constraints:\n",
        "\n",
        "- Tone: Friendly and engaging.\n",
        "- Format: Exactly 3 bullet points.\n",
        "- Length: Do not exceed 50 words in total for the entire blurb (including bullet points).\n",
        "- Content: Must explicitly mention battery life, fitness tracking, and Bluetooth compatibility.\n",
        "\n",
        "Please provide ONLY the product blurb in bullet point format.\n",
        "\"\"\"\n",
        "\n",
        "print(prompt)"
      ],
      "execution_count": 1,
      "outputs": [
        {
          "output_type": "stream",
          "name": "stdout",
          "text": [
            "\n",
            "You are a marketing copywriter for a wearable tech company.\n",
            "Write a product blurb for the new smartwatch, PulseOne Mini, with the following strict constraints:\n",
            "\n",
            "- Tone: Friendly and engaging.\n",
            "- Format: Exactly 3 bullet points.\n",
            "- Length: Do not exceed 50 words in total for the entire blurb (including bullet points).\n",
            "- Content: Must explicitly mention battery life, fitness tracking, and Bluetooth compatibility.\n",
            "\n",
            "Please provide ONLY the product blurb in bullet point format.\n",
            "\n"
          ]
        }
      ]
    },
    {
      "cell_type": "markdown",
      "metadata": {
        "id": "4c838e8e"
      },
      "source": [
        "After running this prompt, evaluate the generated blurb based on these questions:\n",
        "\n",
        "1.  **Word Count:** Did the total word count of the generated blurb (including all text) stay at or below 50 words?\n",
        "2.  **Features Mentioned:** Were \"battery life\", \"fitness tracking\", and \"Bluetooth compatibility\" all explicitly mentioned in the blurb?\n",
        "3.  **Tone:** Does the blurb sound friendly and engaging?\n",
        "\n",
        "If the output doesn't meet all the constraints, you can revise the prompt by adding stronger emphasis on the constraints, like using bolding or repeating the constraint in different ways."
      ]
    },
    {
      "cell_type": "markdown",
      "source": [
        "Exercise 6: Hallucination Spotting and Mitigation"
      ],
      "metadata": {
        "id": "tBm4zCA5EMFb"
      }
    },
    {
      "cell_type": "markdown",
      "metadata": {
        "id": "d99a0bfe"
      },
      "source": [
        "Here is a prompt to summarize an article while minimizing hallucination:"
      ]
    },
    {
      "cell_type": "code",
      "metadata": {
        "colab": {
          "base_uri": "https://localhost:8080/"
        },
        "id": "63fa686d",
        "outputId": "78707088-a47e-4da4-9567-4c1c396f09ec"
      },
      "source": [
        "prompt = \"\"\"\n",
        "Summarize the following article on climate change and marine biodiversity.\n",
        "Adhere strictly to the information presented in the provided text.\n",
        "Only include claims explicitly stated in the article.\n",
        "If a piece of information is not present in the article, state that the information is not available based on the provided text.\n",
        "\n",
        "[Insert the text of the article here]\n",
        "\"\"\"\n",
        "\n",
        "print(prompt)"
      ],
      "execution_count": 2,
      "outputs": [
        {
          "output_type": "stream",
          "name": "stdout",
          "text": [
            "\n",
            "Summarize the following article on climate change and marine biodiversity.\n",
            "Adhere strictly to the information presented in the provided text.\n",
            "Only include claims explicitly stated in the article.\n",
            "If a piece of information is not present in the article, state that the information is not available based on the provided text.\n",
            "\n",
            "[Insert the text of the article here]\n",
            "\n"
          ]
        }
      ]
    },
    {
      "cell_type": "markdown",
      "metadata": {
        "id": "8148024c"
      },
      "source": [
        "### Mitigation Strategies to Reduce Hallucination Risk:\n",
        "\n",
        "1.  **Strict Instruction:** Explicitly instruct the model to only use the provided text and avoid introducing external information or making unverified claims.\n",
        "2.  **Verification Language:** Use phrases that emphasize accuracy and source adherence, such as \"Only include claims explicitly stated in the article\" and \"If uncertain, state that the information is not available.\""
      ]
    },
    {
      "cell_type": "markdown",
      "metadata": {
        "id": "2a038f41"
      },
      "source": [
        "### Professional Domains Where Hallucinations are Especially Risky:\n",
        "\n",
        "1.  **Healthcare:** Hallucinations in healthcare can lead to misdiagnoses, incorrect treatment plans, and potentially life-threatening consequences. Providing inaccurate medical information based on hallucinated data is extremely dangerous.\n",
        "2.  **Legal:** In the legal domain, hallucinated information can result in incorrect legal advice, flawed case strategies, and potentially lead to miscarriages of justice. Accuracy and adherence to established facts and legal precedents are paramount."
      ]
    }
  ]
}